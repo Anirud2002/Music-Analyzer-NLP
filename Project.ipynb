{
 "cells": [
  {
   "cell_type": "markdown",
   "metadata": {},
   "source": [
    "# Playlist Maker\n",
    "## Joseph Moore\n",
    "## Anirud Shrestha"
   ]
  },
  {
   "cell_type": "markdown",
   "metadata": {},
   "source": [
    "# Load in the data"
   ]
  },
  {
   "cell_type": "code",
   "execution_count": 1,
   "metadata": {},
   "outputs": [
    {
     "name": "stdout",
     "output_type": "stream",
     "text": [
      "Path to lyrics dataset: C:\\Users\\Joseph\\.cache\\kagglehub\\datasets\\carlosgdcj\\genius-song-lyrics-with-language-information\\versions\\1/song_lyrics.csv\n",
      "Path to lyrics dataset: C:\\Users\\Joseph\\.cache\\kagglehub\\datasets\\asifsadmine\\spotify-playlists-dataset\\versions\\1/spotify_dataset.csv\n"
     ]
    }
   ],
   "source": [
    "import kagglehub\n",
    "\n",
    "# Get lyrics dataset from Kaggle\n",
    "lyrics_path = kagglehub.dataset_download(\"carlosgdcj/genius-song-lyrics-with-language-information\") + '/song_lyrics.csv'\n",
    "\n",
    "print(\"Path to lyrics dataset:\", lyrics_path)\n",
    "\n",
    "# Get playlists dataset from Kaggle\n",
    "playlists_path = kagglehub.dataset_download(\"asifsadmine/spotify-playlists-dataset\") + '/spotify_dataset.csv'\n",
    "\n",
    "print(\"Path to lyrics dataset:\", playlists_path)"
   ]
  },
  {
   "cell_type": "code",
   "execution_count": 2,
   "metadata": {},
   "outputs": [
    {
     "data": {
      "text/html": [
       "<div>\n",
       "<style scoped>\n",
       "    .dataframe tbody tr th:only-of-type {\n",
       "        vertical-align: middle;\n",
       "    }\n",
       "\n",
       "    .dataframe tbody tr th {\n",
       "        vertical-align: top;\n",
       "    }\n",
       "\n",
       "    .dataframe thead th {\n",
       "        text-align: right;\n",
       "    }\n",
       "</style>\n",
       "<table border=\"1\" class=\"dataframe\">\n",
       "  <thead>\n",
       "    <tr style=\"text-align: right;\">\n",
       "      <th></th>\n",
       "      <th>title</th>\n",
       "      <th>tag</th>\n",
       "      <th>artist</th>\n",
       "      <th>year</th>\n",
       "      <th>views</th>\n",
       "      <th>features</th>\n",
       "      <th>lyrics</th>\n",
       "      <th>id</th>\n",
       "      <th>language_cld3</th>\n",
       "      <th>language_ft</th>\n",
       "      <th>language</th>\n",
       "    </tr>\n",
       "  </thead>\n",
       "  <tbody>\n",
       "    <tr>\n",
       "      <th>0</th>\n",
       "      <td>Killa Cam</td>\n",
       "      <td>rap</td>\n",
       "      <td>Cam'ron</td>\n",
       "      <td>2004</td>\n",
       "      <td>173166</td>\n",
       "      <td>{\"Cam\\\\'ron\",\"Opera Steve\"}</td>\n",
       "      <td>[Chorus: Opera Steve &amp; Cam'ron]\\nKilla Cam, Ki...</td>\n",
       "      <td>1</td>\n",
       "      <td>en</td>\n",
       "      <td>en</td>\n",
       "      <td>en</td>\n",
       "    </tr>\n",
       "    <tr>\n",
       "      <th>1</th>\n",
       "      <td>Can I Live</td>\n",
       "      <td>rap</td>\n",
       "      <td>JAY-Z</td>\n",
       "      <td>1996</td>\n",
       "      <td>468624</td>\n",
       "      <td>{}</td>\n",
       "      <td>[Produced by Irv Gotti]\\n\\n[Intro]\\nYeah, hah,...</td>\n",
       "      <td>3</td>\n",
       "      <td>en</td>\n",
       "      <td>en</td>\n",
       "      <td>en</td>\n",
       "    </tr>\n",
       "    <tr>\n",
       "      <th>2</th>\n",
       "      <td>Forgive Me Father</td>\n",
       "      <td>rap</td>\n",
       "      <td>Fabolous</td>\n",
       "      <td>2003</td>\n",
       "      <td>4743</td>\n",
       "      <td>{}</td>\n",
       "      <td>Maybe cause I'm eatin\\nAnd these bastards fien...</td>\n",
       "      <td>4</td>\n",
       "      <td>en</td>\n",
       "      <td>en</td>\n",
       "      <td>en</td>\n",
       "    </tr>\n",
       "    <tr>\n",
       "      <th>3</th>\n",
       "      <td>Down and Out</td>\n",
       "      <td>rap</td>\n",
       "      <td>Cam'ron</td>\n",
       "      <td>2004</td>\n",
       "      <td>144404</td>\n",
       "      <td>{\"Cam\\\\'ron\",\"Kanye West\",\"Syleena Johnson\"}</td>\n",
       "      <td>[Produced by Kanye West and Brian Miller]\\n\\n[...</td>\n",
       "      <td>5</td>\n",
       "      <td>en</td>\n",
       "      <td>en</td>\n",
       "      <td>en</td>\n",
       "    </tr>\n",
       "    <tr>\n",
       "      <th>4</th>\n",
       "      <td>Fly In</td>\n",
       "      <td>rap</td>\n",
       "      <td>Lil Wayne</td>\n",
       "      <td>2005</td>\n",
       "      <td>78271</td>\n",
       "      <td>{}</td>\n",
       "      <td>[Intro]\\nSo they ask me\\n\"Young boy\\nWhat you ...</td>\n",
       "      <td>6</td>\n",
       "      <td>en</td>\n",
       "      <td>en</td>\n",
       "      <td>en</td>\n",
       "    </tr>\n",
       "  </tbody>\n",
       "</table>\n",
       "</div>"
      ],
      "text/plain": [
       "               title  tag     artist  year   views  \\\n",
       "0          Killa Cam  rap    Cam'ron  2004  173166   \n",
       "1         Can I Live  rap      JAY-Z  1996  468624   \n",
       "2  Forgive Me Father  rap   Fabolous  2003    4743   \n",
       "3       Down and Out  rap    Cam'ron  2004  144404   \n",
       "4             Fly In  rap  Lil Wayne  2005   78271   \n",
       "\n",
       "                                       features  \\\n",
       "0                   {\"Cam\\\\'ron\",\"Opera Steve\"}   \n",
       "1                                            {}   \n",
       "2                                            {}   \n",
       "3  {\"Cam\\\\'ron\",\"Kanye West\",\"Syleena Johnson\"}   \n",
       "4                                            {}   \n",
       "\n",
       "                                              lyrics  id language_cld3  \\\n",
       "0  [Chorus: Opera Steve & Cam'ron]\\nKilla Cam, Ki...   1            en   \n",
       "1  [Produced by Irv Gotti]\\n\\n[Intro]\\nYeah, hah,...   3            en   \n",
       "2  Maybe cause I'm eatin\\nAnd these bastards fien...   4            en   \n",
       "3  [Produced by Kanye West and Brian Miller]\\n\\n[...   5            en   \n",
       "4  [Intro]\\nSo they ask me\\n\"Young boy\\nWhat you ...   6            en   \n",
       "\n",
       "  language_ft language  \n",
       "0          en       en  \n",
       "1          en       en  \n",
       "2          en       en  \n",
       "3          en       en  \n",
       "4          en       en  "
      ]
     },
     "execution_count": 2,
     "metadata": {},
     "output_type": "execute_result"
    }
   ],
   "source": [
    "import pandas as pd\n",
    "\n",
    "# Load in to dataframe\n",
    "df_lyrics = pd.read_csv(lyrics_path)\n",
    "df_lyrics.head()"
   ]
  },
  {
   "cell_type": "code",
   "execution_count": 3,
   "metadata": {},
   "outputs": [
    {
     "data": {
      "text/html": [
       "<div>\n",
       "<style scoped>\n",
       "    .dataframe tbody tr th:only-of-type {\n",
       "        vertical-align: middle;\n",
       "    }\n",
       "\n",
       "    .dataframe tbody tr th {\n",
       "        vertical-align: top;\n",
       "    }\n",
       "\n",
       "    .dataframe thead th {\n",
       "        text-align: right;\n",
       "    }\n",
       "</style>\n",
       "<table border=\"1\" class=\"dataframe\">\n",
       "  <thead>\n",
       "    <tr style=\"text-align: right;\">\n",
       "      <th></th>\n",
       "      <th>user_id</th>\n",
       "      <th>\"artistname\"</th>\n",
       "      <th>\"trackname\"</th>\n",
       "      <th>\"playlistname\"</th>\n",
       "    </tr>\n",
       "  </thead>\n",
       "  <tbody>\n",
       "    <tr>\n",
       "      <th>0</th>\n",
       "      <td>9cc0cfd4d7d7885102480dd99e7a90d6</td>\n",
       "      <td>Elvis Costello</td>\n",
       "      <td>(The Angels Wanna Wear My) Red Shoes</td>\n",
       "      <td>HARD ROCK 2010</td>\n",
       "    </tr>\n",
       "    <tr>\n",
       "      <th>1</th>\n",
       "      <td>9cc0cfd4d7d7885102480dd99e7a90d6</td>\n",
       "      <td>Elvis Costello &amp; The Attractions</td>\n",
       "      <td>(What's So Funny 'Bout) Peace, Love And Unders...</td>\n",
       "      <td>HARD ROCK 2010</td>\n",
       "    </tr>\n",
       "    <tr>\n",
       "      <th>2</th>\n",
       "      <td>9cc0cfd4d7d7885102480dd99e7a90d6</td>\n",
       "      <td>Tiffany Page</td>\n",
       "      <td>7 Years Too Late</td>\n",
       "      <td>HARD ROCK 2010</td>\n",
       "    </tr>\n",
       "    <tr>\n",
       "      <th>3</th>\n",
       "      <td>9cc0cfd4d7d7885102480dd99e7a90d6</td>\n",
       "      <td>Elvis Costello &amp; The Attractions</td>\n",
       "      <td>Accidents Will Happen</td>\n",
       "      <td>HARD ROCK 2010</td>\n",
       "    </tr>\n",
       "    <tr>\n",
       "      <th>4</th>\n",
       "      <td>9cc0cfd4d7d7885102480dd99e7a90d6</td>\n",
       "      <td>Elvis Costello</td>\n",
       "      <td>Alison</td>\n",
       "      <td>HARD ROCK 2010</td>\n",
       "    </tr>\n",
       "  </tbody>\n",
       "</table>\n",
       "</div>"
      ],
      "text/plain": [
       "                            user_id                      \"artistname\"  \\\n",
       "0  9cc0cfd4d7d7885102480dd99e7a90d6                    Elvis Costello   \n",
       "1  9cc0cfd4d7d7885102480dd99e7a90d6  Elvis Costello & The Attractions   \n",
       "2  9cc0cfd4d7d7885102480dd99e7a90d6                      Tiffany Page   \n",
       "3  9cc0cfd4d7d7885102480dd99e7a90d6  Elvis Costello & The Attractions   \n",
       "4  9cc0cfd4d7d7885102480dd99e7a90d6                    Elvis Costello   \n",
       "\n",
       "                                         \"trackname\"  \"playlistname\"  \n",
       "0               (The Angels Wanna Wear My) Red Shoes  HARD ROCK 2010  \n",
       "1  (What's So Funny 'Bout) Peace, Love And Unders...  HARD ROCK 2010  \n",
       "2                                   7 Years Too Late  HARD ROCK 2010  \n",
       "3                              Accidents Will Happen  HARD ROCK 2010  \n",
       "4                                             Alison  HARD ROCK 2010  "
      ]
     },
     "execution_count": 3,
     "metadata": {},
     "output_type": "execute_result"
    }
   ],
   "source": [
    "# Load in to dataframe\n",
    "df_playlists = pd.read_csv(playlists_path, on_bad_lines='skip')\n",
    "df_playlists.head()"
   ]
  },
  {
   "cell_type": "markdown",
   "metadata": {},
   "source": [
    "# Clean the data"
   ]
  },
  {
   "cell_type": "code",
   "execution_count": 4,
   "metadata": {},
   "outputs": [],
   "source": [
    "import re\n",
    "\n",
    "def clean_lyrics(input_str):\n",
    "    # Remove content within square brackets, including brackets\n",
    "    no_brackets = re.sub(r'\\[.*?\\]', '', input_str)\n",
    "    # Remove all newline characters\n",
    "    cleaned = no_brackets.replace('\\n', ' ')\n",
    "    return cleaned\n",
    "\n",
    "df_lyrics['lyrics'] = [clean_lyrics(lyrics) for lyrics in df_lyrics['lyrics']]"
   ]
  },
  {
   "cell_type": "code",
   "execution_count": 5,
   "metadata": {},
   "outputs": [
    {
     "data": {
      "text/plain": [
       "0     Killa Cam, Killa Cam, Cam Killa Cam, Killa Ca...\n",
       "1       Yeah, hah, yeah, Roc-A-Fella We invite you ...\n",
       "2    Maybe cause I'm eatin And these bastards fiend...\n",
       "3       Ugh, Killa! Baby! Kanye, this that 1970s He...\n",
       "4     So they ask me \"Young boy What you gon' do th...\n",
       "5     Haha Uh-huh No homo (Young Mula, baby!) I say...\n",
       "6     No, no, no! I told you, I lived this shit I a...\n",
       "7     Killa, Dipset Man I spit that pimp talk, you ...\n",
       "8     Ay yo you wonder who I are I guzzle up at the...\n",
       "9     Now Lord you know, just how hard I try To liv...\n",
       "Name: lyrics, dtype: object"
      ]
     },
     "execution_count": 5,
     "metadata": {},
     "output_type": "execute_result"
    }
   ],
   "source": [
    "df_lyrics['lyrics'][0:10]"
   ]
  },
  {
   "cell_type": "code",
   "execution_count": 6,
   "metadata": {},
   "outputs": [],
   "source": [
    "# Rename all columns at once\n",
    "df_playlists.columns = ['user_id', 'artist', 'title', 'playlist_name']"
   ]
  },
  {
   "cell_type": "code",
   "execution_count": 7,
   "metadata": {},
   "outputs": [],
   "source": [
    "df_lyrics = df_lyrics[['title','artist','lyrics']]\n",
    "df_lyrics.drop_duplicates(inplace=True)\n",
    "df_lyrics.dropna(inplace=True)"
   ]
  },
  {
   "cell_type": "code",
   "execution_count": 8,
   "metadata": {},
   "outputs": [],
   "source": [
    "df_playlists.drop_duplicates(inplace=True)\n",
    "df_playlists.dropna(inplace=True)"
   ]
  },
  {
   "cell_type": "code",
   "execution_count": 9,
   "metadata": {},
   "outputs": [
    {
     "data": {
      "text/html": [
       "<div>\n",
       "<style scoped>\n",
       "    .dataframe tbody tr th:only-of-type {\n",
       "        vertical-align: middle;\n",
       "    }\n",
       "\n",
       "    .dataframe tbody tr th {\n",
       "        vertical-align: top;\n",
       "    }\n",
       "\n",
       "    .dataframe thead th {\n",
       "        text-align: right;\n",
       "    }\n",
       "</style>\n",
       "<table border=\"1\" class=\"dataframe\">\n",
       "  <thead>\n",
       "    <tr style=\"text-align: right;\">\n",
       "      <th></th>\n",
       "      <th>user_id</th>\n",
       "      <th>artist</th>\n",
       "      <th>title</th>\n",
       "      <th>playlist_name</th>\n",
       "      <th>lyrics</th>\n",
       "    </tr>\n",
       "  </thead>\n",
       "  <tbody>\n",
       "    <tr>\n",
       "      <th>0</th>\n",
       "      <td>9cc0cfd4d7d7885102480dd99e7a90d6</td>\n",
       "      <td>Elvis Costello</td>\n",
       "      <td>Alison</td>\n",
       "      <td>HARD ROCK 2010</td>\n",
       "      <td>Oh, it's so funny to be seeing you after so l...</td>\n",
       "    </tr>\n",
       "    <tr>\n",
       "      <th>1</th>\n",
       "      <td>9cc0cfd4d7d7885102480dd99e7a90d6</td>\n",
       "      <td>Lissie</td>\n",
       "      <td>All Be Okay</td>\n",
       "      <td>HARD ROCK 2010</td>\n",
       "      <td>I'm gonna break down the walls That keep us f...</td>\n",
       "    </tr>\n",
       "    <tr>\n",
       "      <th>2</th>\n",
       "      <td>9cc0cfd4d7d7885102480dd99e7a90d6</td>\n",
       "      <td>Lissie</td>\n",
       "      <td>Bright Side</td>\n",
       "      <td>HARD ROCK 2010</td>\n",
       "      <td>It's just me and my puppy Together we're so ve...</td>\n",
       "    </tr>\n",
       "    <tr>\n",
       "      <th>3</th>\n",
       "      <td>9cc0cfd4d7d7885102480dd99e7a90d6</td>\n",
       "      <td>Paul McCartney</td>\n",
       "      <td>Dance Tonight</td>\n",
       "      <td>HARD ROCK 2010</td>\n",
       "      <td>Everybody gonna dance tonight Everybody gonna...</td>\n",
       "    </tr>\n",
       "    <tr>\n",
       "      <th>4</th>\n",
       "      <td>9cc0cfd4d7d7885102480dd99e7a90d6</td>\n",
       "      <td>Lissie</td>\n",
       "      <td>Everywhere I Go</td>\n",
       "      <td>HARD ROCK 2010</td>\n",
       "      <td>And I'll fall on my knees Tell me how's the wa...</td>\n",
       "    </tr>\n",
       "  </tbody>\n",
       "</table>\n",
       "</div>"
      ],
      "text/plain": [
       "                            user_id          artist            title  \\\n",
       "0  9cc0cfd4d7d7885102480dd99e7a90d6  Elvis Costello           Alison   \n",
       "1  9cc0cfd4d7d7885102480dd99e7a90d6          Lissie      All Be Okay   \n",
       "2  9cc0cfd4d7d7885102480dd99e7a90d6          Lissie      Bright Side   \n",
       "3  9cc0cfd4d7d7885102480dd99e7a90d6  Paul McCartney    Dance Tonight   \n",
       "4  9cc0cfd4d7d7885102480dd99e7a90d6          Lissie  Everywhere I Go   \n",
       "\n",
       "    playlist_name                                             lyrics  \n",
       "0  HARD ROCK 2010   Oh, it's so funny to be seeing you after so l...  \n",
       "1  HARD ROCK 2010   I'm gonna break down the walls That keep us f...  \n",
       "2  HARD ROCK 2010  It's just me and my puppy Together we're so ve...  \n",
       "3  HARD ROCK 2010   Everybody gonna dance tonight Everybody gonna...  \n",
       "4  HARD ROCK 2010  And I'll fall on my knees Tell me how's the wa...  "
      ]
     },
     "execution_count": 9,
     "metadata": {},
     "output_type": "execute_result"
    }
   ],
   "source": [
    "df_merged = pd.merge(df_playlists, df_lyrics, on=['title', 'artist'], how='inner')\n",
    "df_merged.head()"
   ]
  },
  {
   "cell_type": "code",
   "execution_count": 41,
   "metadata": {},
   "outputs": [
    {
     "name": "stdout",
     "output_type": "stream",
     "text": [
      "cuda\n"
     ]
    }
   ],
   "source": [
    "from tqdm.notebook import tqdm\n",
    "from transformers import BertTokenizer, BertModel\n",
    "import torch\n",
    "\n",
    "tokenizer = BertTokenizer.from_pretrained('gaunernst/bert-mini-uncased')\n",
    "model = BertModel.from_pretrained('gaunernst/bert-mini-uncased')\n",
    "\n",
    "device = torch.device(\"cuda\" if torch.cuda.is_available() else \"cpu\")\n",
    "print(device)\n",
    "model = model.to(device)\n",
    "\n",
    "def encode_text(batch):\n",
    "    \"\"\"\n",
    "    Encodes a line of text into a vector\n",
    "    \"\"\"\n",
    "\n",
    "    inputs = tokenizer(batch, return_tensors=\"pt\", padding=True, truncation=True, max_length=128)\n",
    "    inputs = {k: v.to(device) for k, v in inputs.items()}\n",
    "\n",
    "    vectors = []\n",
    "    with torch.no_grad():\n",
    "        outputs = model(**inputs)\n",
    "\n",
    "    cls_embeddings = outputs.last_hidden_state[:, 0, :]\n",
    "    vectors.append(cls_embeddings.cpu())\n",
    "\n",
    "    return torch.cat(vectors, dim=0)"
   ]
  },
  {
   "cell_type": "code",
   "execution_count": 42,
   "metadata": {},
   "outputs": [
    {
     "data": {
      "application/vnd.jupyter.widget-view+json": {
       "model_id": "f51bd7b1027c4b53a49f7f92c37f4fdd",
       "version_major": 2,
       "version_minor": 0
      },
      "text/plain": [
       "  0%|          | 0/746 [00:00<?, ?it/s]"
      ]
     },
     "metadata": {},
     "output_type": "display_data"
    },
    {
     "name": "stdout",
     "output_type": "stream",
     "text": [
      "[-0.757935643196106, -0.0357784703373909, -1.2606619596481323, -0.5978557467460632, -0.3308747708797455, 0.10881329327821732, -1.6625759601593018, -0.563607394695282, -3.5175225734710693, 0.301069438457489, -1.2160601615905762, -0.32322120666503906, 0.357136607170105, -0.27971139550209045, -0.2653868794441223, 0.689074695110321, 0.3273683786392212, 0.9976625442504883, -0.3996722400188446, 0.5254889726638794, -1.0635364055633545, 1.0739496946334839, -0.32913100719451904, 0.2186608761548996, 0.8058212399482727, 0.012819822877645493, 0.5500505566596985, -0.5621808767318726, 1.3275530338287354, -0.69166100025177, -0.9676020741462708, 0.6744697690010071, 0.5952457785606384, -0.9756777286529541, 0.4613334536552429, 0.22186844050884247, -0.8597197532653809, -0.13103675842285156, 0.287737637758255, 0.5063323974609375, -0.520716667175293, -0.20049525797367096, 1.254928708076477, -0.24661561846733093, 0.27265071868896484, 1.5605435371398926, 0.5645369291305542, -0.04105979949235916, 1.2643070220947266, 1.178294062614441, -0.9108592867851257, 1.1253763437271118, 0.4927981495857239, 2.299504041671753, 0.09469052404165268, -1.2866114377975464, -0.38793912529945374, 0.3748103380203247, -1.0935215950012207, -0.43772321939468384, 0.6454215049743652, -0.2036122828722, -0.916019856929779, -0.06894765049219131, 0.37573763728141785, 0.62760329246521, 0.290580153465271, -0.3677889406681061, 0.5852857828140259, 0.6992993950843811, 0.18933868408203125, -0.5236857533454895, 0.5013361573219299, 1.0468002557754517, 1.5634840726852417, -0.5448365807533264, 1.089722990989685, -0.017696598544716835, -1.7936152219772339, -0.07149464637041092, 0.6748543977737427, -0.6311531066894531, -0.556974470615387, 0.3667556047439575, 0.04917379841208458, -0.5593841075897217, 0.9716796278953552, 0.13171833753585815, -0.7894992232322693, 0.2846432030200958, -0.6298543214797974, -0.503973662853241, 0.3470971882343292, -0.319700688123703, 0.5057606101036072, 1.6927167177200317, 0.10443540662527084, 0.12193839251995087, -0.3730580508708954, -0.9633994102478027, 0.5080578923225403, -0.7216786742210388, -0.3489473760128021, 0.6276678442955017, -0.11392773687839508, -1.3823555707931519, -0.8622024655342102, 0.7070154547691345, -0.23246483504772186, -1.9296042919158936, 0.14254474639892578, 1.072416067123413, -1.4324103593826294, 0.3234863877296448, 0.8410502672195435, 0.15659289062023163, -0.24694548547267914, -0.667322039604187, 1.0509672164916992, 1.3464806079864502, -0.2721068561077118, -0.6048370599746704, -3.3059213161468506, -0.7377177476882935, -1.1831355094909668, 0.6140441298484802, 0.2376190721988678, 0.9485344886779785, 0.5202438831329346, 0.5652720332145691, 0.7544935345649719, -0.2588772475719452, -0.20686066150665283, -0.6233968734741211, 1.6396307945251465, -0.5085366368293762, -0.4356502890586853, -0.48819923400878906, -1.2530839443206787, -0.23458723723888397, 1.3435893058776855, 0.17401152849197388, -0.11380836367607117, 0.5651919841766357, 0.15625149011611938, 0.13794636726379395, 0.8491426110267639, 0.9970014691352844, -1.217903733253479, 0.018213419243693352, 0.5547763705253601, -1.05707848072052, 0.023261956870555878, -0.039997734129428864, 0.43846395611763, -0.7863032817840576, -0.08433125913143158, 0.39313793182373047, 1.0290008783340454, 0.41938263177871704, 0.659471869468689, -0.1381712257862091, 0.24100376665592194, -2.139012336730957, 0.8563156723976135, -0.5881195664405823, -0.6867973208427429, 0.21250087022781372, -0.39533382654190063, -0.6766477227210999, 1.1933493614196777, 0.4725606143474579, 4.09811544418335, -0.3011222183704376, -0.3344186246395111, 0.015064301900565624, -1.0578702688217163, -0.3851134181022644, 0.7041885256767273, 1.350076675415039, 0.3185655176639557, 0.2721266448497772, 0.5243317484855652, -0.3310188055038452, 1.4412291049957275, -0.23094552755355835, -0.13598719239234924, -0.5682911276817322, 0.3883819282054901, -0.03801541402935982, -2.904597282409668, 0.7401273846626282, -0.056711774319410324, -1.2872222661972046, -0.05588134378194809, -0.16473402082920074, -0.48205578327178955, 0.19743885099887848, -0.40159741044044495, 0.1749814748764038, -1.3641546964645386, -0.4203544855117798, -0.11038263887166977, 0.3392402231693268, -1.1077905893325806, 0.9535427093505859, 0.3829280138015747, -0.7483693361282349, 0.49285024404525757, 0.07922670990228653, -0.1405077427625656, 0.10049311816692352, 0.871329665184021, -0.6580815315246582, -1.2032746076583862, -0.090410977602005, -1.7605814933776855, 0.30324286222457886, 0.9717546105384827, 0.21292950212955475, 0.037553880363702774, -0.10322774946689606, -0.43093809485435486, -1.6514524221420288, -1.5034319162368774, 0.2355753779411316, 0.828545331954956, 1.2723348140716553, 0.4284099340438843, -0.16166013479232788, -0.5100051760673523, 0.053959671407938004, 1.3257976770401, 0.4769344925880432, 0.340832382440567, 0.15616947412490845, -1.402168869972229, -0.11434322595596313, -0.9449218511581421, 0.6660066843032837, -1.0255553722381592, -0.8342410326004028, -1.345655083656311, -1.5366185903549194, -1.3115503787994385, -0.6068909168243408, 2.2243034839630127, -1.128655195236206, -1.3420913219451904, 1.1584752798080444, 0.16273733973503113, 1.454246997833252, 0.14092741906642914, 0.19142718613147736, 0.23211416602134705, -0.503984272480011, -0.06737538427114487, -1.0360358953475952, 0.6682941913604736, -0.5412715077400208, 0.9894043803215027, -0.169846773147583, 0.07354886084794998, 0.9913407564163208, -3.4352879524230957, 0.04855667054653168, -1.4810506105422974, -0.27449631690979004, 1.555375099182129, 0.6968528628349304, 0.8384250998497009, 0.8193503618240356, -1.5006579160690308, -0.34046924114227295, -0.8743298649787903, -0.303974449634552, -0.2501463294029236, 1.2892570495605469, -0.29352736473083496, 0.08073344081640244, -0.2613980174064636, -0.5805825591087341, 0.4855250418186188, -0.7456373572349548, 1.042886734008789, -0.07379914820194244, 0.06434810161590576, 2.222362756729126, 1.0259469747543335, -0.047257762402296066, -0.010787347331643105, -0.15218518674373627, -0.822912871837616, -0.21798452734947205, -1.261962652206421, -0.376526415348053, -1.0115493535995483, 0.8617035150527954, 1.908964991569519, -1.5598117113113403, 1.2939891815185547, 1.0808948278427124, 0.024148009717464447, -0.3358082175254822, -0.09570084512233734, 1.3678860664367676, 0.04556693881750107, 0.5717870593070984, 0.8440201878547668, 2.32835054397583, 0.6096767783164978, -0.4102236330509186, -0.6611009240150452, 1.3257001638412476, -0.6325492858886719, 0.46933528780937195, 0.6335886716842651, 0.3112741708755493, 0.21194489300251007, -0.28424108028411865, -0.1959034651517868, 1.6297550201416016, 0.7885583639144897, -0.0006026917835697532, 0.06124245002865791, -0.717635452747345, 0.6155819296836853, 0.6620945334434509, -0.07619220018386841, 0.7512437701225281, -0.01081438735127449, -0.3714468777179718, 0.08433113247156143, 0.23192988336086273, 0.029890095815062523, 0.9535980224609375, 0.5339468121528625, -1.1294516324996948, 0.5151360034942627, -1.5038124322891235, 1.3029779195785522, -1.596628189086914, 0.680169403553009, -0.7766540050506592, -0.6709782481193542, 2.0692734718322754, 0.04892720282077789, -0.5134154558181763, -0.1353076696395874, 0.6351088285446167, -0.2860335111618042, 0.7202762961387634, 0.19199317693710327, -0.8257713317871094, 0.23951156437397003, 0.36587226390838623, 1.4837298393249512, -0.05324498936533928, -0.5731558203697205, -0.5972808003425598, -0.125560462474823, -0.5651034712791443, -0.05142629146575928, 0.9608408212661743, 0.33662763237953186, -0.7681639194488525, -0.45930615067481995, 0.43198683857917786, -0.39407584071159363, -0.5546674132347107, 1.4361026287078857, -0.5543424487113953, -1.1123167276382446, -1.4662458896636963, -0.08552747219800949, 0.20790795981884003, -0.1646900326013565, -2.6187922954559326, -3.0024073123931885, -0.3762145936489105, -1.691369891166687, 0.6495316028594971, 0.2861301600933075, 0.8307267427444458, 0.7094976902008057, -0.11159226298332214, 0.07044968754053116, -0.11944733560085297, -0.8295727372169495, -0.6018429398536682, 1.0610569715499878, 1.1125468015670776, 0.14975300431251526, 1.2127825021743774, -0.6031854748725891, -0.606430172920227, 1.9861763715744019, -0.004699812736362219, -1.2063709497451782, 1.328449010848999, 0.8983781337738037, 0.19858120381832123, 1.0096720457077026, 0.1927056461572647, 0.04456046596169472, -0.3519645631313324, -0.3364032804965973, -0.6237074136734009, -0.07992707937955856, -0.1613546460866928, 0.9346411824226379, -0.6043677926063538, 0.3907809853553772, -0.21552510559558868, 1.565048098564148, 0.21850347518920898, 0.2658921778202057, 0.6096370816230774, -0.17837932705879211, -2.226654052734375, 0.05069524794816971, -0.8207671642303467, 1.5470058917999268, -0.39196208119392395, -0.2487117499113083, -0.38385283946990967, 0.24516841769218445, 0.9748539924621582, 2.9387857913970947, -1.8287240266799927, 0.12315435707569122, -0.5050280690193176, -1.2832359075546265, -0.8051023483276367, -0.6468343138694763, 0.3689926266670227, -0.0488777756690979, 0.33244460821151733, -0.8679530024528503, 0.5970885753631592, 1.1512038707733154, 0.2039037048816681, 1.151633381843567, 0.032557763159275055, -0.19466803967952728, 0.4561397433280945, -3.2473666667938232, -0.13680106401443481, 0.6244513988494873, 0.9181041717529297, -0.05606554448604584, 0.21974904835224152, -0.7475426197052002, 0.35307902097702026, -1.7259620428085327, 0.12350539863109589, -0.886669397354126, -0.5311600565910339, 0.40709301829338074, -0.28016242384910583, -0.3561205565929413, -0.3670591115951538, -0.12628409266471863, -1.2884169816970825, -0.5014645457267761, -0.16472865641117096, 0.6070829033851624, -1.0206830501556396, 0.5481573939323425, 0.5378904342651367, 0.9516724944114685, -0.4636429250240326, -0.9432477355003357, 0.23689520359039307, 0.2115820348262787, 0.3804161548614502, 0.13674978911876678, -0.33570948243141174, 0.006569052115082741, -0.5385178327560425, -1.148979902267456, 0.20035697519779205, 0.13955757021903992, 1.1110429763793945, -0.15406934916973114, -0.33519864082336426, -0.8895087242126465, 0.4488261938095093, -0.640642523765564, 0.033347222954034805, 0.03134184330701828, 0.6805155873298645, -1.036461353302002, -1.1270934343338013, -0.6746320724487305, 0.48403656482696533, -0.5807690620422363, 0.3219798505306244, -2.7481977939605713, -0.9904475212097168, -0.598777174949646, -0.9839221835136414, 0.38919684290885925, 0.7489245533943176, -0.5930495858192444, 0.035167306661605835, -0.6068036556243896, 0.027223339304327965, -0.3174058198928833, -1.254446029663086, -0.027315307408571243, -0.48581594228744507, -0.3658902645111084, -0.09265551716089249, 0.9774640202522278, 0.6551918983459473, 0.44074323773384094, -0.11430132389068604, -0.7528818845748901, 0.16699257493019104, -3.854571580886841, -0.25949162244796753, 0.1413196623325348, 0.7507089972496033, 1.7704061269760132, 0.33315563201904297, 0.37295395135879517, 0.9860002398490906, 0.39424291253089905, 0.9306583404541016, -0.2798829972743988, 0.422107458114624, -0.7254615426063538, 1.210493564605713, -0.5353966355323792, -0.19533516466617584, 0.6867775321006775, -0.04494396224617958, 0.8140071630477905, -0.323097825050354, 1.1833480596542358, -0.39206811785697937, 0.4013097584247589, 2.2890634536743164, 0.8435969352722168, -0.3461090326309204, 0.4901374280452728, 0.3359517753124237, -0.5684508085250854, -0.24188132584095, -1.375392198562622, -1.4626020193099976, -0.9275494813919067, 0.06516460329294205, 0.3616575300693512, -0.7696694135665894, 0.35994893312454224, 0.7305603623390198, 0.5431222915649414, 0.06310489773750305, -0.6550547480583191, 0.0010505621321499348, 0.9233300685882568, 1.578665852546692, 0.1913072168827057, 1.2662221193313599, -0.28070586919784546, -0.5942212343215942, -1.0681012868881226, -0.008489318192005157, -0.3636152148246765, 0.8882405757904053, 0.2987810969352722, -0.9003156423568726, 0.41365256905555725, -1.385040044784546, -0.27201858162879944, 0.9467505812644958, 0.07632024586200714, -0.04220999777317047, -0.24687427282333374, -0.28651583194732666, -0.3873024582862854, 0.46502193808555603, -0.5676212906837463, 0.19167017936706543, 0.0923071876168251, -1.522608757019043, 0.24355721473693848, 0.27974608540534973, -0.20517560839653015, 0.8644509315490723, 0.12172911316156387, -1.1338980197906494, -0.45257437229156494, -0.8062900304794312, 1.27005136013031, -0.5988081097602844, 1.031448245048523, -0.16528108716011047, -0.8461624383926392, 1.5202895402908325, -0.629387617111206, 0.5217110514640808, 0.9562872648239136, 0.5037384629249573, -0.6999161243438721, 0.12825937569141388, -0.2964135408401489, -1.2251777648925781, -0.6316232085227966, 0.9023516774177551, 0.27023738622665405, -0.22444888949394226, -0.6135554909706116, 0.22874976694583893, -0.5358396768569946, -1.1239732503890991, 0.23167024552822113, 0.10761743038892746, -1.107858419418335, -0.5175492763519287, -0.7353137731552124, 0.6955201029777527, 0.45140716433525085, 0.767111599445343, 1.4466689825057983, -1.4809304475784302, -1.5767037868499756, -1.581055760383606, 0.1374468058347702, 0.16733145713806152, -0.8184617757797241, -2.2797229290008545, -2.9400317668914795, -1.2192226648330688, -0.4504724144935608, 0.35983791947364807, 0.8238725066184998, 0.6540563702583313, 0.06914158165454865, 0.7376221418380737, 0.6522949934005737, 0.33458155393600464, -0.9560429453849792, -0.1805601418018341, 0.43891215324401855, -0.605889618396759, 0.4879729449748993, 0.8701081871986389, -1.551729440689087, -0.2488580048084259, 0.6307797431945801, 0.5060082077980042, 0.6461483836174011, 1.0663390159606934, 0.747300922870636, 0.9787734746932983, -0.005197678226977587, 0.5047591924667358, -0.14167678356170654, -0.9563913941383362, -0.45145994424819946, -0.7260833382606506, -0.5772177577018738, 0.3737141489982605, 0.745756983757019, 0.41968613862991333, -0.20789605379104614, -0.4556838870048523, 1.6302003860473633, 1.1265478134155273, -0.02677386812865734, 0.4942573308944702, 1.0819467306137085, -2.254643440246582, -0.5248749852180481, -1.4451898336410522, 0.648994505405426, 1.032056212425232, -1.3801361322402954, -0.5464445352554321, 0.8822756409645081, 0.22316373884677887, 5.204812526702881, -0.52372807264328, 0.07775794714689255, 0.23636314272880554, -0.1648034006357193, 0.07201185077428818, 0.4725850224494934, -0.12884634733200073, 0.16705529391765594, -0.2469971626996994, -0.6826095581054688, 0.8945207595825195, 0.13525646924972534, -0.4156879782676697, 0.9148125052452087, -0.21773125231266022, -0.3020097017288208, -0.028604118153452873, -3.8947150707244873, 0.9807683229446411, -0.7651703357696533, 0.5441104769706726, 0.01001225970685482, 0.00579985324293375, 0.5844694375991821, -0.437696248292923, -0.4436037838459015, -0.08648011088371277, -0.3514428436756134, -0.5095793008804321, 0.952696681022644, 0.9926199316978455, -0.2889086604118347, -0.02261257916688919, -0.19223491847515106, -1.776139259338379, 0.23816192150115967, -0.023730140179395676, 1.3086997270584106, -0.863448977470398, -0.05822579562664032, 0.41474080085754395, 0.9556369781494141, -0.45229512453079224, 0.28323954343795776, 0.6314984560012817, 0.3575049340724945, 0.28207579255104065, -0.5120420455932617, 0.6772807836532593, -0.6091524362564087, -0.22475966811180115, -1.5701264142990112, -0.3852763772010803, -0.12992165982723236, -0.6396656036376953, -0.4471755623817444, 0.23256263136863708, -0.8646190166473389, -0.39751943945884705, -1.0226982831954956, -0.051050297915935516, -0.21562179923057556, -0.3462899625301361, -0.6088849902153015, 0.06156625971198082, -0.13178052008152008, -0.06153865158557892, -0.5105018615722656, -0.27854734659194946, -0.8851698637008667, -2.128955125808716, -0.19615674018859863, -0.6926398277282715, 0.3229486346244812, 0.858741283416748, -0.4975937306880951, 0.7651959657669067, 0.18490980565547943, 0.7790993452072144, 0.6806671619415283, -1.8817850351333618, 0.32023462653160095, -0.1437074989080429]\n"
     ]
    }
   ],
   "source": [
    "sampled_df = df_merged.sample(frac = 0.01)\n",
    "\n",
    "playlist_names = sampled_df['playlist_name'].values\n",
    "titles = sampled_df['title'].values\n",
    "lyrics = sampled_df['lyrics'].values\n",
    "\n",
    "pos_title_vectors = []\n",
    "pos_lyrics_vectors = []\n",
    "pos_vectors = []\n",
    "\n",
    "batch_size = 64\n",
    "for i in tqdm(range(0, len(sampled_df), batch_size)):\n",
    "    playlist_vecs = encode_text(list(playlist_names[i:i+batch_size]))\n",
    "    title_vecs = encode_text(list(titles[i:i+batch_size]))\n",
    "    lyrics_vecs = encode_text(list(lyrics[i:i+batch_size]))\n",
    "    for j in range(len(playlist_vecs)):\n",
    "        pos_vectors.append(playlist_vecs[j].tolist() + title_vecs[j].tolist() + lyrics_vecs[j].tolist())\n",
    "\n",
    "print(pos_vectors[0])"
   ]
  },
  {
   "cell_type": "code",
   "execution_count": 44,
   "metadata": {},
   "outputs": [],
   "source": [
    "def get_negative_examples(df, current_playlist, n=2):\n",
    "    \"\"\"\n",
    "    Returns n negative examples (rows) where playlist_name != current_playlist\n",
    "    \"\"\"\n",
    "    samples = df.sample(n=n)\n",
    "    while (current_playlist in samples['playlist_name']):\n",
    "        samples = df.sample(n=n)\n",
    "    return samples"
   ]
  },
  {
   "cell_type": "code",
   "execution_count": 45,
   "metadata": {},
   "outputs": [
    {
     "data": {
      "application/vnd.jupyter.widget-view+json": {
       "model_id": "562397b008fd4bd8a78b3587fc914693",
       "version_major": 2,
       "version_minor": 0
      },
      "text/plain": [
       "  0%|          | 0/47704 [00:00<?, ?it/s]"
      ]
     },
     "metadata": {},
     "output_type": "display_data"
    }
   ],
   "source": [
    "neg_sample_titles = []\n",
    "neg_sample_lyrics = []\n",
    "neg_sample_playlists = []\n",
    "\n",
    "for i in tqdm(range(len(sampled_df))):\n",
    "    row = sampled_df.iloc[i]\n",
    "    current_playlist = row['playlist_name']\n",
    "    samples = get_negative_examples(sampled_df, current_playlist)\n",
    "\n",
    "    sample_titles = list(samples['title'])\n",
    "    sample_lyrics = list(samples['lyrics'])\n",
    "\n",
    "    for j in range(len(samples)):\n",
    "        neg_sample_titles.append(sample_titles[j])\n",
    "        neg_sample_lyrics.append(sample_lyrics[j])\n",
    "        neg_sample_playlists.append(current_playlist)"
   ]
  },
  {
   "cell_type": "code",
   "execution_count": 46,
   "metadata": {},
   "outputs": [
    {
     "data": {
      "application/vnd.jupyter.widget-view+json": {
       "model_id": "101cc4c62f7d4a898efe1ade0269e026",
       "version_major": 2,
       "version_minor": 0
      },
      "text/plain": [
       "  0%|          | 0/1491 [00:00<?, ?it/s]"
      ]
     },
     "metadata": {},
     "output_type": "display_data"
    }
   ],
   "source": [
    "neg_title_vectors = []\n",
    "neg_lyric_vectors = []\n",
    "neg_vectors = []\n",
    "for i in tqdm(range(0, len(neg_sample_titles), batch_size)):\n",
    "    playlist_vecs = encode_text(list(neg_sample_playlists[i:i+batch_size]))\n",
    "    title_vecs = encode_text(list(neg_sample_titles[i:i+batch_size]))\n",
    "    lyric_vecs = encode_text(list(neg_sample_lyrics[i:i+batch_size]))\n",
    "    for j in range(len(playlist_vecs)):\n",
    "        neg_vectors.append(playlist_vecs[j].tolist() + title_vecs[j].tolist() + lyric_vecs[j].tolist())"
   ]
  },
  {
   "cell_type": "code",
   "execution_count": 47,
   "metadata": {},
   "outputs": [],
   "source": [
    "X = pos_vectors + neg_vectors\n",
    "y = ([1] * len(pos_vectors)) + ([0] * len(neg_vectors))\n",
    "\n",
    "from sklearn.model_selection import train_test_split\n",
    "X_train, X_test, y_train, y_test = train_test_split(X, y, test_size=0.2)"
   ]
  },
  {
   "cell_type": "code",
   "execution_count": 48,
   "metadata": {},
   "outputs": [
    {
     "name": "stdout",
     "output_type": "stream",
     "text": [
      "0.6649896936030465\n"
     ]
    },
    {
     "name": "stderr",
     "output_type": "stream",
     "text": [
      "C:\\Users\\Joseph\\AppData\\Local\\Packages\\PythonSoftwareFoundation.Python.3.12_qbz5n2kfra8p0\\LocalCache\\local-packages\\Python312\\site-packages\\sklearn\\linear_model\\_logistic.py:469: ConvergenceWarning: lbfgs failed to converge (status=1):\n",
      "STOP: TOTAL NO. of ITERATIONS REACHED LIMIT.\n",
      "\n",
      "Increase the number of iterations (max_iter) or scale the data as shown in:\n",
      "    https://scikit-learn.org/stable/modules/preprocessing.html\n",
      "Please also refer to the documentation for alternative solver options:\n",
      "    https://scikit-learn.org/stable/modules/linear_model.html#logistic-regression\n",
      "  n_iter_i = _check_optimize_result(\n"
     ]
    }
   ],
   "source": [
    "from sklearn.linear_model import LogisticRegression\n",
    "from sklearn.metrics import accuracy_score\n",
    "\n",
    "title_model = LogisticRegression()\n",
    "title_model.fit(X_train, y_train)\n",
    "\n",
    "y_pred = title_model.predict(X_test)\n",
    "accuracy = accuracy_score(y_test, y_pred)\n",
    "print(accuracy)"
   ]
  },
  {
   "cell_type": "code",
   "execution_count": 49,
   "metadata": {},
   "outputs": [],
   "source": [
    "import tensorflow as tf\n",
    "from tensorflow import keras\n",
    "from tensorflow.keras.layers import Dense"
   ]
  },
  {
   "cell_type": "code",
   "execution_count": null,
   "metadata": {},
   "outputs": [
    {
     "name": "stderr",
     "output_type": "stream",
     "text": [
      "C:\\Users\\Joseph\\AppData\\Local\\Packages\\PythonSoftwareFoundation.Python.3.12_qbz5n2kfra8p0\\LocalCache\\local-packages\\Python312\\site-packages\\keras\\src\\layers\\core\\dense.py:87: UserWarning: Do not pass an `input_shape`/`input_dim` argument to a layer. When using Sequential models, prefer using an `Input(shape)` object as the first layer in the model instead.\n",
      "  super().__init__(activity_regularizer=activity_regularizer, **kwargs)\n"
     ]
    },
    {
     "name": "stdout",
     "output_type": "stream",
     "text": [
      "compiling\n",
      "fitting\n"
     ]
    }
   ],
   "source": [
    "model = keras.Sequential([\n",
    "    Dense(2, activation='relu', input_shape=(768,)), # Input layer with 128 neurons and ReLU activation\n",
    "    Dense(1, activation='sigmoid')  # Output layer with softmax for classification\n",
    "])\n",
    "\n",
    "print('compiling')\n",
    "model.compile(optimizer='adam', loss='binary_crossentropy', metrics=['accuracy'])\n",
    "\n",
    "print('fitting')\n",
    "model.fit(X_train, y_train, epochs=2, verbose=1, batch_size=32)\n",
    "\n",
    "predictions = model.predict(X_test)\n",
    "\n",
    "loss, accuracy = model.evaluate(X_test, y_test)\n",
    "print(f\"Loss: {loss:.4f}\")\n",
    "print(f\"Accuracy: {accuracy:.4f}\")\n",
    "\n",
    "binary_predictions = (predictions > 0.5).astype(int)\n",
    "accuracy = accuracy_score(binary_predictions, y_pred)\n",
    "print(accuracy)"
   ]
  },
  {
   "cell_type": "code",
   "execution_count": 68,
   "metadata": {},
   "outputs": [
    {
     "data": {
      "text/plain": [
       "['logistic_regression_model_joblib.pkl']"
      ]
     },
     "execution_count": 68,
     "metadata": {},
     "output_type": "execute_result"
    }
   ],
   "source": [
    "import joblib\n",
    "filename = 'logistic_regression_model_joblib.pkl'\n",
    "joblib.dump(model, filename)"
   ]
  },
  {
   "cell_type": "markdown",
   "metadata": {},
   "source": [
    "## Cosine Similarity way"
   ]
  },
  {
   "cell_type": "code",
   "execution_count": 58,
   "metadata": {},
   "outputs": [
    {
     "name": "stderr",
     "output_type": "stream",
     "text": [
      "[nltk_data] Downloading package punkt to\n",
      "[nltk_data]     C:\\Users\\Joseph\\AppData\\Roaming\\nltk_data...\n",
      "[nltk_data]   Unzipping tokenizers\\punkt.zip.\n"
     ]
    },
    {
     "data": {
      "text/plain": [
       "True"
      ]
     },
     "execution_count": 58,
     "metadata": {},
     "output_type": "execute_result"
    }
   ],
   "source": [
    "from gensim.models import Word2Vec\n",
    "from nltk.tokenize import word_tokenize\n",
    "from sklearn.metrics.pairwise import cosine_similarity\n",
    "import nltk\n",
    "import numpy as np\n",
    "\n",
    "# Download tokenizer if not done already\n",
    "nltk.download('punkt')"
   ]
  },
  {
   "cell_type": "code",
   "execution_count": 59,
   "metadata": {},
   "outputs": [],
   "source": [
    "# Deduplicate for training\n",
    "unique_playlists = df_merged['playlist_name'].dropna().drop_duplicates()"
   ]
  },
  {
   "cell_type": "code",
   "execution_count": 60,
   "metadata": {},
   "outputs": [],
   "source": [
    "# Tokenize unique playlist titles\n",
    "tokenized_playlists = [word_tokenize(title.lower()) for title in unique_playlists]"
   ]
  },
  {
   "cell_type": "code",
   "execution_count": 61,
   "metadata": {},
   "outputs": [],
   "source": [
    "w2v = Word2Vec(sentences=tokenized_playlists, vector_size=100, min_count=1, window=5, workers=4)"
   ]
  },
  {
   "cell_type": "code",
   "execution_count": 62,
   "metadata": {},
   "outputs": [],
   "source": [
    "def get_avg_vector(tokens, model):\n",
    "    vectors = [model.wv[token] for token in tokens if token in model.wv]\n",
    "    if not vectors:\n",
    "        return np.zeros(model.vector_size)\n",
    "    return np.mean(vectors, axis=0)\n",
    "    "
   ]
  },
  {
   "cell_type": "code",
   "execution_count": 63,
   "metadata": {},
   "outputs": [
    {
     "data": {
      "text/plain": [
       "array([-0.46050435,  0.56428593,  0.02585906,  0.2710664 ,  0.5002797 ,\n",
       "       -1.5770533 , -0.03394648,  1.7560489 , -1.0725275 , -0.4455366 ,\n",
       "       -0.21532139, -2.0061288 , -0.36137065,  0.64359313,  0.30643356,\n",
       "       -0.81796026,  0.5977793 , -0.20772663, -0.12612924, -1.6179037 ,\n",
       "        1.2618488 ,  0.14384724,  0.85990745, -0.85900056,  0.4062967 ,\n",
       "        0.08200163, -1.1315811 ,  0.25355557, -0.11086498, -0.3408616 ,\n",
       "        0.42333376,  0.12932765,  0.27008864, -0.7788739 , -0.37106737,\n",
       "        1.3875118 ,  0.5921066 ,  0.22061217, -0.6983627 , -0.46032313,\n",
       "       -0.02177334, -0.9940393 , -0.10063505,  0.19302431, -0.15046045,\n",
       "        0.01720442, -0.52816045,  0.4396953 ,  0.4589516 ,  0.7326152 ,\n",
       "        0.22377834, -1.1726091 , -0.47796714, -0.39040548,  0.7475069 ,\n",
       "        0.15859945,  0.88873816, -0.16338351, -0.7085224 ,  0.24144158,\n",
       "       -0.6648618 , -0.3196157 ,  0.7219705 ,  0.16640797, -0.21792375,\n",
       "        1.3274055 ,  0.5542545 ,  1.5375708 , -0.5985795 ,  0.9222321 ,\n",
       "        0.3314821 , -0.7414535 ,  1.0224999 ,  0.21177351,  0.3189909 ,\n",
       "        0.09906992, -0.19471864,  0.21552442, -0.30396473, -0.49590075,\n",
       "       -1.9100785 ,  0.3925122 , -0.7184919 ,  0.8255922 ,  0.7923795 ,\n",
       "        0.02788024,  1.5730462 ,  0.33017462,  1.3065233 ,  0.40853631,\n",
       "        0.9091339 ,  0.25676626,  0.37409267, -0.10880585,  1.5722444 ,\n",
       "        1.0807995 , -0.36270198, -0.2979009 , -0.48120257,  0.20069188],\n",
       "      dtype=float32)"
      ]
     },
     "execution_count": 63,
     "metadata": {},
     "output_type": "execute_result"
    }
   ],
   "source": [
    "query = \"Chill songs\"\n",
    "query_tokens = word_tokenize(query.lower())\n",
    "query_vec = get_avg_vector(query_tokens, w2v)\n",
    "query_vec"
   ]
  },
  {
   "cell_type": "code",
   "execution_count": 64,
   "metadata": {},
   "outputs": [],
   "source": [
    "tokenized_all = [\n",
    "    word_tokenize(str(title).lower()) if pd.notna(title) else []\n",
    "    for title in df_merged['playlist_name']\n",
    "]\n",
    "\n",
    "playlist_vecs = [get_avg_vector(tokens, w2v) for tokens in tokenized_all]"
   ]
  },
  {
   "cell_type": "code",
   "execution_count": 65,
   "metadata": {},
   "outputs": [],
   "source": [
    "\n",
    "def get_cosine_similarity_song(query):\n",
    "    query_tokens = word_tokenize(query.lower())\n",
    "    query_vec = get_avg_vector(query_tokens, w2v)\n",
    "    \n",
    "    # Cosine similarity\n",
    "    similarities = cosine_similarity([query_vec], playlist_vecs).flatten()\n",
    "\n",
    "    # Sort with argsort\n",
    "    sorted_indices = similarities.argsort()[::-1]\n",
    "    df_sorted = df_merged.iloc[sorted_indices].copy()\n",
    "    df_sorted['similarity'] = similarities[sorted_indices]\n",
    "\n",
    "    return df_sorted[:5]"
   ]
  },
  {
   "cell_type": "code",
   "execution_count": 66,
   "metadata": {},
   "outputs": [
    {
     "ename": "MemoryError",
     "evalue": "Unable to allocate 3.55 GiB for an array with shape (4770458, 100) and data type float64",
     "output_type": "error",
     "traceback": [
      "\u001b[1;31m---------------------------------------------------------------------------\u001b[0m",
      "\u001b[1;31mMemoryError\u001b[0m                               Traceback (most recent call last)",
      "Cell \u001b[1;32mIn[66], line 1\u001b[0m\n\u001b[1;32m----> 1\u001b[0m \u001b[43mget_cosine_similarity_song\u001b[49m\u001b[43m(\u001b[49m\u001b[38;5;124;43m\"\u001b[39;49m\u001b[38;5;124;43mLove story\u001b[39;49m\u001b[38;5;124;43m\"\u001b[39;49m\u001b[43m)\u001b[49m\n",
      "Cell \u001b[1;32mIn[65], line 6\u001b[0m, in \u001b[0;36mget_cosine_similarity_song\u001b[1;34m(query)\u001b[0m\n\u001b[0;32m      3\u001b[0m query_vec \u001b[38;5;241m=\u001b[39m get_avg_vector(query_tokens, w2v)\n\u001b[0;32m      5\u001b[0m \u001b[38;5;66;03m# Cosine similarity\u001b[39;00m\n\u001b[1;32m----> 6\u001b[0m similarities \u001b[38;5;241m=\u001b[39m \u001b[43mcosine_similarity\u001b[49m\u001b[43m(\u001b[49m\u001b[43m[\u001b[49m\u001b[43mquery_vec\u001b[49m\u001b[43m]\u001b[49m\u001b[43m,\u001b[49m\u001b[43m \u001b[49m\u001b[43mplaylist_vecs\u001b[49m\u001b[43m)\u001b[49m\u001b[38;5;241m.\u001b[39mflatten()\n\u001b[0;32m      8\u001b[0m \u001b[38;5;66;03m# Sort with argsort\u001b[39;00m\n\u001b[0;32m      9\u001b[0m sorted_indices \u001b[38;5;241m=\u001b[39m similarities\u001b[38;5;241m.\u001b[39margsort()[::\u001b[38;5;241m-\u001b[39m\u001b[38;5;241m1\u001b[39m]\n",
      "File \u001b[1;32m~\\AppData\\Local\\Packages\\PythonSoftwareFoundation.Python.3.12_qbz5n2kfra8p0\\LocalCache\\local-packages\\Python312\\site-packages\\sklearn\\utils\\_param_validation.py:213\u001b[0m, in \u001b[0;36mvalidate_params.<locals>.decorator.<locals>.wrapper\u001b[1;34m(*args, **kwargs)\u001b[0m\n\u001b[0;32m    207\u001b[0m \u001b[38;5;28;01mtry\u001b[39;00m:\n\u001b[0;32m    208\u001b[0m     \u001b[38;5;28;01mwith\u001b[39;00m config_context(\n\u001b[0;32m    209\u001b[0m         skip_parameter_validation\u001b[38;5;241m=\u001b[39m(\n\u001b[0;32m    210\u001b[0m             prefer_skip_nested_validation \u001b[38;5;129;01mor\u001b[39;00m global_skip_validation\n\u001b[0;32m    211\u001b[0m         )\n\u001b[0;32m    212\u001b[0m     ):\n\u001b[1;32m--> 213\u001b[0m         \u001b[38;5;28;01mreturn\u001b[39;00m \u001b[43mfunc\u001b[49m\u001b[43m(\u001b[49m\u001b[38;5;241;43m*\u001b[39;49m\u001b[43margs\u001b[49m\u001b[43m,\u001b[49m\u001b[43m \u001b[49m\u001b[38;5;241;43m*\u001b[39;49m\u001b[38;5;241;43m*\u001b[39;49m\u001b[43mkwargs\u001b[49m\u001b[43m)\u001b[49m\n\u001b[0;32m    214\u001b[0m \u001b[38;5;28;01mexcept\u001b[39;00m InvalidParameterError \u001b[38;5;28;01mas\u001b[39;00m e:\n\u001b[0;32m    215\u001b[0m     \u001b[38;5;66;03m# When the function is just a wrapper around an estimator, we allow\u001b[39;00m\n\u001b[0;32m    216\u001b[0m     \u001b[38;5;66;03m# the function to delegate validation to the estimator, but we replace\u001b[39;00m\n\u001b[0;32m    217\u001b[0m     \u001b[38;5;66;03m# the name of the estimator by the name of the function in the error\u001b[39;00m\n\u001b[0;32m    218\u001b[0m     \u001b[38;5;66;03m# message to avoid confusion.\u001b[39;00m\n\u001b[0;32m    219\u001b[0m     msg \u001b[38;5;241m=\u001b[39m re\u001b[38;5;241m.\u001b[39msub(\n\u001b[0;32m    220\u001b[0m         \u001b[38;5;124mr\u001b[39m\u001b[38;5;124m\"\u001b[39m\u001b[38;5;124mparameter of \u001b[39m\u001b[38;5;124m\\\u001b[39m\u001b[38;5;124mw+ must be\u001b[39m\u001b[38;5;124m\"\u001b[39m,\n\u001b[0;32m    221\u001b[0m         \u001b[38;5;124mf\u001b[39m\u001b[38;5;124m\"\u001b[39m\u001b[38;5;124mparameter of \u001b[39m\u001b[38;5;132;01m{\u001b[39;00mfunc\u001b[38;5;241m.\u001b[39m\u001b[38;5;18m__qualname__\u001b[39m\u001b[38;5;132;01m}\u001b[39;00m\u001b[38;5;124m must be\u001b[39m\u001b[38;5;124m\"\u001b[39m,\n\u001b[0;32m    222\u001b[0m         \u001b[38;5;28mstr\u001b[39m(e),\n\u001b[0;32m    223\u001b[0m     )\n",
      "File \u001b[1;32m~\\AppData\\Local\\Packages\\PythonSoftwareFoundation.Python.3.12_qbz5n2kfra8p0\\LocalCache\\local-packages\\Python312\\site-packages\\sklearn\\metrics\\pairwise.py:1679\u001b[0m, in \u001b[0;36mcosine_similarity\u001b[1;34m(X, Y, dense_output)\u001b[0m\n\u001b[0;32m   1635\u001b[0m \u001b[38;5;250m\u001b[39m\u001b[38;5;124;03m\"\"\"Compute cosine similarity between samples in X and Y.\u001b[39;00m\n\u001b[0;32m   1636\u001b[0m \n\u001b[0;32m   1637\u001b[0m \u001b[38;5;124;03mCosine similarity, or the cosine kernel, computes similarity as the\u001b[39;00m\n\u001b[1;32m   (...)\u001b[0m\n\u001b[0;32m   1675\u001b[0m \u001b[38;5;124;03m       [0.57..., 0.81...]])\u001b[39;00m\n\u001b[0;32m   1676\u001b[0m \u001b[38;5;124;03m\"\"\"\u001b[39;00m\n\u001b[0;32m   1677\u001b[0m \u001b[38;5;66;03m# to avoid recursive import\u001b[39;00m\n\u001b[1;32m-> 1679\u001b[0m X, Y \u001b[38;5;241m=\u001b[39m \u001b[43mcheck_pairwise_arrays\u001b[49m\u001b[43m(\u001b[49m\u001b[43mX\u001b[49m\u001b[43m,\u001b[49m\u001b[43m \u001b[49m\u001b[43mY\u001b[49m\u001b[43m)\u001b[49m\n\u001b[0;32m   1681\u001b[0m X_normalized \u001b[38;5;241m=\u001b[39m normalize(X, copy\u001b[38;5;241m=\u001b[39m\u001b[38;5;28;01mTrue\u001b[39;00m)\n\u001b[0;32m   1682\u001b[0m \u001b[38;5;28;01mif\u001b[39;00m X \u001b[38;5;129;01mis\u001b[39;00m Y:\n",
      "File \u001b[1;32m~\\AppData\\Local\\Packages\\PythonSoftwareFoundation.Python.3.12_qbz5n2kfra8p0\\LocalCache\\local-packages\\Python312\\site-packages\\sklearn\\metrics\\pairwise.py:166\u001b[0m, in \u001b[0;36mcheck_pairwise_arrays\u001b[1;34m(X, Y, precomputed, dtype, accept_sparse, force_all_finite, ensure_2d, copy)\u001b[0m\n\u001b[0;32m    164\u001b[0m xp, _ \u001b[38;5;241m=\u001b[39m get_namespace(X, Y)\n\u001b[0;32m    165\u001b[0m \u001b[38;5;28;01mif\u001b[39;00m \u001b[38;5;28many\u001b[39m([issparse(X), issparse(Y)]) \u001b[38;5;129;01mor\u001b[39;00m _is_numpy_namespace(xp):\n\u001b[1;32m--> 166\u001b[0m     X, Y, dtype_float \u001b[38;5;241m=\u001b[39m \u001b[43m_return_float_dtype\u001b[49m\u001b[43m(\u001b[49m\u001b[43mX\u001b[49m\u001b[43m,\u001b[49m\u001b[43m \u001b[49m\u001b[43mY\u001b[49m\u001b[43m)\u001b[49m\n\u001b[0;32m    167\u001b[0m \u001b[38;5;28;01melse\u001b[39;00m:\n\u001b[0;32m    168\u001b[0m     dtype_float \u001b[38;5;241m=\u001b[39m _find_matching_floating_dtype(X, Y, xp\u001b[38;5;241m=\u001b[39mxp)\n",
      "File \u001b[1;32m~\\AppData\\Local\\Packages\\PythonSoftwareFoundation.Python.3.12_qbz5n2kfra8p0\\LocalCache\\local-packages\\Python312\\site-packages\\sklearn\\metrics\\pairwise.py:66\u001b[0m, in \u001b[0;36m_return_float_dtype\u001b[1;34m(X, Y)\u001b[0m\n\u001b[0;32m     64\u001b[0m     Y_dtype \u001b[38;5;241m=\u001b[39m X\u001b[38;5;241m.\u001b[39mdtype\n\u001b[0;32m     65\u001b[0m \u001b[38;5;28;01melif\u001b[39;00m \u001b[38;5;129;01mnot\u001b[39;00m issparse(Y) \u001b[38;5;129;01mand\u001b[39;00m \u001b[38;5;129;01mnot\u001b[39;00m \u001b[38;5;28misinstance\u001b[39m(Y, np\u001b[38;5;241m.\u001b[39mndarray):\n\u001b[1;32m---> 66\u001b[0m     Y \u001b[38;5;241m=\u001b[39m \u001b[43mnp\u001b[49m\u001b[38;5;241;43m.\u001b[39;49m\u001b[43masarray\u001b[49m\u001b[43m(\u001b[49m\u001b[43mY\u001b[49m\u001b[43m)\u001b[49m\n\u001b[0;32m     67\u001b[0m     Y_dtype \u001b[38;5;241m=\u001b[39m Y\u001b[38;5;241m.\u001b[39mdtype\n\u001b[0;32m     68\u001b[0m \u001b[38;5;28;01melse\u001b[39;00m:\n",
      "\u001b[1;31mMemoryError\u001b[0m: Unable to allocate 3.55 GiB for an array with shape (4770458, 100) and data type float64"
     ]
    }
   ],
   "source": [
    "get_cosine_similarity_song(\"Love story\")"
   ]
  },
  {
   "cell_type": "code",
   "execution_count": 52,
   "metadata": {},
   "outputs": [
    {
     "data": {
      "text/html": [
       "<div>\n",
       "<style scoped>\n",
       "    .dataframe tbody tr th:only-of-type {\n",
       "        vertical-align: middle;\n",
       "    }\n",
       "\n",
       "    .dataframe tbody tr th {\n",
       "        vertical-align: top;\n",
       "    }\n",
       "\n",
       "    .dataframe thead th {\n",
       "        text-align: right;\n",
       "    }\n",
       "</style>\n",
       "<table border=\"1\" class=\"dataframe\">\n",
       "  <thead>\n",
       "    <tr style=\"text-align: right;\">\n",
       "      <th></th>\n",
       "      <th>user_id</th>\n",
       "      <th>artist</th>\n",
       "      <th>title</th>\n",
       "      <th>playlist_name</th>\n",
       "      <th>tag</th>\n",
       "      <th>year</th>\n",
       "      <th>views</th>\n",
       "      <th>features</th>\n",
       "      <th>lyrics</th>\n",
       "      <th>id</th>\n",
       "      <th>language_cld3</th>\n",
       "      <th>language_ft</th>\n",
       "      <th>language</th>\n",
       "      <th>similarity</th>\n",
       "    </tr>\n",
       "  </thead>\n",
       "  <tbody>\n",
       "    <tr>\n",
       "      <th>617655</th>\n",
       "      <td>6649c6b017eec9ffc91f83d6f386c1f6</td>\n",
       "      <td>Intwine</td>\n",
       "      <td>Cruel Man</td>\n",
       "      <td>Hard Rock</td>\n",
       "      <td>pop</td>\n",
       "      <td>2004</td>\n",
       "      <td>1550</td>\n",
       "      <td>{}</td>\n",
       "      <td>Sick of preaching this to you\\nNobody listens,...</td>\n",
       "      <td>1329717</td>\n",
       "      <td>en</td>\n",
       "      <td>en</td>\n",
       "      <td>en</td>\n",
       "      <td>1.0</td>\n",
       "    </tr>\n",
       "    <tr>\n",
       "      <th>3585797</th>\n",
       "      <td>e979c447d3747b097b58a83f1fb4e894</td>\n",
       "      <td>Uriah Heep</td>\n",
       "      <td>Hot Persuasion</td>\n",
       "      <td>Hard Rock</td>\n",
       "      <td>pop</td>\n",
       "      <td>1982</td>\n",
       "      <td>102</td>\n",
       "      <td>{}</td>\n",
       "      <td>You know you light my candle\\nYou know you loa...</td>\n",
       "      <td>914695</td>\n",
       "      <td>en</td>\n",
       "      <td>en</td>\n",
       "      <td>en</td>\n",
       "      <td>1.0</td>\n",
       "    </tr>\n",
       "    <tr>\n",
       "      <th>3585799</th>\n",
       "      <td>e979c447d3747b097b58a83f1fb4e894</td>\n",
       "      <td>Godsmack</td>\n",
       "      <td>I Am</td>\n",
       "      <td>Hard Rock</td>\n",
       "      <td>rock</td>\n",
       "      <td>2003</td>\n",
       "      <td>1831</td>\n",
       "      <td>{}</td>\n",
       "      <td>[Verse 1]\\nI am your spoken truth\\nI am the li...</td>\n",
       "      <td>273374</td>\n",
       "      <td>en</td>\n",
       "      <td>en</td>\n",
       "      <td>en</td>\n",
       "      <td>1.0</td>\n",
       "    </tr>\n",
       "    <tr>\n",
       "      <th>3585800</th>\n",
       "      <td>e979c447d3747b097b58a83f1fb4e894</td>\n",
       "      <td>Godsmack</td>\n",
       "      <td>I Stand Alone</td>\n",
       "      <td>Hard Rock</td>\n",
       "      <td>rock</td>\n",
       "      <td>2002</td>\n",
       "      <td>34945</td>\n",
       "      <td>{}</td>\n",
       "      <td>[Verse 1]\\nI've told you this once before, you...</td>\n",
       "      <td>209485</td>\n",
       "      <td>en</td>\n",
       "      <td>en</td>\n",
       "      <td>en</td>\n",
       "      <td>1.0</td>\n",
       "    </tr>\n",
       "    <tr>\n",
       "      <th>3585801</th>\n",
       "      <td>e979c447d3747b097b58a83f1fb4e894</td>\n",
       "      <td>Uriah Heep</td>\n",
       "      <td>I Wanna Be Free</td>\n",
       "      <td>Hard Rock</td>\n",
       "      <td>pop</td>\n",
       "      <td>1971</td>\n",
       "      <td>829</td>\n",
       "      <td>{}</td>\n",
       "      <td>[Verse 1]\\nAs I wake up every day\\nWith no new...</td>\n",
       "      <td>1573185</td>\n",
       "      <td>en</td>\n",
       "      <td>en</td>\n",
       "      <td>en</td>\n",
       "      <td>1.0</td>\n",
       "    </tr>\n",
       "  </tbody>\n",
       "</table>\n",
       "</div>"
      ],
      "text/plain": [
       "                                  user_id      artist            title  \\\n",
       "617655   6649c6b017eec9ffc91f83d6f386c1f6     Intwine        Cruel Man   \n",
       "3585797  e979c447d3747b097b58a83f1fb4e894  Uriah Heep   Hot Persuasion   \n",
       "3585799  e979c447d3747b097b58a83f1fb4e894    Godsmack             I Am   \n",
       "3585800  e979c447d3747b097b58a83f1fb4e894    Godsmack    I Stand Alone   \n",
       "3585801  e979c447d3747b097b58a83f1fb4e894  Uriah Heep  I Wanna Be Free   \n",
       "\n",
       "        playlist_name   tag  year  views features  \\\n",
       "617655      Hard Rock   pop  2004   1550       {}   \n",
       "3585797     Hard Rock   pop  1982    102       {}   \n",
       "3585799     Hard Rock  rock  2003   1831       {}   \n",
       "3585800     Hard Rock  rock  2002  34945       {}   \n",
       "3585801     Hard Rock   pop  1971    829       {}   \n",
       "\n",
       "                                                    lyrics       id  \\\n",
       "617655   Sick of preaching this to you\\nNobody listens,...  1329717   \n",
       "3585797  You know you light my candle\\nYou know you loa...   914695   \n",
       "3585799  [Verse 1]\\nI am your spoken truth\\nI am the li...   273374   \n",
       "3585800  [Verse 1]\\nI've told you this once before, you...   209485   \n",
       "3585801  [Verse 1]\\nAs I wake up every day\\nWith no new...  1573185   \n",
       "\n",
       "        language_cld3 language_ft language  similarity  \n",
       "617655             en          en       en         1.0  \n",
       "3585797            en          en       en         1.0  \n",
       "3585799            en          en       en         1.0  \n",
       "3585800            en          en       en         1.0  \n",
       "3585801            en          en       en         1.0  "
      ]
     },
     "execution_count": 52,
     "metadata": {},
     "output_type": "execute_result"
    }
   ],
   "source": [
    "get_cosine_similarity_song(\"Hard rock\")"
   ]
  },
  {
   "cell_type": "code",
   "execution_count": 53,
   "metadata": {},
   "outputs": [
    {
     "data": {
      "text/html": [
       "<div>\n",
       "<style scoped>\n",
       "    .dataframe tbody tr th:only-of-type {\n",
       "        vertical-align: middle;\n",
       "    }\n",
       "\n",
       "    .dataframe tbody tr th {\n",
       "        vertical-align: top;\n",
       "    }\n",
       "\n",
       "    .dataframe thead th {\n",
       "        text-align: right;\n",
       "    }\n",
       "</style>\n",
       "<table border=\"1\" class=\"dataframe\">\n",
       "  <thead>\n",
       "    <tr style=\"text-align: right;\">\n",
       "      <th></th>\n",
       "      <th>user_id</th>\n",
       "      <th>artist</th>\n",
       "      <th>title</th>\n",
       "      <th>playlist_name</th>\n",
       "      <th>tag</th>\n",
       "      <th>year</th>\n",
       "      <th>views</th>\n",
       "      <th>features</th>\n",
       "      <th>lyrics</th>\n",
       "      <th>id</th>\n",
       "      <th>language_cld3</th>\n",
       "      <th>language_ft</th>\n",
       "      <th>language</th>\n",
       "      <th>similarity</th>\n",
       "    </tr>\n",
       "  </thead>\n",
       "  <tbody>\n",
       "    <tr>\n",
       "      <th>1017465</th>\n",
       "      <td>a1636d750f67c7e6754165a2f7856860</td>\n",
       "      <td>Dave Matthews Band</td>\n",
       "      <td>Belly Full</td>\n",
       "      <td>Chill DMB</td>\n",
       "      <td>rock</td>\n",
       "      <td>2012</td>\n",
       "      <td>2037</td>\n",
       "      <td>{}</td>\n",
       "      <td>[Verse 1]\\nOh, my love\\nIf I had my way\\nThen ...</td>\n",
       "      <td>186079</td>\n",
       "      <td>en</td>\n",
       "      <td>en</td>\n",
       "      <td>en</td>\n",
       "      <td>0.999739</td>\n",
       "    </tr>\n",
       "    <tr>\n",
       "      <th>1017475</th>\n",
       "      <td>a1636d750f67c7e6754165a2f7856860</td>\n",
       "      <td>Dave Matthews Band</td>\n",
       "      <td>Snow Outside</td>\n",
       "      <td>Chill DMB</td>\n",
       "      <td>rock</td>\n",
       "      <td>2012</td>\n",
       "      <td>2805</td>\n",
       "      <td>{}</td>\n",
       "      <td>[Verse 1]\\nWell, you are like a secret garden\\...</td>\n",
       "      <td>186113</td>\n",
       "      <td>en</td>\n",
       "      <td>en</td>\n",
       "      <td>en</td>\n",
       "      <td>0.999739</td>\n",
       "    </tr>\n",
       "    <tr>\n",
       "      <th>1017463</th>\n",
       "      <td>a1636d750f67c7e6754165a2f7856860</td>\n",
       "      <td>Jack Johnson</td>\n",
       "      <td>A Pirate Looks At Forty</td>\n",
       "      <td>Chill DMB</td>\n",
       "      <td>pop</td>\n",
       "      <td>2012</td>\n",
       "      <td>3211</td>\n",
       "      <td>{}</td>\n",
       "      <td>Mother, mother ocean, well I have heard you ca...</td>\n",
       "      <td>1798565</td>\n",
       "      <td>en</td>\n",
       "      <td>en</td>\n",
       "      <td>en</td>\n",
       "      <td>0.999739</td>\n",
       "    </tr>\n",
       "    <tr>\n",
       "      <th>1017464</th>\n",
       "      <td>a1636d750f67c7e6754165a2f7856860</td>\n",
       "      <td>Dave Matthews Band</td>\n",
       "      <td>Baby Blue</td>\n",
       "      <td>Chill DMB</td>\n",
       "      <td>rock</td>\n",
       "      <td>2009</td>\n",
       "      <td>5764</td>\n",
       "      <td>{}</td>\n",
       "      <td>[Verse 1]\\nConfess your kiss\\nStill knocks me ...</td>\n",
       "      <td>68711</td>\n",
       "      <td>en</td>\n",
       "      <td>en</td>\n",
       "      <td>en</td>\n",
       "      <td>0.999739</td>\n",
       "    </tr>\n",
       "    <tr>\n",
       "      <th>1017466</th>\n",
       "      <td>a1636d750f67c7e6754165a2f7856860</td>\n",
       "      <td>Dave Matthews Band</td>\n",
       "      <td>Big Eyed Fish</td>\n",
       "      <td>Chill DMB</td>\n",
       "      <td>rock</td>\n",
       "      <td>2002</td>\n",
       "      <td>7708</td>\n",
       "      <td>{}</td>\n",
       "      <td>[Verse 1]\\nLook at this big-eyed fish swimmin'...</td>\n",
       "      <td>187932</td>\n",
       "      <td>en</td>\n",
       "      <td>en</td>\n",
       "      <td>en</td>\n",
       "      <td>0.999739</td>\n",
       "    </tr>\n",
       "  </tbody>\n",
       "</table>\n",
       "</div>"
      ],
      "text/plain": [
       "                                  user_id              artist  \\\n",
       "1017465  a1636d750f67c7e6754165a2f7856860  Dave Matthews Band   \n",
       "1017475  a1636d750f67c7e6754165a2f7856860  Dave Matthews Band   \n",
       "1017463  a1636d750f67c7e6754165a2f7856860        Jack Johnson   \n",
       "1017464  a1636d750f67c7e6754165a2f7856860  Dave Matthews Band   \n",
       "1017466  a1636d750f67c7e6754165a2f7856860  Dave Matthews Band   \n",
       "\n",
       "                           title playlist_name   tag  year  views features  \\\n",
       "1017465               Belly Full     Chill DMB  rock  2012   2037       {}   \n",
       "1017475             Snow Outside     Chill DMB  rock  2012   2805       {}   \n",
       "1017463  A Pirate Looks At Forty     Chill DMB   pop  2012   3211       {}   \n",
       "1017464                Baby Blue     Chill DMB  rock  2009   5764       {}   \n",
       "1017466            Big Eyed Fish     Chill DMB  rock  2002   7708       {}   \n",
       "\n",
       "                                                    lyrics       id  \\\n",
       "1017465  [Verse 1]\\nOh, my love\\nIf I had my way\\nThen ...   186079   \n",
       "1017475  [Verse 1]\\nWell, you are like a secret garden\\...   186113   \n",
       "1017463  Mother, mother ocean, well I have heard you ca...  1798565   \n",
       "1017464  [Verse 1]\\nConfess your kiss\\nStill knocks me ...    68711   \n",
       "1017466  [Verse 1]\\nLook at this big-eyed fish swimmin'...   187932   \n",
       "\n",
       "        language_cld3 language_ft language  similarity  \n",
       "1017465            en          en       en    0.999739  \n",
       "1017475            en          en       en    0.999739  \n",
       "1017463            en          en       en    0.999739  \n",
       "1017464            en          en       en    0.999739  \n",
       "1017466            en          en       en    0.999739  "
      ]
     },
     "execution_count": 53,
     "metadata": {},
     "output_type": "execute_result"
    }
   ],
   "source": [
    "get_cosine_similarity_song(\"Lo-fi chill\")"
   ]
  },
  {
   "cell_type": "code",
   "execution_count": 54,
   "metadata": {},
   "outputs": [
    {
     "data": {
      "text/html": [
       "<div>\n",
       "<style scoped>\n",
       "    .dataframe tbody tr th:only-of-type {\n",
       "        vertical-align: middle;\n",
       "    }\n",
       "\n",
       "    .dataframe tbody tr th {\n",
       "        vertical-align: top;\n",
       "    }\n",
       "\n",
       "    .dataframe thead th {\n",
       "        text-align: right;\n",
       "    }\n",
       "</style>\n",
       "<table border=\"1\" class=\"dataframe\">\n",
       "  <thead>\n",
       "    <tr style=\"text-align: right;\">\n",
       "      <th></th>\n",
       "      <th>user_id</th>\n",
       "      <th>artist</th>\n",
       "      <th>title</th>\n",
       "      <th>playlist_name</th>\n",
       "      <th>tag</th>\n",
       "      <th>year</th>\n",
       "      <th>views</th>\n",
       "      <th>features</th>\n",
       "      <th>lyrics</th>\n",
       "      <th>id</th>\n",
       "      <th>language_cld3</th>\n",
       "      <th>language_ft</th>\n",
       "      <th>language</th>\n",
       "      <th>similarity</th>\n",
       "    </tr>\n",
       "  </thead>\n",
       "  <tbody>\n",
       "    <tr>\n",
       "      <th>4169870</th>\n",
       "      <td>a5993960605e6586e5dffabcd30c2757</td>\n",
       "      <td>YG</td>\n",
       "      <td>Do It To Ya</td>\n",
       "      <td>Rap</td>\n",
       "      <td>rap</td>\n",
       "      <td>2014</td>\n",
       "      <td>168895</td>\n",
       "      <td>{TeeFlii}</td>\n",
       "      <td>[Intro: YG]\\nHey, hey, hey, hey\\nMustard on th...</td>\n",
       "      <td>381670</td>\n",
       "      <td>en</td>\n",
       "      <td>en</td>\n",
       "      <td>en</td>\n",
       "      <td>1.0</td>\n",
       "    </tr>\n",
       "    <tr>\n",
       "      <th>693664</th>\n",
       "      <td>57004eb5876f347f53d9d5c237e8bde6</td>\n",
       "      <td>D12</td>\n",
       "      <td>Fight Music</td>\n",
       "      <td>rap</td>\n",
       "      <td>rap</td>\n",
       "      <td>2001</td>\n",
       "      <td>244185</td>\n",
       "      <td>{}</td>\n",
       "      <td>[Chorus: Eminem]\\nThis kind of music, use it, ...</td>\n",
       "      <td>1890</td>\n",
       "      <td>en</td>\n",
       "      <td>en</td>\n",
       "      <td>en</td>\n",
       "      <td>1.0</td>\n",
       "    </tr>\n",
       "    <tr>\n",
       "      <th>693675</th>\n",
       "      <td>57004eb5876f347f53d9d5c237e8bde6</td>\n",
       "      <td>Lil Wayne</td>\n",
       "      <td>Go DJ</td>\n",
       "      <td>rap</td>\n",
       "      <td>rap</td>\n",
       "      <td>2004</td>\n",
       "      <td>156237</td>\n",
       "      <td>{\"Mannie Fresh\"}</td>\n",
       "      <td>[Intro: Mannie Fresh]\\nYeah, yeah, yeah, yeah,...</td>\n",
       "      <td>250</td>\n",
       "      <td>en</td>\n",
       "      <td>en</td>\n",
       "      <td>en</td>\n",
       "      <td>1.0</td>\n",
       "    </tr>\n",
       "    <tr>\n",
       "      <th>693674</th>\n",
       "      <td>57004eb5876f347f53d9d5c237e8bde6</td>\n",
       "      <td>D12</td>\n",
       "      <td>Girls</td>\n",
       "      <td>rap</td>\n",
       "      <td>rap</td>\n",
       "      <td>2001</td>\n",
       "      <td>275</td>\n",
       "      <td>{}</td>\n",
       "      <td>[Eminem]\\nHey yo dawg\\nI got some shit on my m...</td>\n",
       "      <td>7682026</td>\n",
       "      <td>en</td>\n",
       "      <td>en</td>\n",
       "      <td>en</td>\n",
       "      <td>1.0</td>\n",
       "    </tr>\n",
       "    <tr>\n",
       "      <th>693673</th>\n",
       "      <td>57004eb5876f347f53d9d5c237e8bde6</td>\n",
       "      <td>Busta Rhymes</td>\n",
       "      <td>Gimme Some More</td>\n",
       "      <td>rap</td>\n",
       "      <td>rap</td>\n",
       "      <td>1998</td>\n",
       "      <td>88091</td>\n",
       "      <td>{}</td>\n",
       "      <td>[Intro]\\nYeah, as a shorty, playing in the fro...</td>\n",
       "      <td>9010</td>\n",
       "      <td>en</td>\n",
       "      <td>en</td>\n",
       "      <td>en</td>\n",
       "      <td>1.0</td>\n",
       "    </tr>\n",
       "  </tbody>\n",
       "</table>\n",
       "</div>"
      ],
      "text/plain": [
       "                                  user_id        artist            title  \\\n",
       "4169870  a5993960605e6586e5dffabcd30c2757            YG      Do It To Ya   \n",
       "693664   57004eb5876f347f53d9d5c237e8bde6           D12      Fight Music   \n",
       "693675   57004eb5876f347f53d9d5c237e8bde6     Lil Wayne            Go DJ   \n",
       "693674   57004eb5876f347f53d9d5c237e8bde6           D12            Girls   \n",
       "693673   57004eb5876f347f53d9d5c237e8bde6  Busta Rhymes  Gimme Some More   \n",
       "\n",
       "        playlist_name  tag  year   views          features  \\\n",
       "4169870           Rap  rap  2014  168895         {TeeFlii}   \n",
       "693664            rap  rap  2001  244185                {}   \n",
       "693675            rap  rap  2004  156237  {\"Mannie Fresh\"}   \n",
       "693674            rap  rap  2001     275                {}   \n",
       "693673            rap  rap  1998   88091                {}   \n",
       "\n",
       "                                                    lyrics       id  \\\n",
       "4169870  [Intro: YG]\\nHey, hey, hey, hey\\nMustard on th...   381670   \n",
       "693664   [Chorus: Eminem]\\nThis kind of music, use it, ...     1890   \n",
       "693675   [Intro: Mannie Fresh]\\nYeah, yeah, yeah, yeah,...      250   \n",
       "693674   [Eminem]\\nHey yo dawg\\nI got some shit on my m...  7682026   \n",
       "693673   [Intro]\\nYeah, as a shorty, playing in the fro...     9010   \n",
       "\n",
       "        language_cld3 language_ft language  similarity  \n",
       "4169870            en          en       en         1.0  \n",
       "693664             en          en       en         1.0  \n",
       "693675             en          en       en         1.0  \n",
       "693674             en          en       en         1.0  \n",
       "693673             en          en       en         1.0  "
      ]
     },
     "execution_count": 54,
     "metadata": {},
     "output_type": "execute_result"
    }
   ],
   "source": [
    "get_cosine_similarity_song(\"rap\")"
   ]
  },
  {
   "cell_type": "code",
   "execution_count": null,
   "metadata": {},
   "outputs": [],
   "source": []
  }
 ],
 "metadata": {
  "kernelspec": {
   "display_name": "Python 3",
   "language": "python",
   "name": "python3"
  },
  "language_info": {
   "codemirror_mode": {
    "name": "ipython",
    "version": 3
   },
   "file_extension": ".py",
   "mimetype": "text/x-python",
   "name": "python",
   "nbconvert_exporter": "python",
   "pygments_lexer": "ipython3",
   "version": "3.12.10"
  }
 },
 "nbformat": 4,
 "nbformat_minor": 2
}
