{
 "cells": [
  {
   "cell_type": "markdown",
   "metadata": {},
   "source": [
    "# Playlist Maker\n",
    "## Joseph Moore\n",
    "## Anirud Shrestha"
   ]
  },
  {
   "cell_type": "markdown",
   "metadata": {},
   "source": [
    "# Load in the data"
   ]
  },
  {
   "cell_type": "code",
   "execution_count": 54,
   "metadata": {},
   "outputs": [
    {
     "name": "stdout",
     "output_type": "stream",
     "text": [
      "Warning: Looks like you're using an outdated `kagglehub` version (installed: 0.3.11), please consider upgrading to the latest version (0.3.12).\n",
      "Path to lyrics dataset: C:\\Users\\Joseph\\.cache\\kagglehub\\datasets\\carlosgdcj\\genius-song-lyrics-with-language-information\\versions\\1/song_lyrics.csv\n",
      "Warning: Looks like you're using an outdated `kagglehub` version (installed: 0.3.11), please consider upgrading to the latest version (0.3.12).\n",
      "Path to lyrics dataset: C:\\Users\\Joseph\\.cache\\kagglehub\\datasets\\asifsadmine\\spotify-playlists-dataset\\versions\\1/spotify_dataset.csv\n"
     ]
    }
   ],
   "source": [
    "import kagglehub\n",
    "\n",
    "# Get lyrics dataset from Kaggle\n",
    "lyrics_path = kagglehub.dataset_download(\"carlosgdcj/genius-song-lyrics-with-language-information\") + '/song_lyrics.csv'\n",
    "\n",
    "print(\"Path to lyrics dataset:\", lyrics_path)\n",
    "\n",
    "# Get playlists dataset from Kaggle\n",
    "playlists_path = kagglehub.dataset_download(\"asifsadmine/spotify-playlists-dataset\") + '/spotify_dataset.csv'\n",
    "\n",
    "print(\"Path to lyrics dataset:\", playlists_path)"
   ]
  },
  {
   "cell_type": "code",
   "execution_count": 55,
   "metadata": {},
   "outputs": [
    {
     "data": {
      "text/html": [
       "<div>\n",
       "<style scoped>\n",
       "    .dataframe tbody tr th:only-of-type {\n",
       "        vertical-align: middle;\n",
       "    }\n",
       "\n",
       "    .dataframe tbody tr th {\n",
       "        vertical-align: top;\n",
       "    }\n",
       "\n",
       "    .dataframe thead th {\n",
       "        text-align: right;\n",
       "    }\n",
       "</style>\n",
       "<table border=\"1\" class=\"dataframe\">\n",
       "  <thead>\n",
       "    <tr style=\"text-align: right;\">\n",
       "      <th></th>\n",
       "      <th>title</th>\n",
       "      <th>tag</th>\n",
       "      <th>artist</th>\n",
       "      <th>year</th>\n",
       "      <th>views</th>\n",
       "      <th>features</th>\n",
       "      <th>lyrics</th>\n",
       "      <th>id</th>\n",
       "      <th>language_cld3</th>\n",
       "      <th>language_ft</th>\n",
       "      <th>language</th>\n",
       "    </tr>\n",
       "  </thead>\n",
       "  <tbody>\n",
       "    <tr>\n",
       "      <th>0</th>\n",
       "      <td>Killa Cam</td>\n",
       "      <td>rap</td>\n",
       "      <td>Cam'ron</td>\n",
       "      <td>2004</td>\n",
       "      <td>173166</td>\n",
       "      <td>{\"Cam\\\\'ron\",\"Opera Steve\"}</td>\n",
       "      <td>[Chorus: Opera Steve &amp; Cam'ron]\\nKilla Cam, Ki...</td>\n",
       "      <td>1</td>\n",
       "      <td>en</td>\n",
       "      <td>en</td>\n",
       "      <td>en</td>\n",
       "    </tr>\n",
       "    <tr>\n",
       "      <th>1</th>\n",
       "      <td>Can I Live</td>\n",
       "      <td>rap</td>\n",
       "      <td>JAY-Z</td>\n",
       "      <td>1996</td>\n",
       "      <td>468624</td>\n",
       "      <td>{}</td>\n",
       "      <td>[Produced by Irv Gotti]\\n\\n[Intro]\\nYeah, hah,...</td>\n",
       "      <td>3</td>\n",
       "      <td>en</td>\n",
       "      <td>en</td>\n",
       "      <td>en</td>\n",
       "    </tr>\n",
       "    <tr>\n",
       "      <th>2</th>\n",
       "      <td>Forgive Me Father</td>\n",
       "      <td>rap</td>\n",
       "      <td>Fabolous</td>\n",
       "      <td>2003</td>\n",
       "      <td>4743</td>\n",
       "      <td>{}</td>\n",
       "      <td>Maybe cause I'm eatin\\nAnd these bastards fien...</td>\n",
       "      <td>4</td>\n",
       "      <td>en</td>\n",
       "      <td>en</td>\n",
       "      <td>en</td>\n",
       "    </tr>\n",
       "    <tr>\n",
       "      <th>3</th>\n",
       "      <td>Down and Out</td>\n",
       "      <td>rap</td>\n",
       "      <td>Cam'ron</td>\n",
       "      <td>2004</td>\n",
       "      <td>144404</td>\n",
       "      <td>{\"Cam\\\\'ron\",\"Kanye West\",\"Syleena Johnson\"}</td>\n",
       "      <td>[Produced by Kanye West and Brian Miller]\\n\\n[...</td>\n",
       "      <td>5</td>\n",
       "      <td>en</td>\n",
       "      <td>en</td>\n",
       "      <td>en</td>\n",
       "    </tr>\n",
       "    <tr>\n",
       "      <th>4</th>\n",
       "      <td>Fly In</td>\n",
       "      <td>rap</td>\n",
       "      <td>Lil Wayne</td>\n",
       "      <td>2005</td>\n",
       "      <td>78271</td>\n",
       "      <td>{}</td>\n",
       "      <td>[Intro]\\nSo they ask me\\n\"Young boy\\nWhat you ...</td>\n",
       "      <td>6</td>\n",
       "      <td>en</td>\n",
       "      <td>en</td>\n",
       "      <td>en</td>\n",
       "    </tr>\n",
       "  </tbody>\n",
       "</table>\n",
       "</div>"
      ],
      "text/plain": [
       "               title  tag     artist  year   views  \\\n",
       "0          Killa Cam  rap    Cam'ron  2004  173166   \n",
       "1         Can I Live  rap      JAY-Z  1996  468624   \n",
       "2  Forgive Me Father  rap   Fabolous  2003    4743   \n",
       "3       Down and Out  rap    Cam'ron  2004  144404   \n",
       "4             Fly In  rap  Lil Wayne  2005   78271   \n",
       "\n",
       "                                       features  \\\n",
       "0                   {\"Cam\\\\'ron\",\"Opera Steve\"}   \n",
       "1                                            {}   \n",
       "2                                            {}   \n",
       "3  {\"Cam\\\\'ron\",\"Kanye West\",\"Syleena Johnson\"}   \n",
       "4                                            {}   \n",
       "\n",
       "                                              lyrics  id language_cld3  \\\n",
       "0  [Chorus: Opera Steve & Cam'ron]\\nKilla Cam, Ki...   1            en   \n",
       "1  [Produced by Irv Gotti]\\n\\n[Intro]\\nYeah, hah,...   3            en   \n",
       "2  Maybe cause I'm eatin\\nAnd these bastards fien...   4            en   \n",
       "3  [Produced by Kanye West and Brian Miller]\\n\\n[...   5            en   \n",
       "4  [Intro]\\nSo they ask me\\n\"Young boy\\nWhat you ...   6            en   \n",
       "\n",
       "  language_ft language  \n",
       "0          en       en  \n",
       "1          en       en  \n",
       "2          en       en  \n",
       "3          en       en  \n",
       "4          en       en  "
      ]
     },
     "execution_count": 55,
     "metadata": {},
     "output_type": "execute_result"
    }
   ],
   "source": [
    "import pandas as pd\n",
    "\n",
    "# Load in to dataframe\n",
    "df_lyrics = pd.read_csv(lyrics_path)\n",
    "df_lyrics.head()"
   ]
  },
  {
   "cell_type": "code",
   "execution_count": 56,
   "metadata": {},
   "outputs": [
    {
     "data": {
      "text/html": [
       "<div>\n",
       "<style scoped>\n",
       "    .dataframe tbody tr th:only-of-type {\n",
       "        vertical-align: middle;\n",
       "    }\n",
       "\n",
       "    .dataframe tbody tr th {\n",
       "        vertical-align: top;\n",
       "    }\n",
       "\n",
       "    .dataframe thead th {\n",
       "        text-align: right;\n",
       "    }\n",
       "</style>\n",
       "<table border=\"1\" class=\"dataframe\">\n",
       "  <thead>\n",
       "    <tr style=\"text-align: right;\">\n",
       "      <th></th>\n",
       "      <th>user_id</th>\n",
       "      <th>\"artistname\"</th>\n",
       "      <th>\"trackname\"</th>\n",
       "      <th>\"playlistname\"</th>\n",
       "    </tr>\n",
       "  </thead>\n",
       "  <tbody>\n",
       "    <tr>\n",
       "      <th>0</th>\n",
       "      <td>9cc0cfd4d7d7885102480dd99e7a90d6</td>\n",
       "      <td>Elvis Costello</td>\n",
       "      <td>(The Angels Wanna Wear My) Red Shoes</td>\n",
       "      <td>HARD ROCK 2010</td>\n",
       "    </tr>\n",
       "    <tr>\n",
       "      <th>1</th>\n",
       "      <td>9cc0cfd4d7d7885102480dd99e7a90d6</td>\n",
       "      <td>Elvis Costello &amp; The Attractions</td>\n",
       "      <td>(What's So Funny 'Bout) Peace, Love And Unders...</td>\n",
       "      <td>HARD ROCK 2010</td>\n",
       "    </tr>\n",
       "    <tr>\n",
       "      <th>2</th>\n",
       "      <td>9cc0cfd4d7d7885102480dd99e7a90d6</td>\n",
       "      <td>Tiffany Page</td>\n",
       "      <td>7 Years Too Late</td>\n",
       "      <td>HARD ROCK 2010</td>\n",
       "    </tr>\n",
       "    <tr>\n",
       "      <th>3</th>\n",
       "      <td>9cc0cfd4d7d7885102480dd99e7a90d6</td>\n",
       "      <td>Elvis Costello &amp; The Attractions</td>\n",
       "      <td>Accidents Will Happen</td>\n",
       "      <td>HARD ROCK 2010</td>\n",
       "    </tr>\n",
       "    <tr>\n",
       "      <th>4</th>\n",
       "      <td>9cc0cfd4d7d7885102480dd99e7a90d6</td>\n",
       "      <td>Elvis Costello</td>\n",
       "      <td>Alison</td>\n",
       "      <td>HARD ROCK 2010</td>\n",
       "    </tr>\n",
       "  </tbody>\n",
       "</table>\n",
       "</div>"
      ],
      "text/plain": [
       "                            user_id                      \"artistname\"  \\\n",
       "0  9cc0cfd4d7d7885102480dd99e7a90d6                    Elvis Costello   \n",
       "1  9cc0cfd4d7d7885102480dd99e7a90d6  Elvis Costello & The Attractions   \n",
       "2  9cc0cfd4d7d7885102480dd99e7a90d6                      Tiffany Page   \n",
       "3  9cc0cfd4d7d7885102480dd99e7a90d6  Elvis Costello & The Attractions   \n",
       "4  9cc0cfd4d7d7885102480dd99e7a90d6                    Elvis Costello   \n",
       "\n",
       "                                         \"trackname\"  \"playlistname\"  \n",
       "0               (The Angels Wanna Wear My) Red Shoes  HARD ROCK 2010  \n",
       "1  (What's So Funny 'Bout) Peace, Love And Unders...  HARD ROCK 2010  \n",
       "2                                   7 Years Too Late  HARD ROCK 2010  \n",
       "3                              Accidents Will Happen  HARD ROCK 2010  \n",
       "4                                             Alison  HARD ROCK 2010  "
      ]
     },
     "execution_count": 56,
     "metadata": {},
     "output_type": "execute_result"
    }
   ],
   "source": [
    "# Load in to dataframe\n",
    "df_playlists = pd.read_csv(playlists_path, on_bad_lines='skip')\n",
    "df_playlists.head()"
   ]
  },
  {
   "cell_type": "code",
   "execution_count": 57,
   "metadata": {},
   "outputs": [
    {
     "data": {
      "text/html": [
       "<div>\n",
       "<style scoped>\n",
       "    .dataframe tbody tr th:only-of-type {\n",
       "        vertical-align: middle;\n",
       "    }\n",
       "\n",
       "    .dataframe tbody tr th {\n",
       "        vertical-align: top;\n",
       "    }\n",
       "\n",
       "    .dataframe thead th {\n",
       "        text-align: right;\n",
       "    }\n",
       "</style>\n",
       "<table border=\"1\" class=\"dataframe\">\n",
       "  <thead>\n",
       "    <tr style=\"text-align: right;\">\n",
       "      <th></th>\n",
       "      <th>year</th>\n",
       "      <th>views</th>\n",
       "      <th>id</th>\n",
       "    </tr>\n",
       "  </thead>\n",
       "  <tbody>\n",
       "    <tr>\n",
       "      <th>count</th>\n",
       "      <td>5.134856e+06</td>\n",
       "      <td>5.134856e+06</td>\n",
       "      <td>5.134856e+06</td>\n",
       "    </tr>\n",
       "    <tr>\n",
       "      <th>mean</th>\n",
       "      <td>2.010303e+03</td>\n",
       "      <td>3.060939e+03</td>\n",
       "      <td>3.830088e+06</td>\n",
       "    </tr>\n",
       "    <tr>\n",
       "      <th>std</th>\n",
       "      <td>4.501192e+01</td>\n",
       "      <td>4.730980e+04</td>\n",
       "      <td>2.305657e+06</td>\n",
       "    </tr>\n",
       "    <tr>\n",
       "      <th>min</th>\n",
       "      <td>1.000000e+00</td>\n",
       "      <td>0.000000e+00</td>\n",
       "      <td>1.000000e+00</td>\n",
       "    </tr>\n",
       "    <tr>\n",
       "      <th>25%</th>\n",
       "      <td>2.009000e+03</td>\n",
       "      <td>2.200000e+01</td>\n",
       "      <td>1.625220e+06</td>\n",
       "    </tr>\n",
       "    <tr>\n",
       "      <th>50%</th>\n",
       "      <td>2.016000e+03</td>\n",
       "      <td>8.500000e+01</td>\n",
       "      <td>3.866618e+06</td>\n",
       "    </tr>\n",
       "    <tr>\n",
       "      <th>75%</th>\n",
       "      <td>2.019000e+03</td>\n",
       "      <td>4.480000e+02</td>\n",
       "      <td>5.820614e+06</td>\n",
       "    </tr>\n",
       "    <tr>\n",
       "      <th>max</th>\n",
       "      <td>2.100000e+03</td>\n",
       "      <td>2.335142e+07</td>\n",
       "      <td>7.882848e+06</td>\n",
       "    </tr>\n",
       "  </tbody>\n",
       "</table>\n",
       "</div>"
      ],
      "text/plain": [
       "               year         views            id\n",
       "count  5.134856e+06  5.134856e+06  5.134856e+06\n",
       "mean   2.010303e+03  3.060939e+03  3.830088e+06\n",
       "std    4.501192e+01  4.730980e+04  2.305657e+06\n",
       "min    1.000000e+00  0.000000e+00  1.000000e+00\n",
       "25%    2.009000e+03  2.200000e+01  1.625220e+06\n",
       "50%    2.016000e+03  8.500000e+01  3.866618e+06\n",
       "75%    2.019000e+03  4.480000e+02  5.820614e+06\n",
       "max    2.100000e+03  2.335142e+07  7.882848e+06"
      ]
     },
     "execution_count": 57,
     "metadata": {},
     "output_type": "execute_result"
    }
   ],
   "source": [
    "df_lyrics.describe()"
   ]
  },
  {
   "cell_type": "code",
   "execution_count": 58,
   "metadata": {},
   "outputs": [
    {
     "data": {
      "text/html": [
       "<div>\n",
       "<style scoped>\n",
       "    .dataframe tbody tr th:only-of-type {\n",
       "        vertical-align: middle;\n",
       "    }\n",
       "\n",
       "    .dataframe tbody tr th {\n",
       "        vertical-align: top;\n",
       "    }\n",
       "\n",
       "    .dataframe thead th {\n",
       "        text-align: right;\n",
       "    }\n",
       "</style>\n",
       "<table border=\"1\" class=\"dataframe\">\n",
       "  <thead>\n",
       "    <tr style=\"text-align: right;\">\n",
       "      <th></th>\n",
       "      <th>user_id</th>\n",
       "      <th>\"artistname\"</th>\n",
       "      <th>\"trackname\"</th>\n",
       "      <th>\"playlistname\"</th>\n",
       "    </tr>\n",
       "  </thead>\n",
       "  <tbody>\n",
       "    <tr>\n",
       "      <th>count</th>\n",
       "      <td>12891680</td>\n",
       "      <td>12858108</td>\n",
       "      <td>12891592</td>\n",
       "      <td>12890434</td>\n",
       "    </tr>\n",
       "    <tr>\n",
       "      <th>unique</th>\n",
       "      <td>15918</td>\n",
       "      <td>289820</td>\n",
       "      <td>2032043</td>\n",
       "      <td>157504</td>\n",
       "    </tr>\n",
       "    <tr>\n",
       "      <th>top</th>\n",
       "      <td>4398de6902abde3351347b048fcdc287</td>\n",
       "      <td>Daft Punk</td>\n",
       "      <td>Intro</td>\n",
       "      <td>Starred</td>\n",
       "    </tr>\n",
       "    <tr>\n",
       "      <th>freq</th>\n",
       "      <td>295275</td>\n",
       "      <td>36086</td>\n",
       "      <td>6676</td>\n",
       "      <td>1337085</td>\n",
       "    </tr>\n",
       "  </tbody>\n",
       "</table>\n",
       "</div>"
      ],
      "text/plain": [
       "                                 user_id  \"artistname\"  \"trackname\"  \\\n",
       "count                           12891680      12858108     12891592   \n",
       "unique                             15918        289820      2032043   \n",
       "top     4398de6902abde3351347b048fcdc287     Daft Punk        Intro   \n",
       "freq                              295275         36086         6676   \n",
       "\n",
       "        \"playlistname\"  \n",
       "count         12890434  \n",
       "unique          157504  \n",
       "top            Starred  \n",
       "freq           1337085  "
      ]
     },
     "execution_count": 58,
     "metadata": {},
     "output_type": "execute_result"
    }
   ],
   "source": [
    "df_playlists.describe()"
   ]
  },
  {
   "cell_type": "markdown",
   "metadata": {},
   "source": [
    "# Clean the data"
   ]
  },
  {
   "cell_type": "code",
   "execution_count": 59,
   "metadata": {},
   "outputs": [],
   "source": [
    "import re\n",
    "\n",
    "def clean_lyrics(input_str):\n",
    "    # Remove content within square brackets, including brackets\n",
    "    no_brackets = re.sub(r'\\[.*?\\]', '', input_str)\n",
    "    # Remove all newline characters\n",
    "    cleaned = no_brackets.replace('\\n', ' ')\n",
    "    return cleaned\n",
    "\n",
    "df_lyrics['lyrics'] = [clean_lyrics(lyrics) for lyrics in df_lyrics['lyrics']]"
   ]
  },
  {
   "cell_type": "code",
   "execution_count": 60,
   "metadata": {},
   "outputs": [
    {
     "data": {
      "text/plain": [
       "0     Killa Cam, Killa Cam, Cam Killa Cam, Killa Ca...\n",
       "1       Yeah, hah, yeah, Roc-A-Fella We invite you ...\n",
       "2    Maybe cause I'm eatin And these bastards fiend...\n",
       "3       Ugh, Killa! Baby! Kanye, this that 1970s He...\n",
       "4     So they ask me \"Young boy What you gon' do th...\n",
       "5     Haha Uh-huh No homo (Young Mula, baby!) I say...\n",
       "6     No, no, no! I told you, I lived this shit I a...\n",
       "7     Killa, Dipset Man I spit that pimp talk, you ...\n",
       "8     Ay yo you wonder who I are I guzzle up at the...\n",
       "9     Now Lord you know, just how hard I try To liv...\n",
       "Name: lyrics, dtype: object"
      ]
     },
     "execution_count": 60,
     "metadata": {},
     "output_type": "execute_result"
    }
   ],
   "source": [
    "df_lyrics['lyrics'][0:10]"
   ]
  },
  {
   "cell_type": "code",
   "execution_count": 61,
   "metadata": {},
   "outputs": [],
   "source": [
    "# Rename all columns at once\n",
    "df_playlists.columns = ['user_id', 'artist', 'title', 'playlist_name']"
   ]
  },
  {
   "cell_type": "code",
   "execution_count": 62,
   "metadata": {},
   "outputs": [],
   "source": [
    "df_lyrics = df_lyrics[['title','artist','lyrics']]\n",
    "df_lyrics.drop_duplicates(inplace=True)\n",
    "df_lyrics.dropna(inplace=True)"
   ]
  },
  {
   "cell_type": "code",
   "execution_count": 63,
   "metadata": {},
   "outputs": [],
   "source": [
    "df_playlists.drop_duplicates(inplace=True)\n",
    "df_playlists.dropna(inplace=True)"
   ]
  },
  {
   "cell_type": "code",
   "execution_count": 64,
   "metadata": {},
   "outputs": [
    {
     "data": {
      "text/html": [
       "<div>\n",
       "<style scoped>\n",
       "    .dataframe tbody tr th:only-of-type {\n",
       "        vertical-align: middle;\n",
       "    }\n",
       "\n",
       "    .dataframe tbody tr th {\n",
       "        vertical-align: top;\n",
       "    }\n",
       "\n",
       "    .dataframe thead th {\n",
       "        text-align: right;\n",
       "    }\n",
       "</style>\n",
       "<table border=\"1\" class=\"dataframe\">\n",
       "  <thead>\n",
       "    <tr style=\"text-align: right;\">\n",
       "      <th></th>\n",
       "      <th>user_id</th>\n",
       "      <th>artist</th>\n",
       "      <th>title</th>\n",
       "      <th>playlist_name</th>\n",
       "      <th>lyrics</th>\n",
       "    </tr>\n",
       "  </thead>\n",
       "  <tbody>\n",
       "    <tr>\n",
       "      <th>0</th>\n",
       "      <td>9cc0cfd4d7d7885102480dd99e7a90d6</td>\n",
       "      <td>Elvis Costello</td>\n",
       "      <td>Alison</td>\n",
       "      <td>HARD ROCK 2010</td>\n",
       "      <td>Oh, it's so funny to be seeing you after so l...</td>\n",
       "    </tr>\n",
       "    <tr>\n",
       "      <th>1</th>\n",
       "      <td>9cc0cfd4d7d7885102480dd99e7a90d6</td>\n",
       "      <td>Lissie</td>\n",
       "      <td>All Be Okay</td>\n",
       "      <td>HARD ROCK 2010</td>\n",
       "      <td>I'm gonna break down the walls That keep us f...</td>\n",
       "    </tr>\n",
       "    <tr>\n",
       "      <th>2</th>\n",
       "      <td>9cc0cfd4d7d7885102480dd99e7a90d6</td>\n",
       "      <td>Lissie</td>\n",
       "      <td>Bright Side</td>\n",
       "      <td>HARD ROCK 2010</td>\n",
       "      <td>It's just me and my puppy Together we're so ve...</td>\n",
       "    </tr>\n",
       "    <tr>\n",
       "      <th>3</th>\n",
       "      <td>9cc0cfd4d7d7885102480dd99e7a90d6</td>\n",
       "      <td>Paul McCartney</td>\n",
       "      <td>Dance Tonight</td>\n",
       "      <td>HARD ROCK 2010</td>\n",
       "      <td>Everybody gonna dance tonight Everybody gonna...</td>\n",
       "    </tr>\n",
       "    <tr>\n",
       "      <th>4</th>\n",
       "      <td>9cc0cfd4d7d7885102480dd99e7a90d6</td>\n",
       "      <td>Lissie</td>\n",
       "      <td>Everywhere I Go</td>\n",
       "      <td>HARD ROCK 2010</td>\n",
       "      <td>And I'll fall on my knees Tell me how's the wa...</td>\n",
       "    </tr>\n",
       "  </tbody>\n",
       "</table>\n",
       "</div>"
      ],
      "text/plain": [
       "                            user_id          artist            title  \\\n",
       "0  9cc0cfd4d7d7885102480dd99e7a90d6  Elvis Costello           Alison   \n",
       "1  9cc0cfd4d7d7885102480dd99e7a90d6          Lissie      All Be Okay   \n",
       "2  9cc0cfd4d7d7885102480dd99e7a90d6          Lissie      Bright Side   \n",
       "3  9cc0cfd4d7d7885102480dd99e7a90d6  Paul McCartney    Dance Tonight   \n",
       "4  9cc0cfd4d7d7885102480dd99e7a90d6          Lissie  Everywhere I Go   \n",
       "\n",
       "    playlist_name                                             lyrics  \n",
       "0  HARD ROCK 2010   Oh, it's so funny to be seeing you after so l...  \n",
       "1  HARD ROCK 2010   I'm gonna break down the walls That keep us f...  \n",
       "2  HARD ROCK 2010  It's just me and my puppy Together we're so ve...  \n",
       "3  HARD ROCK 2010   Everybody gonna dance tonight Everybody gonna...  \n",
       "4  HARD ROCK 2010  And I'll fall on my knees Tell me how's the wa...  "
      ]
     },
     "execution_count": 64,
     "metadata": {},
     "output_type": "execute_result"
    }
   ],
   "source": [
    "df_merged = pd.merge(df_playlists, df_lyrics, on=['title', 'artist'], how='inner')\n",
    "df_merged.head()"
   ]
  },
  {
   "cell_type": "code",
   "execution_count": 65,
   "metadata": {},
   "outputs": [
    {
     "name": "stdout",
     "output_type": "stream",
     "text": [
      "cuda\n"
     ]
    }
   ],
   "source": [
    "from tqdm.notebook import tqdm\n",
    "from transformers import BertTokenizer, BertModel\n",
    "import torch\n",
    "\n",
    "tokenizer = BertTokenizer.from_pretrained('gaunernst/bert-mini-uncased')\n",
    "model = BertModel.from_pretrained('gaunernst/bert-mini-uncased')\n",
    "\n",
    "device = torch.device(\"cuda\" if torch.cuda.is_available() else \"cpu\")\n",
    "print(device)\n",
    "model = model.to(device)\n",
    "\n",
    "def encode_text(batch):\n",
    "    \"\"\"\n",
    "    Encodes a line of text into a vector\n",
    "    \"\"\"\n",
    "\n",
    "    inputs = tokenizer(batch, return_tensors=\"pt\", padding=True, truncation=True, max_length=128)\n",
    "    inputs = {k: v.to(device) for k, v in inputs.items()}\n",
    "\n",
    "    vectors = []\n",
    "    with torch.no_grad():\n",
    "        outputs = model(**inputs)\n",
    "\n",
    "    cls_embeddings = outputs.last_hidden_state[:, 0, :]\n",
    "    vectors.append(cls_embeddings.cpu())\n",
    "\n",
    "    return torch.cat(vectors, dim=0)"
   ]
  },
  {
   "cell_type": "code",
   "execution_count": 66,
   "metadata": {},
   "outputs": [
    {
     "data": {
      "application/vnd.jupyter.widget-view+json": {
       "model_id": "229303e2d3734240ad07d4150938eb18",
       "version_major": 2,
       "version_minor": 0
      },
      "text/plain": [
       "  0%|          | 0/746 [00:00<?, ?it/s]"
      ]
     },
     "metadata": {},
     "output_type": "display_data"
    },
    {
     "name": "stdout",
     "output_type": "stream",
     "text": [
      "[-0.2863682508468628, 0.0027955237310379744, 0.9295757412910461, -0.16499389708042145, 0.34771957993507385, -1.2672756910324097, 0.05975593626499176, -0.15577511489391327, -2.7807183265686035, 0.4438941478729248, -0.9299126267433167, -0.25062498450279236, 0.8180496096611023, -0.45512112975120544, -0.3532869815826416, -0.4785894751548767, 1.060288667678833, 0.7010627388954163, -0.5449026226997375, 0.8431845903396606, -0.2665114402770996, 0.46127158403396606, 0.734916627407074, -0.6033745408058167, 1.1152669191360474, -0.14094242453575134, 0.005836245138198137, -0.494703084230423, 0.5088372826576233, -0.7824686765670776, -0.19070293009281158, 1.1702921390533447, 1.5290980339050293, -0.2964482605457306, 0.3210524618625641, -0.6566931009292603, -0.24857403337955475, -0.6331234574317932, -0.21248756349086761, 0.18626737594604492, -0.8615722060203552, 0.38407817482948303, 0.4932136833667755, -0.4838082790374756, 1.0908176898956299, 1.224169373512268, -0.15303923189640045, -0.7671617865562439, 0.48515599966049194, 0.08885016292333603, -0.17533667385578156, 0.597715437412262, 0.4569213390350342, 2.2311041355133057, -0.33395618200302124, -2.158832311630249, -0.666414201259613, 0.6465106010437012, -0.6965634226799011, 0.045422304421663284, 1.0334298610687256, 0.7238636612892151, 0.6112384796142578, 0.9682983756065369, 0.21029961109161377, -0.4617728590965271, 0.2655162811279297, -0.8992293477058411, 1.1137689352035522, 1.391179084777832, -0.9548252820968628, -0.6360020637512207, 0.4679931402206421, 0.6376779079437256, 0.6668993830680847, 0.888025164604187, 0.534644603729248, 0.6205295920372009, -0.582271158695221, -0.45791029930114746, 0.1070704311132431, -0.6667349934577942, 0.17284394800662994, -1.6045271158218384, 0.4642263352870941, -0.6728271245956421, 1.0213661193847656, -0.5935017466545105, -0.7141636610031128, 1.1598492860794067, 0.1402580887079239, -1.6458125114440918, 0.9355785250663757, 0.6756315231323242, -0.2872391939163208, 0.9236122369766235, 0.2435106486082077, 0.8154717683792114, -0.6685682535171509, -0.41130906343460083, 0.9771198630332947, -0.5299961566925049, 0.884463906288147, 0.3045142590999603, -0.008704743348062038, -0.11901712417602539, -0.6707761287689209, 0.03795389086008072, -0.2642068862915039, -1.9222036600112915, 0.04791424795985222, 0.7649989724159241, -0.9181774258613586, -0.4356478750705719, 1.1478632688522339, -0.23938235640525818, -0.9443797469139099, -0.8049274682998657, 1.1356042623519897, 1.7396206855773926, -0.055158816277980804, -0.4688411355018616, -2.8345754146575928, -0.7690081000328064, -2.093283176422119, -0.47920310497283936, 0.3460747301578522, 0.2209479808807373, 0.7373161315917969, 0.045459944754838943, 0.9648134708404541, -0.04306938871741295, -0.5184163451194763, -1.2669730186462402, 0.1194506287574768, 1.1790539026260376, 0.3368856906890869, -0.11056100577116013, -1.1442761421203613, -1.6463505029678345, 2.276031732559204, -0.3771285116672516, 0.8297584652900696, 0.38449424505233765, 0.023639440536499023, -0.3851928114891052, 0.7195727825164795, -0.07014333456754684, -0.6721265316009521, -0.12606489658355713, -0.9108971953392029, -0.0878225639462471, -0.16980421543121338, 0.9032899737358093, 1.2055460214614868, -0.6932010054588318, 0.5363395810127258, -0.17911802232265472, 1.6066495180130005, 0.532610297203064, 0.3869630694389343, -0.5982726216316223, 0.3431977927684784, -1.4407731294631958, 1.0373233556747437, -0.3335738182067871, 0.32236093282699585, -0.7152588963508606, -0.5565652847290039, -1.0097495317459106, 1.4822804927825928, -0.1196613758802414, 3.4001965522766113, 1.1156203746795654, -0.34720975160598755, 0.14695510268211365, -0.6081619262695312, -1.1403546333312988, 0.03051633946597576, 1.6493334770202637, 0.9437906742095947, 0.12739291787147522, -0.039560023695230484, 0.30390632152557373, 0.006741303484886885, 0.2812129259109497, -0.7595678567886353, -0.6533430218696594, 0.1086212620139122, 0.19750595092773438, -3.105289936065674, 0.5437774062156677, -0.5619943737983704, -0.3276384174823761, 0.05852482467889786, -1.4393795728683472, -0.12178877741098404, 0.6560445427894592, -0.12130685150623322, -0.9275574684143066, 0.031118197366595268, 0.6421105265617371, 0.3471730053424835, -0.8216946721076965, -1.7089087963104248, 1.5152860879898071, 0.8833936452865601, -0.6677204966545105, -0.3065156936645508, -0.5282791256904602, 0.8087285161018372, -0.03271987661719322, 0.23338475823402405, -0.3210992217063904, -1.569391131401062, -1.1345447301864624, -0.32141953706741333, -0.20003487169742584, -0.38335132598876953, 0.6121515035629272, -0.07543651014566422, -0.22447805106639862, -0.21124465763568878, -1.1319760084152222, -0.44095537066459656, 1.3125476837158203, -0.4755135178565979, 0.1824817955493927, -0.6038671731948853, -0.9137775897979736, -0.07861104607582092, -0.4106059670448303, -0.20866529643535614, 0.6129570603370667, 0.45675599575042725, 0.534626841545105, -1.0993307828903198, -0.5738397836685181, -0.5119317770004272, 0.13244305551052094, 0.23023509979248047, -0.32034775614738464, -1.318582534790039, -2.3002593517303467, 0.7393664717674255, -0.7946627736091614, 1.296265959739685, -0.694783627986908, -1.2440803050994873, 1.2398778200149536, -0.6846804618835449, 2.303515672683716, -0.14285185933113098, -0.5047777891159058, -0.7813972234725952, 0.35614457726478577, -0.38768988847732544, -0.6140182018280029, -0.254699170589447, -0.13292299211025238, 1.0985028743743896, -0.26399290561676025, -0.4561806917190552, 0.44906097650527954, -3.7121541500091553, -0.384445458650589, -2.1812055110931396, -0.3558971583843231, 1.579329013824463, 0.40981706976890564, 0.8886144757270813, 0.6898162961006165, -0.830788791179657, -0.22057922184467316, -1.5836101770401, 0.4620160460472107, -0.26741644740104675, 1.048089861869812, -0.3753300607204437, 0.04635575786232948, 0.22946098446846008, 0.34732040762901306, 0.3091285526752472, -0.414478600025177, 1.1798374652862549, 0.2657816410064697, 0.21123147010803223, 0.2372557818889618, 1.6723741292953491, -0.1981561928987503, 0.2897520363330841, 0.06022727116942406, -0.6714362502098083, 0.5143682956695557, -0.8954334259033203, -1.4172900915145874, -0.5399596691131592, 0.7785178422927856, 1.3556009531021118, -1.888795018196106, 0.863297700881958, -0.11608278006315231, -0.7750230431556702, -0.7139599323272705, -0.37684476375579834, 0.36317938566207886, -0.4279906451702118, 1.6224746704101562, 0.7654199600219727, 1.593220829963684, 0.016971290111541748, -0.3962198793888092, -0.09895341098308563, -1.248481273651123, -0.9033221006393433, 0.2284492701292038, -0.5078995823860168, -0.8482878804206848, -0.07268209755420685, -0.9661604762077332, 0.14707228541374207, 1.4667965173721313, 1.3234935998916626, -0.9023584127426147, -0.08649859577417374, 0.1694110780954361, 0.06409388780593872, 0.3589296340942383, -0.28481677174568176, 0.7870087027549744, 0.8870503902435303, -0.3612528145313263, 0.9888739585876465, -0.5135670900344849, -0.38688939809799194, 1.0358824729919434, -0.04548118636012077, 0.22883576154708862, -0.5432210564613342, -0.7149292230606079, 0.37809544801712036, 0.4568713903427124, 2.0972602367401123, -0.10513482242822647, -0.7023979425430298, 1.3593766689300537, -0.04752857983112335, -0.48741817474365234, -0.40579327940940857, 1.0269079208374023, -0.38496100902557373, 1.7810019254684448, 0.31681832671165466, -0.09196826815605164, 0.3730196952819824, 0.5084816813468933, 1.489542841911316, -0.03700483217835426, 0.09214959293603897, -0.0998368188738823, 0.017843415960669518, 0.4607977569103241, -0.7026643753051758, 0.38976824283599854, -0.29927101731300354, -2.214373826980591, -0.5400934219360352, 0.35659047961235046, -0.4714788496494293, -0.3900943100452423, 1.7969036102294922, -0.795738160610199, -1.6886483430862427, -1.6339747905731201, -0.22040434181690216, -0.09261508285999298, 0.1644577533006668, -2.270096778869629, -3.022714614868164, -0.1048332080245018, -0.06259682774543762, 0.8538381457328796, 1.5213347673416138, 0.0036088048946112394, 0.3704273998737335, 0.024689488112926483, 0.4390221834182739, -0.03827451542019844, -1.420282006263733, -0.47956645488739014, 0.5939905047416687, -0.345579594373703, 0.4493374526500702, 0.8818417191505432, -1.601235270500183, -1.1042017936706543, 0.6651641130447388, 0.4036598801612854, 0.41207998991012573, -0.413748174905777, 1.070740818977356, 1.3700222969055176, 0.33805006742477417, 0.8814885020256042, 0.13173159956932068, -0.3175409734249115, 0.33782121539115906, -0.13708241283893585, -0.45996975898742676, -0.7610848546028137, -0.785563051700592, -1.0655864477157593, -0.25224432349205017, 0.20917466282844543, 1.814717173576355, 0.09419567883014679, 1.1406282186508179, 0.3197508752346039, 0.05463461950421333, -2.3574302196502686, -0.1829991489648819, -0.7868756055831909, 0.12311625480651855, 0.013456831686198711, -0.9204391241073608, -0.29980987310409546, 0.22048839926719666, 0.3485649526119232, 4.058970928192139, 0.41391390562057495, 0.6219465136528015, -0.6303348541259766, -0.5523107647895813, -0.31471917033195496, 0.30518126487731934, 0.8687107563018799, 0.5708762407302856, -0.29962193965911865, -0.8896471261978149, 1.0732433795928955, 1.6919254064559937, 0.3737187385559082, 0.8220937848091125, 0.04965190961956978, -0.373008131980896, 0.22994813323020935, -3.6087236404418945, 0.3473680913448334, 0.8127799034118652, -0.04373353347182274, -0.5920943021774292, 0.05408109724521637, -0.5398367047309875, -0.07769900560379028, -1.0405654907226562, -0.26655757427215576, -1.3310383558273315, -0.4801817238330841, 0.3741995692253113, -0.17848075926303864, -0.027423979714512825, 0.35330718755722046, 0.5057626962661743, -0.5695621371269226, -0.7402653098106384, 0.3206249177455902, 0.48323699831962585, -0.9622917175292969, -0.053198691457509995, 0.7791096568107605, 1.1075996160507202, -0.7327366471290588, 0.0016720130806788802, 0.7718969583511353, 0.4018373489379883, 0.3874233067035675, 0.5087859034538269, 0.5682650208473206, -1.0119855403900146, -0.6573715209960938, -0.8471232652664185, 0.5801303386688232, 0.30919352173805237, 0.5143805146217346, 0.18629960715770721, -0.12791569530963898, -1.4802762269973755, -0.31190261244773865, -0.6921148896217346, 0.004790100269019604, 0.35167503356933594, 0.5888447761535645, -0.8502604365348816, -0.1262320876121521, -1.5603450536727905, 0.3561994731426239, -1.2653599977493286, -0.7312003970146179, -1.2969996929168701, -1.5511327981948853, 1.1996941566467285, -0.4652392566204071, -0.6575400829315186, -0.1088223084807396, -0.3144972622394562, 0.2744811177253723, 0.6305040717124939, 1.437935471534729, -0.07996361702680588, -1.133882761001587, 0.002114547649398446, -0.2908268868923187]\n"
     ]
    }
   ],
   "source": [
    "sampled_df = df_merged.sample(frac = 0.01)\n",
    "\n",
    "playlist_names = sampled_df['playlist_name'].values\n",
    "titles = sampled_df['title'].values\n",
    "lyrics = sampled_df['lyrics'].values\n",
    "\n",
    "pos_title_vectors = []\n",
    "pos_lyrics_vectors = []\n",
    "pos_vectors = []\n",
    "\n",
    "batch_size = 64\n",
    "for i in tqdm(range(0, len(sampled_df), batch_size)):\n",
    "    playlist_vecs = encode_text(list(playlist_names[i:i+batch_size]))\n",
    "    title_vecs = encode_text(list(titles[i:i+batch_size]))\n",
    "    # lyrics_vecs = encode_text(list(lyrics[i:i+batch_size]))\n",
    "    for j in range(len(playlist_vecs)):\n",
    "        pos_vectors.append(playlist_vecs[j].tolist() + title_vecs[j].tolist())# + lyrics_vecs[j].tolist())\n",
    "\n",
    "print(pos_vectors[0])"
   ]
  },
  {
   "cell_type": "code",
   "execution_count": 67,
   "metadata": {},
   "outputs": [],
   "source": [
    "def get_negative_examples(df, current_playlist, n=1):\n",
    "    \"\"\"\n",
    "    Returns n negative examples (rows) where playlist_name != current_playlist\n",
    "    \"\"\"\n",
    "    samples = df.sample(n=n)\n",
    "    while (current_playlist in samples['playlist_name']):\n",
    "        samples = df.sample(n=n)\n",
    "    return samples"
   ]
  },
  {
   "cell_type": "code",
   "execution_count": 68,
   "metadata": {},
   "outputs": [
    {
     "data": {
      "application/vnd.jupyter.widget-view+json": {
       "model_id": "41765549b5094e1896777456aa0de9a8",
       "version_major": 2,
       "version_minor": 0
      },
      "text/plain": [
       "  0%|          | 0/47704 [00:00<?, ?it/s]"
      ]
     },
     "metadata": {},
     "output_type": "display_data"
    }
   ],
   "source": [
    "neg_sample_titles = []\n",
    "neg_sample_lyrics = []\n",
    "neg_sample_playlists = []\n",
    "\n",
    "for i in tqdm(range(len(sampled_df))):\n",
    "    row = sampled_df.iloc[i]\n",
    "    current_playlist = row['playlist_name']\n",
    "    samples = get_negative_examples(sampled_df, current_playlist)\n",
    "\n",
    "    sample_titles = list(samples['title'])\n",
    "    sample_lyrics = list(samples['lyrics'])\n",
    "\n",
    "    for j in range(len(samples)):\n",
    "        neg_sample_titles.append(sample_titles[j])\n",
    "        neg_sample_lyrics.append(sample_lyrics[j])\n",
    "        neg_sample_playlists.append(current_playlist)"
   ]
  },
  {
   "cell_type": "code",
   "execution_count": 69,
   "metadata": {},
   "outputs": [
    {
     "data": {
      "application/vnd.jupyter.widget-view+json": {
       "model_id": "37214b9a9af64810a5b0067df94eb65b",
       "version_major": 2,
       "version_minor": 0
      },
      "text/plain": [
       "  0%|          | 0/746 [00:00<?, ?it/s]"
      ]
     },
     "metadata": {},
     "output_type": "display_data"
    }
   ],
   "source": [
    "neg_title_vectors = []\n",
    "neg_lyric_vectors = []\n",
    "neg_vectors = []\n",
    "for i in tqdm(range(0, len(neg_sample_titles), batch_size)):\n",
    "    playlist_vecs = encode_text(list(neg_sample_playlists[i:i+batch_size]))\n",
    "    title_vecs = encode_text(list(neg_sample_titles[i:i+batch_size]))\n",
    "    #lyric_vecs = encode_text(list(neg_sample_lyrics[i:i+batch_size]))\n",
    "    for j in range(len(playlist_vecs)):\n",
    "        neg_vectors.append(playlist_vecs[j].tolist() + title_vecs[j].tolist())# + lyric_vecs[j].tolist())"
   ]
  },
  {
   "cell_type": "code",
   "execution_count": 70,
   "metadata": {},
   "outputs": [],
   "source": [
    "X = pos_vectors + neg_vectors\n",
    "y = ([1] * len(pos_vectors)) + ([0] * len(neg_vectors))\n",
    "\n",
    "from sklearn.model_selection import train_test_split\n",
    "X_train, X_test, y_train, y_test = train_test_split(X, y, test_size=0.2)"
   ]
  },
  {
   "cell_type": "code",
   "execution_count": 71,
   "metadata": {},
   "outputs": [
    {
     "name": "stdout",
     "output_type": "stream",
     "text": [
      "0.47232994445026727\n"
     ]
    }
   ],
   "source": [
    "from sklearn.linear_model import LogisticRegression\n",
    "from sklearn.metrics import accuracy_score\n",
    "\n",
    "title_model = LogisticRegression(max_iter=10000)\n",
    "title_model.fit(X_train, y_train)\n",
    "\n",
    "y_pred = title_model.predict(X_test)\n",
    "accuracy = accuracy_score(y_test, y_pred)\n",
    "print(accuracy)"
   ]
  },
  {
   "cell_type": "code",
   "execution_count": 72,
   "metadata": {},
   "outputs": [
    {
     "data": {
      "application/vnd.jupyter.widget-view+json": {
       "model_id": "1fd6104a3c794a10b091cd664b269c32",
       "version_major": 2,
       "version_minor": 0
      },
      "text/plain": [
       "  0%|          | 0/1000 [00:00<?, ?it/s]"
      ]
     },
     "metadata": {},
     "output_type": "display_data"
    },
    {
     "name": "stdout",
     "output_type": "stream",
     "text": [
      "Accuracy on test data: 0.4940\n"
     ]
    }
   ],
   "source": [
    "import torch\n",
    "import torch.nn as nn\n",
    "\n",
    "class SimpleBinaryClassifier(nn.Module):\n",
    "    def __init__(self):\n",
    "        super(SimpleBinaryClassifier, self).__init__()\n",
    "        self.model = nn.Sequential(\n",
    "            nn.Linear(512, 128),   # 512 -> 128\n",
    "            nn.ReLU(),\n",
    "            nn.Linear(128, 64),    # 128 -> 64\n",
    "            nn.ReLU(),\n",
    "            nn.Linear(64, 1),      # 64 -> 1\n",
    "            nn.Sigmoid()           # Binary output\n",
    "        )\n",
    "        \n",
    "    def forward(self, x):\n",
    "        return self.model(x)\n",
    "    \n",
    "loss_fn = nn.BCELoss()\n",
    "\n",
    "bin_model = SimpleBinaryClassifier()\n",
    "optimizer = torch.optim.Adam(bin_model.parameters(), lr=0.001)\n",
    "loss_fn = nn.BCELoss()\n",
    "\n",
    "epochs = 1000\n",
    "\n",
    "X_train_tensor = torch.tensor(X_train, dtype=torch.float32)\n",
    "y_train_tensor = torch.tensor(y_train, dtype=torch.float32)\n",
    "\n",
    "for epoch in tqdm(range(epochs)):\n",
    "    bin_model.train()  # Set model to training mode\n",
    "\n",
    "    optimizer.zero_grad()  # Clear gradients\n",
    "    \n",
    "    y_pred = bin_model(X_train_tensor)  # Forward pass\n",
    "    loss = loss_fn(y_pred, y_train_tensor.unsqueeze(1))  # Compute loss\n",
    "    \n",
    "    loss.backward()  # Backward pass\n",
    "    optimizer.step()  # Update weights\n",
    "\n",
    "    #print(f'Epoch {epoch+1}/{epochs}, Loss: {loss.item():.4f}')\n",
    "\n",
    "\n",
    "X_test_tensor = torch.tensor(X_test, dtype=torch.float32)\n",
    "\n",
    "# Set model to evaluation mode\n",
    "bin_model.eval()\n",
    "\n",
    "# Run without gradients\n",
    "with torch.no_grad():\n",
    "    y_pred = bin_model(X_test_tensor)  # outputs probabilities\n",
    "\n",
    "# Convert probabilities to 0 or 1\n",
    "predicted_labels = (y_pred > 0.5).float()\n",
    "\n",
    "# (Optional) Compare to true labels\n",
    "correct = len([True for idx in range(len(y_test)) if predicted_labels[idx] == y_test[idx]])\n",
    "accuracy = correct / len(y_test)\n",
    "\n",
    "print(f'Accuracy on test data: {accuracy:.4f}')"
   ]
  },
  {
   "cell_type": "markdown",
   "metadata": {},
   "source": [
    "## Cosine Similarity way"
   ]
  },
  {
   "cell_type": "code",
   "execution_count": 73,
   "metadata": {},
   "outputs": [
    {
     "name": "stderr",
     "output_type": "stream",
     "text": [
      "[nltk_data] Downloading package punkt to\n",
      "[nltk_data]     C:\\Users\\Joseph\\AppData\\Roaming\\nltk_data...\n",
      "[nltk_data]   Package punkt is already up-to-date!\n"
     ]
    },
    {
     "data": {
      "text/plain": [
       "True"
      ]
     },
     "execution_count": 73,
     "metadata": {},
     "output_type": "execute_result"
    }
   ],
   "source": [
    "from gensim.models import Word2Vec\n",
    "from nltk.tokenize import word_tokenize\n",
    "from sklearn.metrics.pairwise import cosine_similarity\n",
    "import nltk\n",
    "import numpy as np\n",
    "\n",
    "# Download tokenizer if not done already\n",
    "nltk.download('punkt')"
   ]
  },
  {
   "cell_type": "code",
   "execution_count": 74,
   "metadata": {},
   "outputs": [],
   "source": [
    "# Deduplicate for training\n",
    "unique_playlists = df_merged['playlist_name'].dropna().drop_duplicates()"
   ]
  },
  {
   "cell_type": "code",
   "execution_count": 75,
   "metadata": {},
   "outputs": [],
   "source": [
    "# Tokenize unique playlist titles\n",
    "tokenized_playlists = [word_tokenize(title.lower()) for title in unique_playlists]"
   ]
  },
  {
   "cell_type": "code",
   "execution_count": 76,
   "metadata": {},
   "outputs": [],
   "source": [
    "w2v = Word2Vec(sentences=tokenized_playlists, vector_size=100, min_count=1, window=5, workers=4)"
   ]
  },
  {
   "cell_type": "code",
   "execution_count": 77,
   "metadata": {},
   "outputs": [],
   "source": [
    "def get_avg_vector(tokens, model):\n",
    "    vectors = [model.wv[token] for token in tokens if token in model.wv]\n",
    "    if not vectors:\n",
    "        return np.zeros(model.vector_size)\n",
    "    return np.mean(vectors, axis=0)\n",
    "    "
   ]
  },
  {
   "cell_type": "code",
   "execution_count": 78,
   "metadata": {},
   "outputs": [
    {
     "data": {
      "text/plain": [
       "array([-0.4023529 ,  0.5368228 ,  0.17213614,  0.36515328,  0.49083248,\n",
       "       -1.5548149 , -0.04383549,  1.816368  , -0.9501686 , -0.56733716,\n",
       "       -0.26527938, -1.9931607 , -0.32654658,  0.559966  ,  0.23041137,\n",
       "       -0.77492225,  0.5570848 , -0.11597369, -0.3077582 , -1.5650067 ,\n",
       "        1.3443732 ,  0.29860377,  0.6713003 , -0.9153496 ,  0.47240698,\n",
       "       -0.00925231, -1.0723975 ,  0.15153019, -0.1846873 , -0.2833491 ,\n",
       "        0.44456857,  0.1330873 ,  0.17040855, -0.7049825 , -0.34538755,\n",
       "        1.4042125 ,  0.5552995 ,  0.308369  , -0.5325019 , -0.38343516,\n",
       "        0.10088324, -0.91342026, -0.08829863,  0.16416939, -0.11253625,\n",
       "        0.00642821, -0.54524666,  0.5354011 ,  0.48767865,  0.7476007 ,\n",
       "        0.47028014, -1.188907  , -0.58599293, -0.386411  ,  0.5480798 ,\n",
       "        0.22189388,  0.8434266 , -0.10597549, -0.6976744 ,  0.28570053,\n",
       "       -0.70610017, -0.12556028,  0.6876086 , -0.00581659, -0.3026509 ,\n",
       "        1.2644029 ,  0.5778586 ,  1.4712663 , -0.46924827,  0.7244487 ,\n",
       "        0.33975753, -0.6645699 ,  1.0162715 ,  0.13072881,  0.41791725,\n",
       "        0.1964578 , -0.12625654,  0.25963324, -0.45076883, -0.58755744,\n",
       "       -1.9176095 ,  0.45849293, -0.74040496,  0.8609526 ,  0.66385734,\n",
       "        0.01967467,  1.4416527 ,  0.13063039,  1.1806631 ,  0.32446173,\n",
       "        0.8750608 ,  0.27967033,  0.3764596 , -0.02390007,  1.5675347 ,\n",
       "        1.0371382 , -0.26488456, -0.36115086, -0.5280828 ,  0.24766168],\n",
       "      dtype=float32)"
      ]
     },
     "execution_count": 78,
     "metadata": {},
     "output_type": "execute_result"
    }
   ],
   "source": [
    "query = \"Chill songs\"\n",
    "query_tokens = word_tokenize(query.lower())\n",
    "query_vec = get_avg_vector(query_tokens, w2v)\n",
    "query_vec"
   ]
  },
  {
   "cell_type": "code",
   "execution_count": 79,
   "metadata": {},
   "outputs": [],
   "source": [
    "tokenized_all = [\n",
    "    word_tokenize(str(title).lower()) if pd.notna(title) else []\n",
    "    for title in df_merged['playlist_name']\n",
    "]\n",
    "\n",
    "#playlist_vecs = [get_avg_vector(tokens, w2v) for tokens in tokenized_all]"
   ]
  },
  {
   "cell_type": "code",
   "execution_count": 80,
   "metadata": {},
   "outputs": [],
   "source": [
    "\n",
    "def get_cosine_similarity_song(query):\n",
    "    query_tokens = word_tokenize(query.lower())\n",
    "    query_vec = get_avg_vector(query_tokens, w2v)\n",
    "    \n",
    "    # Cosine similarity\n",
    "    similarities = cosine_similarity([query_vec], playlist_vecs).flatten()\n",
    "\n",
    "    # Sort with argsort\n",
    "    sorted_indices = similarities.argsort()[::-1]\n",
    "    df_sorted = df_merged.iloc[sorted_indices].copy()\n",
    "    df_sorted['similarity'] = similarities[sorted_indices]\n",
    "\n",
    "    return df_sorted[:5]\n",
    "\n",
    "def get_top_cosine_similarity_for_tracks(lyrics_list, playlist_name):\n",
    "    name_tokens = word_tokenize(playlist_name)\n",
    "    name_vec = get_avg_vector(name_tokens, w2v)\n",
    "\n",
    "    results = []\n",
    "    for lyrics in lyrics_list:\n",
    "        lyrics_tokens = word_tokenize(lyrics)\n",
    "        lyrics_vec = get_avg_vector(lyrics_tokens, w2v)\n",
    "        lyrics_sim = cosine_similarity([name_vec], [lyrics_vec])[0][0]\n",
    "        results.append(lyrics_sim)\n",
    "\n",
    "    return results\n",
    "\n",
    "def get_top_cosine_similarity_for_tracks_bert(lyrics_list, playlist_name):\n",
    "    name_vec = encode_text([playlist_name])\n",
    "\n",
    "    results = []\n",
    "    for lyrics in lyrics_list:\n",
    "        lyrics_vec = encode_text([lyrics])\n",
    "        lyrics_sim = cosine_similarity(name_vec, lyrics_vec)[0][0]\n",
    "        results.append(lyrics_sim)\n",
    "\n",
    "    return results"
   ]
  },
  {
   "cell_type": "code",
   "execution_count": 81,
   "metadata": {},
   "outputs": [
    {
     "data": {
      "application/vnd.jupyter.widget-view+json": {
       "model_id": "a9ce755cb7404d079b282575c2a80ea3",
       "version_major": 2,
       "version_minor": 0
      },
      "text/plain": [
       "  0%|          | 0/200 [00:00<?, ?it/s]"
      ]
     },
     "metadata": {},
     "output_type": "display_data"
    },
    {
     "name": "stdout",
     "output_type": "stream",
     "text": [
      "0.5486190353482665\n",
      "0.2990376861255188\n"
     ]
    }
   ],
   "source": [
    "import random\n",
    "\n",
    "unique_users = df_merged['user_id'].unique()\n",
    "random_user = random.choice(unique_users)\n",
    "scores = []\n",
    "baselines = []\n",
    "for user in tqdm(random.sample(list(unique_users), 200)):\n",
    "    user_rows = df_merged[df_merged['user_id'] == user]\n",
    "    if len(user_rows['playlist_name'].unique()) > 1:\n",
    "        first_name = user_rows['playlist_name'].values[random.randint(0, len(user_rows) - 1)]\n",
    "        in_playlist = user_rows[user_rows['playlist_name'] == first_name]\n",
    "        out_playlist = user_rows[\n",
    "                            (user_rows['playlist_name'] != first_name) &\n",
    "                            (~user_rows['title'].isin(in_playlist['title']))\n",
    "                        ]\n",
    "        full_list = list(in_playlist['lyrics'].values) + list(out_playlist['lyrics'].values)\n",
    "        results = get_top_cosine_similarity_for_tracks(full_list, first_name)\n",
    "        zipped = list(zip(in_playlist['title'], results[0:len(in_playlist)]))\n",
    "        zipped_2 = list(zip(out_playlist['title'], results[len(in_playlist):]))\n",
    "        sort_zipped = sorted(zipped + zipped_2, key=lambda x: x[1])\n",
    "        #sort_zipped.reverse()\n",
    "        titles = [item[0] for item in sort_zipped[0:len(in_playlist)]]\n",
    "        same = set(titles).intersection(set(in_playlist['title']))\n",
    "        scores.append(len(same)/float(len(in_playlist)))\n",
    "        baselines.append(len(in_playlist)/float(len(in_playlist) + len(out_playlist)))\n",
    "print(np.mean(scores))\n",
    "print(np.mean(baselines))"
   ]
  },
  {
   "cell_type": "markdown",
   "metadata": {},
   "source": [
    "# Hybrid Model"
   ]
  },
  {
   "cell_type": "code",
   "execution_count": 227,
   "metadata": {},
   "outputs": [],
   "source": [
    "class SongData:\n",
    "    def __init__(self, song_id, title, lyrics):\n",
    "        self.song_id = song_id\n",
    "        self.title = title\n",
    "        self.lyrics = lyrics\n",
    "\n",
    "class HybridModel:\n",
    "    def __init__(self, nn_model: SimpleBinaryClassifier, nn_weight = 0.1, cos_weight = 0.9):\n",
    "        self.nn_model = nn_model\n",
    "        self.nn_weight = nn_weight\n",
    "        self.cos_weight = cos_weight\n",
    "    \n",
    "    def fit_predict(self, playlist_name, song_data : list[SongData], top_n = None):\n",
    "        ids = [song.song_id for song in song_data]\n",
    "        titles = [song.title for song in song_data]\n",
    "        lyrics = [song.lyrics for song in song_data]\n",
    "        playlist_vec = encode_text([playlist_name])[0]\n",
    "        title_vecs = encode_text(titles)\n",
    "        combined_vecs = []\n",
    "        for i in range(len(title_vecs)):\n",
    "            combined_vecs.append(playlist_vec.tolist() + title_vecs[i].tolist())\n",
    "        \n",
    "        combined_vecs_tensor = torch.tensor(combined_vecs, dtype=torch.float32)\n",
    "\n",
    "        # Set model to evaluation mode\n",
    "        self.nn_model.eval()\n",
    "\n",
    "        # Run without gradients\n",
    "        with torch.no_grad():\n",
    "            nn_results = self.nn_model(combined_vecs_tensor).flatten()  # outputs probabilities\n",
    "\n",
    "        # Cosine similarity\n",
    "        cos_results = []\n",
    "        lyrics_vecs = encode_text(lyrics)\n",
    "        for lyrics_vec in lyrics_vecs:\n",
    "            lyrics_sim = cosine_similarity([playlist_vec.tolist(), lyrics_vec.tolist()])[0][0]\n",
    "            cos_results.append(lyrics_sim)\n",
    "\n",
    "        results = [((nn_results[i] * self.nn_weight) + (cos_results[i] * self.cos_weight)) for i in range(len(song_data))]\n",
    "        scored_songs = zip(song_data, results)\n",
    "        sorted_songs = sorted(scored_songs, key=lambda x: x[1])\n",
    "\n",
    "        # returns the sorted list of songs\n",
    "        return [song for song in sorted_songs[0]][0:top_n if top_n != None else len(sorted_songs)]"
   ]
  },
  {
   "cell_type": "code",
   "execution_count": 228,
   "metadata": {},
   "outputs": [
    {
     "name": "stdout",
     "output_type": "stream",
     "text": [
      "Glee\n"
     ]
    }
   ],
   "source": [
    "hybrid_model = HybridModel(nn_model = bin_model)\n",
    "\n",
    "results = hybrid_model.fit_predict(\"Uplifting\", [SongData(\"123\", \"sad song\", \"I am so sad and unfortunate.\"), SongData(\"234\",\"Glee\", \"Feeling like a joyous soul.\")])\n",
    "print(results[0].title)"
   ]
  },
  {
   "cell_type": "code",
   "execution_count": null,
   "metadata": {},
   "outputs": [
    {
     "data": {
      "text/plain": [
       "['model.joblib']"
      ]
     },
     "execution_count": 229,
     "metadata": {},
     "output_type": "execute_result"
    }
   ],
   "source": [
    "import joblib\n",
    "\n",
    "#export to file\n",
    "joblib.dump(hybrid_model, 'model.joblib')"
   ]
  }
 ],
 "metadata": {
  "kernelspec": {
   "display_name": "Python 3",
   "language": "python",
   "name": "python3"
  },
  "language_info": {
   "codemirror_mode": {
    "name": "ipython",
    "version": 3
   },
   "file_extension": ".py",
   "mimetype": "text/x-python",
   "name": "python",
   "nbconvert_exporter": "python",
   "pygments_lexer": "ipython3",
   "version": "3.12.10"
  }
 },
 "nbformat": 4,
 "nbformat_minor": 2
}
