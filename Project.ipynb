{
 "cells": [
  {
   "cell_type": "markdown",
   "metadata": {},
   "source": [
    "# Playlist Maker\n",
    "## Joseph Moore\n",
    "## Anirud Shrestha"
   ]
  },
  {
   "cell_type": "markdown",
   "metadata": {},
   "source": [
    "# Load in the data"
   ]
  },
  {
   "cell_type": "code",
   "execution_count": 1,
   "metadata": {},
   "outputs": [
    {
     "name": "stdout",
     "output_type": "stream",
     "text": [
      "Warning: Looks like you're using an outdated `kagglehub` version (installed: 0.3.11), please consider upgrading to the latest version (0.3.12).\n",
      "Path to lyrics dataset: C:\\Users\\Joseph\\.cache\\kagglehub\\datasets\\carlosgdcj\\genius-song-lyrics-with-language-information\\versions\\1/song_lyrics.csv\n",
      "Warning: Looks like you're using an outdated `kagglehub` version (installed: 0.3.11), please consider upgrading to the latest version (0.3.12).\n",
      "Path to lyrics dataset: C:\\Users\\Joseph\\.cache\\kagglehub\\datasets\\asifsadmine\\spotify-playlists-dataset\\versions\\1/spotify_dataset.csv\n"
     ]
    }
   ],
   "source": [
    "import kagglehub\n",
    "\n",
    "# Get lyrics dataset from Kaggle\n",
    "lyrics_path = kagglehub.dataset_download(\"carlosgdcj/genius-song-lyrics-with-language-information\") + '/song_lyrics.csv'\n",
    "\n",
    "print(\"Path to lyrics dataset:\", lyrics_path)\n",
    "\n",
    "# Get playlists dataset from Kaggle\n",
    "playlists_path = kagglehub.dataset_download(\"asifsadmine/spotify-playlists-dataset\") + '/spotify_dataset.csv'\n",
    "\n",
    "print(\"Path to lyrics dataset:\", playlists_path)"
   ]
  },
  {
   "cell_type": "code",
   "execution_count": 2,
   "metadata": {},
   "outputs": [
    {
     "data": {
      "text/html": [
       "<div>\n",
       "<style scoped>\n",
       "    .dataframe tbody tr th:only-of-type {\n",
       "        vertical-align: middle;\n",
       "    }\n",
       "\n",
       "    .dataframe tbody tr th {\n",
       "        vertical-align: top;\n",
       "    }\n",
       "\n",
       "    .dataframe thead th {\n",
       "        text-align: right;\n",
       "    }\n",
       "</style>\n",
       "<table border=\"1\" class=\"dataframe\">\n",
       "  <thead>\n",
       "    <tr style=\"text-align: right;\">\n",
       "      <th></th>\n",
       "      <th>title</th>\n",
       "      <th>tag</th>\n",
       "      <th>artist</th>\n",
       "      <th>year</th>\n",
       "      <th>views</th>\n",
       "      <th>features</th>\n",
       "      <th>lyrics</th>\n",
       "      <th>id</th>\n",
       "      <th>language_cld3</th>\n",
       "      <th>language_ft</th>\n",
       "      <th>language</th>\n",
       "    </tr>\n",
       "  </thead>\n",
       "  <tbody>\n",
       "    <tr>\n",
       "      <th>0</th>\n",
       "      <td>Killa Cam</td>\n",
       "      <td>rap</td>\n",
       "      <td>Cam'ron</td>\n",
       "      <td>2004</td>\n",
       "      <td>173166</td>\n",
       "      <td>{\"Cam\\\\'ron\",\"Opera Steve\"}</td>\n",
       "      <td>[Chorus: Opera Steve &amp; Cam'ron]\\nKilla Cam, Ki...</td>\n",
       "      <td>1</td>\n",
       "      <td>en</td>\n",
       "      <td>en</td>\n",
       "      <td>en</td>\n",
       "    </tr>\n",
       "    <tr>\n",
       "      <th>1</th>\n",
       "      <td>Can I Live</td>\n",
       "      <td>rap</td>\n",
       "      <td>JAY-Z</td>\n",
       "      <td>1996</td>\n",
       "      <td>468624</td>\n",
       "      <td>{}</td>\n",
       "      <td>[Produced by Irv Gotti]\\n\\n[Intro]\\nYeah, hah,...</td>\n",
       "      <td>3</td>\n",
       "      <td>en</td>\n",
       "      <td>en</td>\n",
       "      <td>en</td>\n",
       "    </tr>\n",
       "    <tr>\n",
       "      <th>2</th>\n",
       "      <td>Forgive Me Father</td>\n",
       "      <td>rap</td>\n",
       "      <td>Fabolous</td>\n",
       "      <td>2003</td>\n",
       "      <td>4743</td>\n",
       "      <td>{}</td>\n",
       "      <td>Maybe cause I'm eatin\\nAnd these bastards fien...</td>\n",
       "      <td>4</td>\n",
       "      <td>en</td>\n",
       "      <td>en</td>\n",
       "      <td>en</td>\n",
       "    </tr>\n",
       "    <tr>\n",
       "      <th>3</th>\n",
       "      <td>Down and Out</td>\n",
       "      <td>rap</td>\n",
       "      <td>Cam'ron</td>\n",
       "      <td>2004</td>\n",
       "      <td>144404</td>\n",
       "      <td>{\"Cam\\\\'ron\",\"Kanye West\",\"Syleena Johnson\"}</td>\n",
       "      <td>[Produced by Kanye West and Brian Miller]\\n\\n[...</td>\n",
       "      <td>5</td>\n",
       "      <td>en</td>\n",
       "      <td>en</td>\n",
       "      <td>en</td>\n",
       "    </tr>\n",
       "    <tr>\n",
       "      <th>4</th>\n",
       "      <td>Fly In</td>\n",
       "      <td>rap</td>\n",
       "      <td>Lil Wayne</td>\n",
       "      <td>2005</td>\n",
       "      <td>78271</td>\n",
       "      <td>{}</td>\n",
       "      <td>[Intro]\\nSo they ask me\\n\"Young boy\\nWhat you ...</td>\n",
       "      <td>6</td>\n",
       "      <td>en</td>\n",
       "      <td>en</td>\n",
       "      <td>en</td>\n",
       "    </tr>\n",
       "  </tbody>\n",
       "</table>\n",
       "</div>"
      ],
      "text/plain": [
       "               title  tag     artist  year   views  \\\n",
       "0          Killa Cam  rap    Cam'ron  2004  173166   \n",
       "1         Can I Live  rap      JAY-Z  1996  468624   \n",
       "2  Forgive Me Father  rap   Fabolous  2003    4743   \n",
       "3       Down and Out  rap    Cam'ron  2004  144404   \n",
       "4             Fly In  rap  Lil Wayne  2005   78271   \n",
       "\n",
       "                                       features  \\\n",
       "0                   {\"Cam\\\\'ron\",\"Opera Steve\"}   \n",
       "1                                            {}   \n",
       "2                                            {}   \n",
       "3  {\"Cam\\\\'ron\",\"Kanye West\",\"Syleena Johnson\"}   \n",
       "4                                            {}   \n",
       "\n",
       "                                              lyrics  id language_cld3  \\\n",
       "0  [Chorus: Opera Steve & Cam'ron]\\nKilla Cam, Ki...   1            en   \n",
       "1  [Produced by Irv Gotti]\\n\\n[Intro]\\nYeah, hah,...   3            en   \n",
       "2  Maybe cause I'm eatin\\nAnd these bastards fien...   4            en   \n",
       "3  [Produced by Kanye West and Brian Miller]\\n\\n[...   5            en   \n",
       "4  [Intro]\\nSo they ask me\\n\"Young boy\\nWhat you ...   6            en   \n",
       "\n",
       "  language_ft language  \n",
       "0          en       en  \n",
       "1          en       en  \n",
       "2          en       en  \n",
       "3          en       en  \n",
       "4          en       en  "
      ]
     },
     "execution_count": 2,
     "metadata": {},
     "output_type": "execute_result"
    }
   ],
   "source": [
    "import pandas as pd\n",
    "\n",
    "# Load in to dataframe\n",
    "df_lyrics = pd.read_csv(lyrics_path)\n",
    "df_lyrics.head()"
   ]
  },
  {
   "cell_type": "code",
   "execution_count": 3,
   "metadata": {},
   "outputs": [
    {
     "data": {
      "text/html": [
       "<div>\n",
       "<style scoped>\n",
       "    .dataframe tbody tr th:only-of-type {\n",
       "        vertical-align: middle;\n",
       "    }\n",
       "\n",
       "    .dataframe tbody tr th {\n",
       "        vertical-align: top;\n",
       "    }\n",
       "\n",
       "    .dataframe thead th {\n",
       "        text-align: right;\n",
       "    }\n",
       "</style>\n",
       "<table border=\"1\" class=\"dataframe\">\n",
       "  <thead>\n",
       "    <tr style=\"text-align: right;\">\n",
       "      <th></th>\n",
       "      <th>user_id</th>\n",
       "      <th>\"artistname\"</th>\n",
       "      <th>\"trackname\"</th>\n",
       "      <th>\"playlistname\"</th>\n",
       "    </tr>\n",
       "  </thead>\n",
       "  <tbody>\n",
       "    <tr>\n",
       "      <th>0</th>\n",
       "      <td>9cc0cfd4d7d7885102480dd99e7a90d6</td>\n",
       "      <td>Elvis Costello</td>\n",
       "      <td>(The Angels Wanna Wear My) Red Shoes</td>\n",
       "      <td>HARD ROCK 2010</td>\n",
       "    </tr>\n",
       "    <tr>\n",
       "      <th>1</th>\n",
       "      <td>9cc0cfd4d7d7885102480dd99e7a90d6</td>\n",
       "      <td>Elvis Costello &amp; The Attractions</td>\n",
       "      <td>(What's So Funny 'Bout) Peace, Love And Unders...</td>\n",
       "      <td>HARD ROCK 2010</td>\n",
       "    </tr>\n",
       "    <tr>\n",
       "      <th>2</th>\n",
       "      <td>9cc0cfd4d7d7885102480dd99e7a90d6</td>\n",
       "      <td>Tiffany Page</td>\n",
       "      <td>7 Years Too Late</td>\n",
       "      <td>HARD ROCK 2010</td>\n",
       "    </tr>\n",
       "    <tr>\n",
       "      <th>3</th>\n",
       "      <td>9cc0cfd4d7d7885102480dd99e7a90d6</td>\n",
       "      <td>Elvis Costello &amp; The Attractions</td>\n",
       "      <td>Accidents Will Happen</td>\n",
       "      <td>HARD ROCK 2010</td>\n",
       "    </tr>\n",
       "    <tr>\n",
       "      <th>4</th>\n",
       "      <td>9cc0cfd4d7d7885102480dd99e7a90d6</td>\n",
       "      <td>Elvis Costello</td>\n",
       "      <td>Alison</td>\n",
       "      <td>HARD ROCK 2010</td>\n",
       "    </tr>\n",
       "  </tbody>\n",
       "</table>\n",
       "</div>"
      ],
      "text/plain": [
       "                            user_id                      \"artistname\"  \\\n",
       "0  9cc0cfd4d7d7885102480dd99e7a90d6                    Elvis Costello   \n",
       "1  9cc0cfd4d7d7885102480dd99e7a90d6  Elvis Costello & The Attractions   \n",
       "2  9cc0cfd4d7d7885102480dd99e7a90d6                      Tiffany Page   \n",
       "3  9cc0cfd4d7d7885102480dd99e7a90d6  Elvis Costello & The Attractions   \n",
       "4  9cc0cfd4d7d7885102480dd99e7a90d6                    Elvis Costello   \n",
       "\n",
       "                                         \"trackname\"  \"playlistname\"  \n",
       "0               (The Angels Wanna Wear My) Red Shoes  HARD ROCK 2010  \n",
       "1  (What's So Funny 'Bout) Peace, Love And Unders...  HARD ROCK 2010  \n",
       "2                                   7 Years Too Late  HARD ROCK 2010  \n",
       "3                              Accidents Will Happen  HARD ROCK 2010  \n",
       "4                                             Alison  HARD ROCK 2010  "
      ]
     },
     "execution_count": 3,
     "metadata": {},
     "output_type": "execute_result"
    }
   ],
   "source": [
    "# Load in to dataframe\n",
    "df_playlists = pd.read_csv(playlists_path, on_bad_lines='skip')\n",
    "df_playlists.head()"
   ]
  },
  {
   "cell_type": "code",
   "execution_count": 4,
   "metadata": {},
   "outputs": [
    {
     "data": {
      "text/html": [
       "<div>\n",
       "<style scoped>\n",
       "    .dataframe tbody tr th:only-of-type {\n",
       "        vertical-align: middle;\n",
       "    }\n",
       "\n",
       "    .dataframe tbody tr th {\n",
       "        vertical-align: top;\n",
       "    }\n",
       "\n",
       "    .dataframe thead th {\n",
       "        text-align: right;\n",
       "    }\n",
       "</style>\n",
       "<table border=\"1\" class=\"dataframe\">\n",
       "  <thead>\n",
       "    <tr style=\"text-align: right;\">\n",
       "      <th></th>\n",
       "      <th>year</th>\n",
       "      <th>views</th>\n",
       "      <th>id</th>\n",
       "    </tr>\n",
       "  </thead>\n",
       "  <tbody>\n",
       "    <tr>\n",
       "      <th>count</th>\n",
       "      <td>5.134856e+06</td>\n",
       "      <td>5.134856e+06</td>\n",
       "      <td>5.134856e+06</td>\n",
       "    </tr>\n",
       "    <tr>\n",
       "      <th>mean</th>\n",
       "      <td>2.010303e+03</td>\n",
       "      <td>3.060939e+03</td>\n",
       "      <td>3.830088e+06</td>\n",
       "    </tr>\n",
       "    <tr>\n",
       "      <th>std</th>\n",
       "      <td>4.501192e+01</td>\n",
       "      <td>4.730980e+04</td>\n",
       "      <td>2.305657e+06</td>\n",
       "    </tr>\n",
       "    <tr>\n",
       "      <th>min</th>\n",
       "      <td>1.000000e+00</td>\n",
       "      <td>0.000000e+00</td>\n",
       "      <td>1.000000e+00</td>\n",
       "    </tr>\n",
       "    <tr>\n",
       "      <th>25%</th>\n",
       "      <td>2.009000e+03</td>\n",
       "      <td>2.200000e+01</td>\n",
       "      <td>1.625220e+06</td>\n",
       "    </tr>\n",
       "    <tr>\n",
       "      <th>50%</th>\n",
       "      <td>2.016000e+03</td>\n",
       "      <td>8.500000e+01</td>\n",
       "      <td>3.866618e+06</td>\n",
       "    </tr>\n",
       "    <tr>\n",
       "      <th>75%</th>\n",
       "      <td>2.019000e+03</td>\n",
       "      <td>4.480000e+02</td>\n",
       "      <td>5.820614e+06</td>\n",
       "    </tr>\n",
       "    <tr>\n",
       "      <th>max</th>\n",
       "      <td>2.100000e+03</td>\n",
       "      <td>2.335142e+07</td>\n",
       "      <td>7.882848e+06</td>\n",
       "    </tr>\n",
       "  </tbody>\n",
       "</table>\n",
       "</div>"
      ],
      "text/plain": [
       "               year         views            id\n",
       "count  5.134856e+06  5.134856e+06  5.134856e+06\n",
       "mean   2.010303e+03  3.060939e+03  3.830088e+06\n",
       "std    4.501192e+01  4.730980e+04  2.305657e+06\n",
       "min    1.000000e+00  0.000000e+00  1.000000e+00\n",
       "25%    2.009000e+03  2.200000e+01  1.625220e+06\n",
       "50%    2.016000e+03  8.500000e+01  3.866618e+06\n",
       "75%    2.019000e+03  4.480000e+02  5.820614e+06\n",
       "max    2.100000e+03  2.335142e+07  7.882848e+06"
      ]
     },
     "execution_count": 4,
     "metadata": {},
     "output_type": "execute_result"
    }
   ],
   "source": [
    "df_lyrics.describe()"
   ]
  },
  {
   "cell_type": "code",
   "execution_count": 5,
   "metadata": {},
   "outputs": [
    {
     "data": {
      "text/html": [
       "<div>\n",
       "<style scoped>\n",
       "    .dataframe tbody tr th:only-of-type {\n",
       "        vertical-align: middle;\n",
       "    }\n",
       "\n",
       "    .dataframe tbody tr th {\n",
       "        vertical-align: top;\n",
       "    }\n",
       "\n",
       "    .dataframe thead th {\n",
       "        text-align: right;\n",
       "    }\n",
       "</style>\n",
       "<table border=\"1\" class=\"dataframe\">\n",
       "  <thead>\n",
       "    <tr style=\"text-align: right;\">\n",
       "      <th></th>\n",
       "      <th>user_id</th>\n",
       "      <th>\"artistname\"</th>\n",
       "      <th>\"trackname\"</th>\n",
       "      <th>\"playlistname\"</th>\n",
       "    </tr>\n",
       "  </thead>\n",
       "  <tbody>\n",
       "    <tr>\n",
       "      <th>count</th>\n",
       "      <td>12891680</td>\n",
       "      <td>12858108</td>\n",
       "      <td>12891592</td>\n",
       "      <td>12890434</td>\n",
       "    </tr>\n",
       "    <tr>\n",
       "      <th>unique</th>\n",
       "      <td>15918</td>\n",
       "      <td>289820</td>\n",
       "      <td>2032043</td>\n",
       "      <td>157504</td>\n",
       "    </tr>\n",
       "    <tr>\n",
       "      <th>top</th>\n",
       "      <td>4398de6902abde3351347b048fcdc287</td>\n",
       "      <td>Daft Punk</td>\n",
       "      <td>Intro</td>\n",
       "      <td>Starred</td>\n",
       "    </tr>\n",
       "    <tr>\n",
       "      <th>freq</th>\n",
       "      <td>295275</td>\n",
       "      <td>36086</td>\n",
       "      <td>6676</td>\n",
       "      <td>1337085</td>\n",
       "    </tr>\n",
       "  </tbody>\n",
       "</table>\n",
       "</div>"
      ],
      "text/plain": [
       "                                 user_id  \"artistname\"  \"trackname\"  \\\n",
       "count                           12891680      12858108     12891592   \n",
       "unique                             15918        289820      2032043   \n",
       "top     4398de6902abde3351347b048fcdc287     Daft Punk        Intro   \n",
       "freq                              295275         36086         6676   \n",
       "\n",
       "        \"playlistname\"  \n",
       "count         12890434  \n",
       "unique          157504  \n",
       "top            Starred  \n",
       "freq           1337085  "
      ]
     },
     "execution_count": 5,
     "metadata": {},
     "output_type": "execute_result"
    }
   ],
   "source": [
    "df_playlists.describe()"
   ]
  },
  {
   "cell_type": "markdown",
   "metadata": {},
   "source": [
    "# Clean the data"
   ]
  },
  {
   "cell_type": "code",
   "execution_count": 6,
   "metadata": {},
   "outputs": [],
   "source": [
    "import re\n",
    "\n",
    "def clean_lyrics(input_str):\n",
    "    # Remove content within square brackets, including brackets\n",
    "    no_brackets = re.sub(r'\\[.*?\\]', '', input_str)\n",
    "    # Remove all newline characters\n",
    "    cleaned = no_brackets.replace('\\n', ' ')\n",
    "    return cleaned\n",
    "\n",
    "df_lyrics['lyrics'] = [clean_lyrics(lyrics) for lyrics in df_lyrics['lyrics']]"
   ]
  },
  {
   "cell_type": "code",
   "execution_count": 7,
   "metadata": {},
   "outputs": [
    {
     "data": {
      "text/plain": [
       "0     Killa Cam, Killa Cam, Cam Killa Cam, Killa Ca...\n",
       "1       Yeah, hah, yeah, Roc-A-Fella We invite you ...\n",
       "2    Maybe cause I'm eatin And these bastards fiend...\n",
       "3       Ugh, Killa! Baby! Kanye, this that 1970s He...\n",
       "4     So they ask me \"Young boy What you gon' do th...\n",
       "5     Haha Uh-huh No homo (Young Mula, baby!) I say...\n",
       "6     No, no, no! I told you, I lived this shit I a...\n",
       "7     Killa, Dipset Man I spit that pimp talk, you ...\n",
       "8     Ay yo you wonder who I are I guzzle up at the...\n",
       "9     Now Lord you know, just how hard I try To liv...\n",
       "Name: lyrics, dtype: object"
      ]
     },
     "execution_count": 7,
     "metadata": {},
     "output_type": "execute_result"
    }
   ],
   "source": [
    "df_lyrics['lyrics'][0:10]"
   ]
  },
  {
   "cell_type": "code",
   "execution_count": 8,
   "metadata": {},
   "outputs": [],
   "source": [
    "# Rename all columns at once\n",
    "df_playlists.columns = ['user_id', 'artist', 'title', 'playlist_name']"
   ]
  },
  {
   "cell_type": "code",
   "execution_count": 9,
   "metadata": {},
   "outputs": [],
   "source": [
    "df_lyrics = df_lyrics[['title','artist','lyrics']]\n",
    "df_lyrics.drop_duplicates(inplace=True)\n",
    "df_lyrics.dropna(inplace=True)"
   ]
  },
  {
   "cell_type": "code",
   "execution_count": 10,
   "metadata": {},
   "outputs": [],
   "source": [
    "df_playlists.drop_duplicates(inplace=True)\n",
    "df_playlists.dropna(inplace=True)"
   ]
  },
  {
   "cell_type": "code",
   "execution_count": 11,
   "metadata": {},
   "outputs": [
    {
     "data": {
      "text/html": [
       "<div>\n",
       "<style scoped>\n",
       "    .dataframe tbody tr th:only-of-type {\n",
       "        vertical-align: middle;\n",
       "    }\n",
       "\n",
       "    .dataframe tbody tr th {\n",
       "        vertical-align: top;\n",
       "    }\n",
       "\n",
       "    .dataframe thead th {\n",
       "        text-align: right;\n",
       "    }\n",
       "</style>\n",
       "<table border=\"1\" class=\"dataframe\">\n",
       "  <thead>\n",
       "    <tr style=\"text-align: right;\">\n",
       "      <th></th>\n",
       "      <th>user_id</th>\n",
       "      <th>artist</th>\n",
       "      <th>title</th>\n",
       "      <th>playlist_name</th>\n",
       "      <th>lyrics</th>\n",
       "    </tr>\n",
       "  </thead>\n",
       "  <tbody>\n",
       "    <tr>\n",
       "      <th>0</th>\n",
       "      <td>9cc0cfd4d7d7885102480dd99e7a90d6</td>\n",
       "      <td>Elvis Costello</td>\n",
       "      <td>Alison</td>\n",
       "      <td>HARD ROCK 2010</td>\n",
       "      <td>Oh, it's so funny to be seeing you after so l...</td>\n",
       "    </tr>\n",
       "    <tr>\n",
       "      <th>1</th>\n",
       "      <td>9cc0cfd4d7d7885102480dd99e7a90d6</td>\n",
       "      <td>Lissie</td>\n",
       "      <td>All Be Okay</td>\n",
       "      <td>HARD ROCK 2010</td>\n",
       "      <td>I'm gonna break down the walls That keep us f...</td>\n",
       "    </tr>\n",
       "    <tr>\n",
       "      <th>2</th>\n",
       "      <td>9cc0cfd4d7d7885102480dd99e7a90d6</td>\n",
       "      <td>Lissie</td>\n",
       "      <td>Bright Side</td>\n",
       "      <td>HARD ROCK 2010</td>\n",
       "      <td>It's just me and my puppy Together we're so ve...</td>\n",
       "    </tr>\n",
       "    <tr>\n",
       "      <th>3</th>\n",
       "      <td>9cc0cfd4d7d7885102480dd99e7a90d6</td>\n",
       "      <td>Paul McCartney</td>\n",
       "      <td>Dance Tonight</td>\n",
       "      <td>HARD ROCK 2010</td>\n",
       "      <td>Everybody gonna dance tonight Everybody gonna...</td>\n",
       "    </tr>\n",
       "    <tr>\n",
       "      <th>4</th>\n",
       "      <td>9cc0cfd4d7d7885102480dd99e7a90d6</td>\n",
       "      <td>Lissie</td>\n",
       "      <td>Everywhere I Go</td>\n",
       "      <td>HARD ROCK 2010</td>\n",
       "      <td>And I'll fall on my knees Tell me how's the wa...</td>\n",
       "    </tr>\n",
       "  </tbody>\n",
       "</table>\n",
       "</div>"
      ],
      "text/plain": [
       "                            user_id          artist            title  \\\n",
       "0  9cc0cfd4d7d7885102480dd99e7a90d6  Elvis Costello           Alison   \n",
       "1  9cc0cfd4d7d7885102480dd99e7a90d6          Lissie      All Be Okay   \n",
       "2  9cc0cfd4d7d7885102480dd99e7a90d6          Lissie      Bright Side   \n",
       "3  9cc0cfd4d7d7885102480dd99e7a90d6  Paul McCartney    Dance Tonight   \n",
       "4  9cc0cfd4d7d7885102480dd99e7a90d6          Lissie  Everywhere I Go   \n",
       "\n",
       "    playlist_name                                             lyrics  \n",
       "0  HARD ROCK 2010   Oh, it's so funny to be seeing you after so l...  \n",
       "1  HARD ROCK 2010   I'm gonna break down the walls That keep us f...  \n",
       "2  HARD ROCK 2010  It's just me and my puppy Together we're so ve...  \n",
       "3  HARD ROCK 2010   Everybody gonna dance tonight Everybody gonna...  \n",
       "4  HARD ROCK 2010  And I'll fall on my knees Tell me how's the wa...  "
      ]
     },
     "execution_count": 11,
     "metadata": {},
     "output_type": "execute_result"
    }
   ],
   "source": [
    "df_merged = pd.merge(df_playlists, df_lyrics, on=['title', 'artist'], how='inner')\n",
    "df_merged.head()"
   ]
  },
  {
   "cell_type": "code",
   "execution_count": 12,
   "metadata": {},
   "outputs": [
    {
     "name": "stdout",
     "output_type": "stream",
     "text": [
      "cuda\n"
     ]
    }
   ],
   "source": [
    "from tqdm.notebook import tqdm\n",
    "from transformers import BertTokenizer, BertModel\n",
    "import torch\n",
    "\n",
    "tokenizer = BertTokenizer.from_pretrained('gaunernst/bert-mini-uncased')\n",
    "model = BertModel.from_pretrained('gaunernst/bert-mini-uncased')\n",
    "\n",
    "device = torch.device(\"cuda\" if torch.cuda.is_available() else \"cpu\")\n",
    "print(device)\n",
    "model = model.to(device)\n",
    "\n",
    "def encode_text(batch):\n",
    "    \"\"\"\n",
    "    Encodes a line of text into a vector\n",
    "    \"\"\"\n",
    "\n",
    "    inputs = tokenizer(batch, return_tensors=\"pt\", padding=True, truncation=True, max_length=128)\n",
    "    inputs = {k: v.to(device) for k, v in inputs.items()}\n",
    "\n",
    "    vectors = []\n",
    "    with torch.no_grad():\n",
    "        outputs = model(**inputs)\n",
    "\n",
    "    cls_embeddings = outputs.last_hidden_state[:, 0, :]\n",
    "    vectors.append(cls_embeddings.cpu())\n",
    "\n",
    "    return torch.cat(vectors, dim=0)"
   ]
  },
  {
   "cell_type": "code",
   "execution_count": 13,
   "metadata": {},
   "outputs": [
    {
     "data": {
      "application/vnd.jupyter.widget-view+json": {
       "model_id": "a2bfbc1ebbf0483a971b3a7664bef694",
       "version_major": 2,
       "version_minor": 0
      },
      "text/plain": [
       "  0%|          | 0/746 [00:00<?, ?it/s]"
      ]
     },
     "metadata": {},
     "output_type": "display_data"
    },
    {
     "name": "stdout",
     "output_type": "stream",
     "text": [
      "[-0.81341952085495, -0.7126480340957642, -0.4008479118347168, -0.23390746116638184, 0.39022955298423767, -0.5531933903694153, -0.7973730564117432, -0.0678032636642456, -2.967527151107788, -0.19043049216270447, -0.3585933446884155, 0.004733298905193806, 0.28597694635391235, 0.1853823959827423, -0.5409852862358093, 0.49346283078193665, -0.19999830424785614, -1.2651300430297852, 0.10799112915992737, 0.48816490173339844, -0.7728976011276245, 1.788698673248291, 0.7195283770561218, 0.2803557515144348, -0.0678025633096695, 0.771481990814209, 0.06216752156615257, -0.28480032086372375, 1.1679036617279053, 0.28648999333381653, -0.09411755204200745, 1.7999690771102905, 0.814487099647522, -0.6100621223449707, 0.48052799701690674, -0.8599982261657715, -0.19302994012832642, -0.07549219578504562, -0.02856997214257717, -0.2626509666442871, -0.6162860989570618, 1.1067695617675781, 1.2862266302108765, -1.3676410913467407, 1.1135879755020142, 0.3966398239135742, -1.2614054679870605, -0.5117152333259583, 0.5723285675048828, 1.3865095376968384, 0.07263873517513275, 1.1731191873550415, 0.670813798904419, 3.067295551300049, 0.599952757358551, -0.803587794303894, -1.0983184576034546, 0.6023941040039062, -0.7742615342140198, -0.19336186349391937, 0.8509232997894287, -0.14050133526325226, 0.6385202407836914, 0.11871496587991714, 0.1485481858253479, 1.003657579421997, -0.5600113868713379, -1.1000481843948364, -0.007059440948069096, -0.5999422669410706, 0.3104534447193146, -1.254791021347046, 0.21431763470172882, 1.3049591779708862, 1.380284309387207, -0.32871684432029724, -0.20695053040981293, 0.43227455019950867, -0.1473577916622162, 0.47032245993614197, 0.9348514676094055, -0.6428968906402588, -0.6962599754333496, -0.8557287454605103, 0.01434960588812828, -0.22520937025547028, 1.4144092798233032, 0.21177776157855988, -1.1780521869659424, 0.6696038842201233, -0.1978459656238556, -1.2865626811981201, 0.7501100897789001, 1.1651341915130615, -1.3655972480773926, 0.7929286360740662, -0.6966759562492371, -0.05550073832273483, 0.16517075896263123, 0.47799357771873474, 1.3196247816085815, -0.36459532380104065, -0.03558788448572159, -0.13864794373512268, 0.09301649034023285, -0.9879361391067505, -1.2819658517837524, 0.9405152797698975, 0.06517459452152252, -1.4190081357955933, -0.22353990375995636, 0.6954881548881531, -0.8772750496864319, -1.084673285484314, 1.7948780059814453, 0.7228849530220032, -1.1546366214752197, -0.9272237420082092, 1.3633713722229004, 0.5389394164085388, 0.579918622970581, -2.517878532409668, -2.4602081775665283, -0.3416173458099365, -1.128933310508728, 0.0331752747297287, 0.07527385652065277, 0.5981999039649963, 0.2548770308494568, 0.5256229639053345, 1.288238525390625, 0.1736636757850647, -0.34105193614959717, -0.24869532883167267, 0.26005062460899353, 0.8179807066917419, -0.46496906876564026, 0.4824426770210266, -0.6251383423805237, -0.9732869267463684, 2.6979925632476807, 0.8000553846359253, 0.17804938554763794, 0.5712910294532776, -0.6007407903671265, 0.9372904896736145, 1.1660736799240112, -0.1523439586162567, -0.7680754065513611, -0.6948729753494263, -0.44911959767341614, -0.720880389213562, -0.004977648612111807, 0.38802340626716614, 1.1580132246017456, -1.0646450519561768, 0.32633405923843384, 0.21114446222782135, 0.32567891478538513, 0.3100539445877075, 1.2047834396362305, 0.3957797586917877, -0.2599613070487976, -0.4546161890029907, 1.0921299457550049, 0.4328715205192566, 0.5769047141075134, -0.7831955552101135, 0.26702073216438293, -0.7958788275718689, 0.5613657832145691, 0.11177605390548706, 4.729689598083496, -0.7462256550788879, 0.49405625462532043, 0.12019626796245575, -0.7774966359138489, -1.3789618015289307, -0.5522832870483398, 1.2828261852264404, -0.3977528214454651, 0.4016784131526947, -0.3942720890045166, 0.6151546835899353, 1.0047824382781982, -0.7804737687110901, -0.09689449518918991, -0.4034535884857178, -0.18024100363254547, 0.23972360789775848, -2.5759973526000977, 0.14915616810321808, -0.19790691137313843, 0.366964727640152, 0.28716805577278137, -0.5646301507949829, 0.07554533332586288, 0.44576698541641235, -1.1882026195526123, -0.141708642244339, -1.7967292070388794, 0.569808304309845, 0.49367839097976685, 0.23023274540901184, -0.07353448867797852, 0.9800242781639099, 0.2339250147342682, -0.5454563498497009, 0.4154483675956726, -0.6298676133155823, 0.12376976013183594, -1.119377613067627, 0.693772554397583, 0.3362293243408203, -1.070907473564148, -0.45505693554878235, -0.22345593571662903, -0.169632688164711, -0.30626437067985535, -0.0818781703710556, -0.3332723081111908, -0.002006164286285639, -0.6407276391983032, -1.0457690954208374, -1.6853333711624146, 0.15666164457798004, -0.0020297367591410875, 0.07962572574615479, -0.19197306036949158, -0.9786861538887024, -0.5610262751579285, 0.07366986572742462, -0.30855903029441833, 0.6791495680809021, -0.20533044636249542, 0.3420270085334778, -1.2662582397460938, -0.5631096363067627, -0.8447871804237366, -0.17987313866615295, -0.7496809363365173, -0.354341983795166, -2.4788455963134766, -2.0522167682647705, 0.5056334733963013, 0.5407938361167908, 0.574023425579071, 0.02727341279387474, -0.6812296509742737, -0.22095252573490143, -0.9751588106155396, 1.7076257467269897, 0.34633946418762207, -0.43883225321769714, -0.743137776851654, 0.1852477788925171, -0.45722541213035583, -0.9188927412033081, 0.7316226959228516, -0.37744832038879395, 0.35223302245140076, 0.145633265376091, -1.0553656816482544, -0.14054639637470245, -3.04177188873291, -0.33895230293273926, -1.551390528678894, -0.7929734587669373, 1.0973820686340332, 0.11189629882574081, -0.02029389515519142, 0.33983975648880005, -0.35506004095077515, -0.8503108024597168, -0.5951929688453674, 0.6729256510734558, 0.007393348030745983, 2.0328476428985596, 0.33421364426612854, -0.11307154595851898, -0.5636274218559265, 0.5676078796386719, 0.7017260789871216, -0.34417304396629333, 0.412984162569046, 0.7329645752906799, 0.5122579336166382, 2.1345608234405518, 1.5086994171142578, 0.15099091827869415, -0.5818368792533875, -1.0617446899414062, -0.8347348570823669, -0.34481871128082275, -0.07694603502750397, -0.1988822966814041, -0.5083075761795044, 0.5047784447669983, 1.0430490970611572, -1.9945271015167236, 1.600096583366394, 0.4963763952255249, -0.5023069977760315, -0.6947208642959595, 0.8072834014892578, 1.2285664081573486, 0.23726299405097961, 1.2417913675308228, 0.49178624153137207, 2.413701057434082, 0.12595906853675842, -1.1086193323135376, -0.49612700939178467, 1.1983071565628052, -0.5571838617324829, 0.10272140800952911, 0.5546412467956543, -0.3994360566139221, -0.5241767764091492, -0.009579733945429325, -0.026745470240712166, 1.051116704940796, 0.2550203502178192, -0.5722314119338989, -0.30974307656288147, 0.11068007349967957, 0.7147684097290039, -0.7987068891525269, 0.08398673683404922, 1.4153536558151245, 0.4235168993473053, -0.11468984931707382, 0.9650013446807861, 0.3659837543964386, -0.17947617173194885, 0.5152158141136169, 0.7792438268661499, -0.7697540521621704, -0.6623074412345886, -1.245766282081604, 0.5387280583381653, -0.875892698764801, 1.9467061758041382, 0.09013355523347855, -0.23945198953151703, 0.7977408170700073, -0.168206587433815, -1.3887748718261719, -0.18174582719802856, 1.0256675481796265, -1.3302284479141235, 1.048175573348999, -0.5942111611366272, -0.6245879530906677, -0.5158137083053589, 0.29195481538772583, 1.6906836032867432, 0.31020137667655945, -0.7760026454925537, 0.6539313197135925, 0.5409876108169556, -0.838312029838562, -1.1165666580200195, 0.9674214720726013, 0.19380560517311096, -2.436445713043213, -0.23768188059329987, 0.2324366420507431, -0.8615332841873169, -0.798653244972229, 0.6907281875610352, -0.38988038897514343, -0.9149017930030823, -1.3820719718933105, 0.15398667752742767, 0.5437978506088257, 0.8868621587753296, -1.859680414199829, -3.710969924926758, -0.4750750660896301, -1.5370184183120728, 0.14321638643741608, 0.6143216490745544, 0.06635171175003052, -0.20415425300598145, 0.4153798520565033, 1.578626036643982, -0.7012759447097778, -0.4841964840888977, -0.535716712474823, 0.8177332282066345, 0.9262653589248657, 0.11871132254600525, 0.3829665184020996, -0.7592501640319824, -0.7677152156829834, 2.1765987873077393, 0.31732019782066345, 0.30682605504989624, 0.8121500015258789, 0.13338737189769745, 0.2900826036930084, 0.9286720156669617, -0.00795742217451334, -0.45015379786491394, -0.02414218708872795, -0.39104142785072327, -0.858552098274231, 1.0079282522201538, 0.3145716190338135, 0.9746701717376709, -0.9409040808677673, 0.40087243914604187, 1.0693634748458862, 1.2271881103515625, 0.3783586621284485, 0.7064325213432312, 0.6158877015113831, 0.2969694137573242, -1.2302651405334473, 1.0317553281784058, 0.06132911890745163, 0.3648916780948639, -0.15627695620059967, -0.5258442759513855, 0.06083438917994499, 0.6783201098442078, -0.22147256135940552, 4.466167449951172, -0.699959397315979, 0.3215607702732086, -0.5801174640655518, -1.1690433025360107, -0.7258366346359253, -0.3319264054298401, 1.1415467262268066, -0.7029543519020081, -0.0498754046857357, -0.1853172928094864, 0.36085307598114014, 0.8954284191131592, -0.8910245895385742, 0.2781309187412262, -0.7876033782958984, 0.4882129430770874, -0.06460557132959366, -2.5326545238494873, 0.2798199951648712, 0.8411429524421692, -0.1846078634262085, 0.18368442356586456, -0.5012059211730957, -0.1773432344198227, 0.49800926446914673, -0.7352968454360962, 0.12264002114534378, -0.8676705360412598, 0.3370625972747803, 0.6263154745101929, -0.7543782591819763, -0.2453126162290573, -0.07312265038490295, 0.9008500576019287, -0.21922186017036438, 0.3222377896308899, -0.2920147776603699, 0.7792718410491943, -0.1602270007133484, 0.2601092755794525, 0.7057634592056274, -0.5019829273223877, -0.6082425713539124, -0.7977910041809082, 0.3560120761394501, -0.29456257820129395, 0.06705848127603531, -0.47391191124916077, -0.08569195121526718, -0.6101362705230713, -1.1426777839660645, -1.9582056999206543, -0.07308266311883926, 0.01772376522421837, 0.44693171977996826, 0.04339301213622093, -0.7845020890235901, -0.5009245276451111, -0.22680659592151642, 0.022191358730196953, 0.801571249961853, -0.12120375037193298, 0.1735820472240448, -1.157133936882019, -0.42607641220092773, -0.033208221197128296, 0.5131197571754456, -1.0186595916748047, -0.5773615837097168, -1.9937833547592163, -1.4464046955108643, -0.7020832896232605, -0.3523520231246948, 0.8948544263839722, -0.29705238342285156, -0.7893267869949341, 0.3475240468978882, -0.7466724514961243, 1.5566341876983643, 0.05423491448163986, -0.8078041672706604, -1.21886146068573, 0.15822012722492218]\n"
     ]
    }
   ],
   "source": [
    "sampled_df = df_merged.sample(frac = 0.01)\n",
    "\n",
    "playlist_names = sampled_df['playlist_name'].values\n",
    "titles = sampled_df['title'].values\n",
    "lyrics = sampled_df['lyrics'].values\n",
    "\n",
    "pos_title_vectors = []\n",
    "pos_lyrics_vectors = []\n",
    "pos_vectors = []\n",
    "\n",
    "batch_size = 64\n",
    "for i in tqdm(range(0, len(sampled_df), batch_size)):\n",
    "    playlist_vecs = encode_text(list(playlist_names[i:i+batch_size]))\n",
    "    title_vecs = encode_text(list(titles[i:i+batch_size]))\n",
    "    # lyrics_vecs = encode_text(list(lyrics[i:i+batch_size]))\n",
    "    for j in range(len(playlist_vecs)):\n",
    "        pos_vectors.append(playlist_vecs[j].tolist() + title_vecs[j].tolist())# + lyrics_vecs[j].tolist())\n",
    "\n",
    "print(pos_vectors[0])"
   ]
  },
  {
   "cell_type": "code",
   "execution_count": 14,
   "metadata": {},
   "outputs": [],
   "source": [
    "def get_negative_examples(df, current_playlist, n=1):\n",
    "    \"\"\"\n",
    "    Returns n negative examples (rows) where playlist_name != current_playlist\n",
    "    \"\"\"\n",
    "    samples = df.sample(n=n)\n",
    "    while (current_playlist in samples['playlist_name']):\n",
    "        samples = df.sample(n=n)\n",
    "    return samples"
   ]
  },
  {
   "cell_type": "code",
   "execution_count": 15,
   "metadata": {},
   "outputs": [
    {
     "data": {
      "application/vnd.jupyter.widget-view+json": {
       "model_id": "bc6a41c67fac46388725de92f7edbb20",
       "version_major": 2,
       "version_minor": 0
      },
      "text/plain": [
       "  0%|          | 0/47704 [00:00<?, ?it/s]"
      ]
     },
     "metadata": {},
     "output_type": "display_data"
    }
   ],
   "source": [
    "neg_sample_titles = []\n",
    "neg_sample_lyrics = []\n",
    "neg_sample_playlists = []\n",
    "\n",
    "for i in tqdm(range(len(sampled_df))):\n",
    "    row = sampled_df.iloc[i]\n",
    "    current_playlist = row['playlist_name']\n",
    "    samples = get_negative_examples(sampled_df, current_playlist)\n",
    "\n",
    "    sample_titles = list(samples['title'])\n",
    "    sample_lyrics = list(samples['lyrics'])\n",
    "\n",
    "    for j in range(len(samples)):\n",
    "        neg_sample_titles.append(sample_titles[j])\n",
    "        neg_sample_lyrics.append(sample_lyrics[j])\n",
    "        neg_sample_playlists.append(current_playlist)"
   ]
  },
  {
   "cell_type": "code",
   "execution_count": 16,
   "metadata": {},
   "outputs": [
    {
     "data": {
      "application/vnd.jupyter.widget-view+json": {
       "model_id": "f6939f475bad42cd86ee534cb7b25473",
       "version_major": 2,
       "version_minor": 0
      },
      "text/plain": [
       "  0%|          | 0/746 [00:00<?, ?it/s]"
      ]
     },
     "metadata": {},
     "output_type": "display_data"
    }
   ],
   "source": [
    "neg_title_vectors = []\n",
    "neg_lyric_vectors = []\n",
    "neg_vectors = []\n",
    "for i in tqdm(range(0, len(neg_sample_titles), batch_size)):\n",
    "    playlist_vecs = encode_text(list(neg_sample_playlists[i:i+batch_size]))\n",
    "    title_vecs = encode_text(list(neg_sample_titles[i:i+batch_size]))\n",
    "    #lyric_vecs = encode_text(list(neg_sample_lyrics[i:i+batch_size]))\n",
    "    for j in range(len(playlist_vecs)):\n",
    "        neg_vectors.append(playlist_vecs[j].tolist() + title_vecs[j].tolist())# + lyric_vecs[j].tolist())"
   ]
  },
  {
   "cell_type": "code",
   "execution_count": null,
   "metadata": {},
   "outputs": [
    {
     "name": "stdout",
     "output_type": "stream",
     "text": [
      "[1, 1, 1, 1, 1, 1, 1, 1, 1, 1]\n"
     ]
    }
   ],
   "source": [
    "X = pos_vectors + neg_vectors\n",
    "y = ([1] * len(pos_vectors)) + ([0] * len(neg_vectors))\n",
    "\n",
    "from sklearn.model_selection import train_test_split\n",
    "X_train, X_test, y_train, y_test = train_test_split(X, y, test_size=0.2)"
   ]
  },
  {
   "cell_type": "code",
   "execution_count": 18,
   "metadata": {},
   "outputs": [
    {
     "name": "stdout",
     "output_type": "stream",
     "text": [
      "0.47159626873493343\n",
      "9483\n",
      "19082\n"
     ]
    }
   ],
   "source": [
    "from sklearn.linear_model import LogisticRegression\n",
    "from sklearn.metrics import accuracy_score\n",
    "\n",
    "title_model = LogisticRegression(max_iter=10000)\n",
    "title_model.fit(X_train, y_train)\n",
    "\n",
    "y_pred = title_model.predict(X_test)\n",
    "accuracy = accuracy_score(y_test, y_pred)\n",
    "print(accuracy)\n",
    "print(sum(y_pred))\n",
    "print(len(y_pred))"
   ]
  },
  {
   "cell_type": "code",
   "execution_count": 43,
   "metadata": {},
   "outputs": [
    {
     "data": {
      "application/vnd.jupyter.widget-view+json": {
       "model_id": "15b55b1916b74af9a07dc7af70827a62",
       "version_major": 2,
       "version_minor": 0
      },
      "text/plain": [
       "  0%|          | 0/1000 [00:00<?, ?it/s]"
      ]
     },
     "metadata": {},
     "output_type": "display_data"
    },
    {
     "name": "stdout",
     "output_type": "stream",
     "text": [
      "Accuracy on test data: 0.4916\n"
     ]
    }
   ],
   "source": [
    "import torch\n",
    "import torch.nn as nn\n",
    "\n",
    "class SimpleBinaryClassifier(nn.Module):\n",
    "    def __init__(self):\n",
    "        super(SimpleBinaryClassifier, self).__init__()\n",
    "        self.model = nn.Sequential(\n",
    "            nn.Linear(512, 128),   # 512 -> 128\n",
    "            nn.ReLU(),\n",
    "            nn.Linear(128, 64),    # 128 -> 64\n",
    "            nn.ReLU(),\n",
    "            nn.Linear(64, 1),      # 64 -> 1\n",
    "            nn.Sigmoid()           # Binary output\n",
    "        )\n",
    "        \n",
    "    def forward(self, x):\n",
    "        return self.model(x)\n",
    "    \n",
    "loss_fn = nn.BCELoss()\n",
    "\n",
    "model = SimpleBinaryClassifier()\n",
    "optimizer = torch.optim.Adam(model.parameters(), lr=0.001)\n",
    "loss_fn = nn.BCELoss()\n",
    "\n",
    "epochs = 1000\n",
    "\n",
    "X_train_tensor = torch.tensor(X_train, dtype=torch.float32)\n",
    "y_train_tensor = torch.tensor(y_train, dtype=torch.float32)\n",
    "\n",
    "for epoch in tqdm(range(epochs)):\n",
    "    model.train()  # Set model to training mode\n",
    "\n",
    "    optimizer.zero_grad()  # Clear gradients\n",
    "    \n",
    "    y_pred = model(X_train_tensor)  # Forward pass\n",
    "    loss = loss_fn(y_pred, y_train_tensor.unsqueeze(1))  # Compute loss\n",
    "    \n",
    "    loss.backward()  # Backward pass\n",
    "    optimizer.step()  # Update weights\n",
    "\n",
    "    #print(f'Epoch {epoch+1}/{epochs}, Loss: {loss.item():.4f}')\n",
    "\n",
    "\n",
    "X_test_tensor = torch.tensor(X_test, dtype=torch.float32)\n",
    "\n",
    "# Set model to evaluation mode\n",
    "model.eval()\n",
    "\n",
    "# Run without gradients\n",
    "with torch.no_grad():\n",
    "    y_pred = model(X_test_tensor)  # outputs probabilities\n",
    "\n",
    "# Convert probabilities to 0 or 1\n",
    "predicted_labels = (y_pred > 0.5).float()\n",
    "\n",
    "# (Optional) Compare to true labels\n",
    "correct = len([True for idx in range(len(y_test)) if predicted_labels[idx] == y_test[idx]])\n",
    "accuracy = correct / len(y_test)\n",
    "\n",
    "print(f'Accuracy on test data: {accuracy:.4f}')"
   ]
  },
  {
   "cell_type": "code",
   "execution_count": 44,
   "metadata": {},
   "outputs": [
    {
     "data": {
      "text/plain": [
       "['logistic_regression_model_joblib.pkl']"
      ]
     },
     "execution_count": 44,
     "metadata": {},
     "output_type": "execute_result"
    }
   ],
   "source": [
    "import joblib\n",
    "filename = 'logistic_regression_model_joblib.pkl'\n",
    "joblib.dump(model, filename)"
   ]
  },
  {
   "cell_type": "markdown",
   "metadata": {},
   "source": [
    "## Cosine Similarity way"
   ]
  },
  {
   "cell_type": "code",
   "execution_count": 45,
   "metadata": {},
   "outputs": [
    {
     "name": "stderr",
     "output_type": "stream",
     "text": [
      "[nltk_data] Downloading package punkt to\n",
      "[nltk_data]     C:\\Users\\Joseph\\AppData\\Roaming\\nltk_data...\n",
      "[nltk_data]   Package punkt is already up-to-date!\n"
     ]
    },
    {
     "data": {
      "text/plain": [
       "True"
      ]
     },
     "execution_count": 45,
     "metadata": {},
     "output_type": "execute_result"
    }
   ],
   "source": [
    "from gensim.models import Word2Vec\n",
    "from nltk.tokenize import word_tokenize\n",
    "from sklearn.metrics.pairwise import cosine_similarity\n",
    "import nltk\n",
    "import numpy as np\n",
    "\n",
    "# Download tokenizer if not done already\n",
    "nltk.download('punkt')"
   ]
  },
  {
   "cell_type": "code",
   "execution_count": 46,
   "metadata": {},
   "outputs": [],
   "source": [
    "# Deduplicate for training\n",
    "unique_playlists = df_merged['playlist_name'].dropna().drop_duplicates()"
   ]
  },
  {
   "cell_type": "code",
   "execution_count": 47,
   "metadata": {},
   "outputs": [],
   "source": [
    "# Tokenize unique playlist titles\n",
    "tokenized_playlists = [word_tokenize(title.lower()) for title in unique_playlists]"
   ]
  },
  {
   "cell_type": "code",
   "execution_count": 48,
   "metadata": {},
   "outputs": [],
   "source": [
    "w2v = Word2Vec(sentences=tokenized_playlists, vector_size=100, min_count=1, window=5, workers=4)"
   ]
  },
  {
   "cell_type": "code",
   "execution_count": 49,
   "metadata": {},
   "outputs": [],
   "source": [
    "def get_avg_vector(tokens, model):\n",
    "    vectors = [model.wv[token] for token in tokens if token in model.wv]\n",
    "    if not vectors:\n",
    "        return np.zeros(model.vector_size)\n",
    "    return np.mean(vectors, axis=0)\n",
    "    "
   ]
  },
  {
   "cell_type": "code",
   "execution_count": 50,
   "metadata": {},
   "outputs": [
    {
     "data": {
      "text/plain": [
       "array([-0.5001222 ,  0.47829157, -0.09848159,  0.59567493,  0.61860675,\n",
       "       -1.6088471 ,  0.10402154,  1.7253155 , -0.97080195, -0.46643734,\n",
       "       -0.24646692, -1.9534225 , -0.39236283,  0.6926672 ,  0.29476207,\n",
       "       -0.799879  ,  0.47443146, -0.15514797, -0.3609676 , -1.4963772 ,\n",
       "        1.2682413 ,  0.267628  ,  0.6078886 , -0.8273847 ,  0.5104179 ,\n",
       "       -0.17063373, -1.0747572 ,  0.19179973, -0.3310992 , -0.38556606,\n",
       "        0.5560965 , -0.02359886,  0.20780124, -0.78378063, -0.49244544,\n",
       "        1.471401  ,  0.7659891 ,  0.3098046 , -0.6027284 , -0.4243381 ,\n",
       "        0.02098657, -1.008722  , -0.07336   ,  0.2213973 , -0.03369914,\n",
       "        0.0851935 , -0.6211554 ,  0.60800314,  0.52026165,  0.7176051 ,\n",
       "        0.39133376, -1.2322345 , -0.5135374 , -0.33840066,  0.5983597 ,\n",
       "        0.29061183,  1.0028727 , -0.15838511, -0.74413717,  0.26464158,\n",
       "       -0.57771814, -0.11014081,  0.64067477,  0.10933108, -0.33092624,\n",
       "        1.2276361 ,  0.67387694,  1.4343214 , -0.47710437,  0.8299973 ,\n",
       "        0.45565096, -0.8722621 ,  0.9419508 ,  0.12680289,  0.3555432 ,\n",
       "        0.09826732, -0.11332069,  0.12599185, -0.39441133, -0.7543547 ,\n",
       "       -1.9525799 ,  0.3856618 , -0.7436708 ,  0.76405764,  0.7232464 ,\n",
       "        0.06590199,  1.4217184 ,  0.2624091 ,  1.3249651 ,  0.20742089,\n",
       "        0.652833  ,  0.31447238,  0.26619098,  0.02461884,  1.5960795 ,\n",
       "        1.0890591 , -0.40049416, -0.34023616, -0.6006847 ,  0.2517357 ],\n",
       "      dtype=float32)"
      ]
     },
     "execution_count": 50,
     "metadata": {},
     "output_type": "execute_result"
    }
   ],
   "source": [
    "query = \"Chill songs\"\n",
    "query_tokens = word_tokenize(query.lower())\n",
    "query_vec = get_avg_vector(query_tokens, w2v)\n",
    "query_vec"
   ]
  },
  {
   "cell_type": "code",
   "execution_count": 51,
   "metadata": {},
   "outputs": [],
   "source": [
    "tokenized_all = [\n",
    "    word_tokenize(str(title).lower()) if pd.notna(title) else []\n",
    "    for title in df_merged['playlist_name']\n",
    "]\n",
    "\n",
    "#playlist_vecs = [get_avg_vector(tokens, w2v) for tokens in tokenized_all]"
   ]
  },
  {
   "cell_type": "code",
   "execution_count": 52,
   "metadata": {},
   "outputs": [],
   "source": [
    "\n",
    "def get_cosine_similarity_song(query):\n",
    "    query_tokens = word_tokenize(query.lower())\n",
    "    query_vec = get_avg_vector(query_tokens, w2v)\n",
    "    \n",
    "    # Cosine similarity\n",
    "    similarities = cosine_similarity([query_vec], playlist_vecs).flatten()\n",
    "\n",
    "    # Sort with argsort\n",
    "    sorted_indices = similarities.argsort()[::-1]\n",
    "    df_sorted = df_merged.iloc[sorted_indices].copy()\n",
    "    df_sorted['similarity'] = similarities[sorted_indices]\n",
    "\n",
    "    return df_sorted[:5]\n",
    "\n",
    "def get_top_cosine_similarity_for_tracks(lyrics_list, playlist_name):\n",
    "    name_tokens = word_tokenize(playlist_name)\n",
    "    name_vec = get_avg_vector(name_tokens, w2v)\n",
    "\n",
    "    results = []\n",
    "    for lyrics in lyrics_list:\n",
    "        lyrics_tokens = word_tokenize(lyrics)\n",
    "        lyrics_vec = get_avg_vector(lyrics_tokens, w2v)\n",
    "        lyrics_sim = cosine_similarity([name_vec], [lyrics_vec])[0][0]\n",
    "        results.append(lyrics_sim)\n",
    "\n",
    "    return results\n",
    "\n",
    "def get_top_cosine_similarity_for_tracks_bert(lyrics_list, playlist_name):\n",
    "    name_vec = encode_text([playlist_name])\n",
    "\n",
    "    results = []\n",
    "    for lyrics in lyrics_list:\n",
    "        lyrics_vec = encode_text([lyrics])\n",
    "        lyrics_sim = cosine_similarity(name_vec, lyrics_vec)[0][0]\n",
    "        results.append(lyrics_sim)\n",
    "\n",
    "    return results"
   ]
  },
  {
   "cell_type": "code",
   "execution_count": 53,
   "metadata": {},
   "outputs": [
    {
     "data": {
      "application/vnd.jupyter.widget-view+json": {
       "model_id": "508f6e08b80243cc8e2c96d71abd8ae5",
       "version_major": 2,
       "version_minor": 0
      },
      "text/plain": [
       "  0%|          | 0/200 [00:00<?, ?it/s]"
      ]
     },
     "metadata": {},
     "output_type": "display_data"
    },
    {
     "name": "stdout",
     "output_type": "stream",
     "text": [
      "0.6048475857393462\n",
      "0.317025256752679\n"
     ]
    }
   ],
   "source": [
    "import random\n",
    "\n",
    "unique_users = df_merged['user_id'].unique()\n",
    "random_user = random.choice(unique_users)\n",
    "scores = []\n",
    "baselines = []\n",
    "for user in tqdm(random.sample(list(unique_users), 200)):\n",
    "    user_rows = df_merged[df_merged['user_id'] == user]\n",
    "    if len(user_rows['playlist_name'].unique()) > 1:\n",
    "        first_name = user_rows['playlist_name'].values[random.randint(0, len(user_rows) - 1)]\n",
    "        in_playlist = user_rows[user_rows['playlist_name'] == first_name]\n",
    "        out_playlist = user_rows[\n",
    "                            (user_rows['playlist_name'] != first_name) &\n",
    "                            (~user_rows['title'].isin(in_playlist['title']))\n",
    "                        ]\n",
    "        full_list = list(in_playlist['lyrics'].values) + list(out_playlist['lyrics'].values)\n",
    "        results = get_top_cosine_similarity_for_tracks(full_list, first_name)\n",
    "        zipped = list(zip(in_playlist['title'], results[0:len(in_playlist)]))\n",
    "        zipped_2 = list(zip(out_playlist['title'], results[len(in_playlist):]))\n",
    "        sort_zipped = sorted(zipped + zipped_2, key=lambda x: x[1])\n",
    "        #sort_zipped.reverse()\n",
    "        titles = [item[0] for item in sort_zipped[0:len(in_playlist)]]\n",
    "        same = set(titles).intersection(set(in_playlist['title']))\n",
    "        scores.append(len(same)/float(len(in_playlist)))\n",
    "        baselines.append(len(in_playlist)/float(len(in_playlist) + len(out_playlist)))\n",
    "print(np.mean(scores))\n",
    "print(np.mean(baselines))"
   ]
  },
  {
   "cell_type": "code",
   "execution_count": 66,
   "metadata": {},
   "outputs": [
    {
     "ename": "MemoryError",
     "evalue": "Unable to allocate 3.55 GiB for an array with shape (4770458, 100) and data type float64",
     "output_type": "error",
     "traceback": [
      "\u001b[1;31m---------------------------------------------------------------------------\u001b[0m",
      "\u001b[1;31mMemoryError\u001b[0m                               Traceback (most recent call last)",
      "Cell \u001b[1;32mIn[66], line 1\u001b[0m\n\u001b[1;32m----> 1\u001b[0m \u001b[43mget_cosine_similarity_song\u001b[49m\u001b[43m(\u001b[49m\u001b[38;5;124;43m\"\u001b[39;49m\u001b[38;5;124;43mLove story\u001b[39;49m\u001b[38;5;124;43m\"\u001b[39;49m\u001b[43m)\u001b[49m\n",
      "Cell \u001b[1;32mIn[65], line 6\u001b[0m, in \u001b[0;36mget_cosine_similarity_song\u001b[1;34m(query)\u001b[0m\n\u001b[0;32m      3\u001b[0m query_vec \u001b[38;5;241m=\u001b[39m get_avg_vector(query_tokens, w2v)\n\u001b[0;32m      5\u001b[0m \u001b[38;5;66;03m# Cosine similarity\u001b[39;00m\n\u001b[1;32m----> 6\u001b[0m similarities \u001b[38;5;241m=\u001b[39m \u001b[43mcosine_similarity\u001b[49m\u001b[43m(\u001b[49m\u001b[43m[\u001b[49m\u001b[43mquery_vec\u001b[49m\u001b[43m]\u001b[49m\u001b[43m,\u001b[49m\u001b[43m \u001b[49m\u001b[43mplaylist_vecs\u001b[49m\u001b[43m)\u001b[49m\u001b[38;5;241m.\u001b[39mflatten()\n\u001b[0;32m      8\u001b[0m \u001b[38;5;66;03m# Sort with argsort\u001b[39;00m\n\u001b[0;32m      9\u001b[0m sorted_indices \u001b[38;5;241m=\u001b[39m similarities\u001b[38;5;241m.\u001b[39margsort()[::\u001b[38;5;241m-\u001b[39m\u001b[38;5;241m1\u001b[39m]\n",
      "File \u001b[1;32m~\\AppData\\Local\\Packages\\PythonSoftwareFoundation.Python.3.12_qbz5n2kfra8p0\\LocalCache\\local-packages\\Python312\\site-packages\\sklearn\\utils\\_param_validation.py:213\u001b[0m, in \u001b[0;36mvalidate_params.<locals>.decorator.<locals>.wrapper\u001b[1;34m(*args, **kwargs)\u001b[0m\n\u001b[0;32m    207\u001b[0m \u001b[38;5;28;01mtry\u001b[39;00m:\n\u001b[0;32m    208\u001b[0m     \u001b[38;5;28;01mwith\u001b[39;00m config_context(\n\u001b[0;32m    209\u001b[0m         skip_parameter_validation\u001b[38;5;241m=\u001b[39m(\n\u001b[0;32m    210\u001b[0m             prefer_skip_nested_validation \u001b[38;5;129;01mor\u001b[39;00m global_skip_validation\n\u001b[0;32m    211\u001b[0m         )\n\u001b[0;32m    212\u001b[0m     ):\n\u001b[1;32m--> 213\u001b[0m         \u001b[38;5;28;01mreturn\u001b[39;00m \u001b[43mfunc\u001b[49m\u001b[43m(\u001b[49m\u001b[38;5;241;43m*\u001b[39;49m\u001b[43margs\u001b[49m\u001b[43m,\u001b[49m\u001b[43m \u001b[49m\u001b[38;5;241;43m*\u001b[39;49m\u001b[38;5;241;43m*\u001b[39;49m\u001b[43mkwargs\u001b[49m\u001b[43m)\u001b[49m\n\u001b[0;32m    214\u001b[0m \u001b[38;5;28;01mexcept\u001b[39;00m InvalidParameterError \u001b[38;5;28;01mas\u001b[39;00m e:\n\u001b[0;32m    215\u001b[0m     \u001b[38;5;66;03m# When the function is just a wrapper around an estimator, we allow\u001b[39;00m\n\u001b[0;32m    216\u001b[0m     \u001b[38;5;66;03m# the function to delegate validation to the estimator, but we replace\u001b[39;00m\n\u001b[0;32m    217\u001b[0m     \u001b[38;5;66;03m# the name of the estimator by the name of the function in the error\u001b[39;00m\n\u001b[0;32m    218\u001b[0m     \u001b[38;5;66;03m# message to avoid confusion.\u001b[39;00m\n\u001b[0;32m    219\u001b[0m     msg \u001b[38;5;241m=\u001b[39m re\u001b[38;5;241m.\u001b[39msub(\n\u001b[0;32m    220\u001b[0m         \u001b[38;5;124mr\u001b[39m\u001b[38;5;124m\"\u001b[39m\u001b[38;5;124mparameter of \u001b[39m\u001b[38;5;124m\\\u001b[39m\u001b[38;5;124mw+ must be\u001b[39m\u001b[38;5;124m\"\u001b[39m,\n\u001b[0;32m    221\u001b[0m         \u001b[38;5;124mf\u001b[39m\u001b[38;5;124m\"\u001b[39m\u001b[38;5;124mparameter of \u001b[39m\u001b[38;5;132;01m{\u001b[39;00mfunc\u001b[38;5;241m.\u001b[39m\u001b[38;5;18m__qualname__\u001b[39m\u001b[38;5;132;01m}\u001b[39;00m\u001b[38;5;124m must be\u001b[39m\u001b[38;5;124m\"\u001b[39m,\n\u001b[0;32m    222\u001b[0m         \u001b[38;5;28mstr\u001b[39m(e),\n\u001b[0;32m    223\u001b[0m     )\n",
      "File \u001b[1;32m~\\AppData\\Local\\Packages\\PythonSoftwareFoundation.Python.3.12_qbz5n2kfra8p0\\LocalCache\\local-packages\\Python312\\site-packages\\sklearn\\metrics\\pairwise.py:1679\u001b[0m, in \u001b[0;36mcosine_similarity\u001b[1;34m(X, Y, dense_output)\u001b[0m\n\u001b[0;32m   1635\u001b[0m \u001b[38;5;250m\u001b[39m\u001b[38;5;124;03m\"\"\"Compute cosine similarity between samples in X and Y.\u001b[39;00m\n\u001b[0;32m   1636\u001b[0m \n\u001b[0;32m   1637\u001b[0m \u001b[38;5;124;03mCosine similarity, or the cosine kernel, computes similarity as the\u001b[39;00m\n\u001b[1;32m   (...)\u001b[0m\n\u001b[0;32m   1675\u001b[0m \u001b[38;5;124;03m       [0.57..., 0.81...]])\u001b[39;00m\n\u001b[0;32m   1676\u001b[0m \u001b[38;5;124;03m\"\"\"\u001b[39;00m\n\u001b[0;32m   1677\u001b[0m \u001b[38;5;66;03m# to avoid recursive import\u001b[39;00m\n\u001b[1;32m-> 1679\u001b[0m X, Y \u001b[38;5;241m=\u001b[39m \u001b[43mcheck_pairwise_arrays\u001b[49m\u001b[43m(\u001b[49m\u001b[43mX\u001b[49m\u001b[43m,\u001b[49m\u001b[43m \u001b[49m\u001b[43mY\u001b[49m\u001b[43m)\u001b[49m\n\u001b[0;32m   1681\u001b[0m X_normalized \u001b[38;5;241m=\u001b[39m normalize(X, copy\u001b[38;5;241m=\u001b[39m\u001b[38;5;28;01mTrue\u001b[39;00m)\n\u001b[0;32m   1682\u001b[0m \u001b[38;5;28;01mif\u001b[39;00m X \u001b[38;5;129;01mis\u001b[39;00m Y:\n",
      "File \u001b[1;32m~\\AppData\\Local\\Packages\\PythonSoftwareFoundation.Python.3.12_qbz5n2kfra8p0\\LocalCache\\local-packages\\Python312\\site-packages\\sklearn\\metrics\\pairwise.py:166\u001b[0m, in \u001b[0;36mcheck_pairwise_arrays\u001b[1;34m(X, Y, precomputed, dtype, accept_sparse, force_all_finite, ensure_2d, copy)\u001b[0m\n\u001b[0;32m    164\u001b[0m xp, _ \u001b[38;5;241m=\u001b[39m get_namespace(X, Y)\n\u001b[0;32m    165\u001b[0m \u001b[38;5;28;01mif\u001b[39;00m \u001b[38;5;28many\u001b[39m([issparse(X), issparse(Y)]) \u001b[38;5;129;01mor\u001b[39;00m _is_numpy_namespace(xp):\n\u001b[1;32m--> 166\u001b[0m     X, Y, dtype_float \u001b[38;5;241m=\u001b[39m \u001b[43m_return_float_dtype\u001b[49m\u001b[43m(\u001b[49m\u001b[43mX\u001b[49m\u001b[43m,\u001b[49m\u001b[43m \u001b[49m\u001b[43mY\u001b[49m\u001b[43m)\u001b[49m\n\u001b[0;32m    167\u001b[0m \u001b[38;5;28;01melse\u001b[39;00m:\n\u001b[0;32m    168\u001b[0m     dtype_float \u001b[38;5;241m=\u001b[39m _find_matching_floating_dtype(X, Y, xp\u001b[38;5;241m=\u001b[39mxp)\n",
      "File \u001b[1;32m~\\AppData\\Local\\Packages\\PythonSoftwareFoundation.Python.3.12_qbz5n2kfra8p0\\LocalCache\\local-packages\\Python312\\site-packages\\sklearn\\metrics\\pairwise.py:66\u001b[0m, in \u001b[0;36m_return_float_dtype\u001b[1;34m(X, Y)\u001b[0m\n\u001b[0;32m     64\u001b[0m     Y_dtype \u001b[38;5;241m=\u001b[39m X\u001b[38;5;241m.\u001b[39mdtype\n\u001b[0;32m     65\u001b[0m \u001b[38;5;28;01melif\u001b[39;00m \u001b[38;5;129;01mnot\u001b[39;00m issparse(Y) \u001b[38;5;129;01mand\u001b[39;00m \u001b[38;5;129;01mnot\u001b[39;00m \u001b[38;5;28misinstance\u001b[39m(Y, np\u001b[38;5;241m.\u001b[39mndarray):\n\u001b[1;32m---> 66\u001b[0m     Y \u001b[38;5;241m=\u001b[39m \u001b[43mnp\u001b[49m\u001b[38;5;241;43m.\u001b[39;49m\u001b[43masarray\u001b[49m\u001b[43m(\u001b[49m\u001b[43mY\u001b[49m\u001b[43m)\u001b[49m\n\u001b[0;32m     67\u001b[0m     Y_dtype \u001b[38;5;241m=\u001b[39m Y\u001b[38;5;241m.\u001b[39mdtype\n\u001b[0;32m     68\u001b[0m \u001b[38;5;28;01melse\u001b[39;00m:\n",
      "\u001b[1;31mMemoryError\u001b[0m: Unable to allocate 3.55 GiB for an array with shape (4770458, 100) and data type float64"
     ]
    }
   ],
   "source": [
    "get_cosine_similarity_song(\"Love story\")"
   ]
  },
  {
   "cell_type": "code",
   "execution_count": 52,
   "metadata": {},
   "outputs": [
    {
     "data": {
      "text/html": [
       "<div>\n",
       "<style scoped>\n",
       "    .dataframe tbody tr th:only-of-type {\n",
       "        vertical-align: middle;\n",
       "    }\n",
       "\n",
       "    .dataframe tbody tr th {\n",
       "        vertical-align: top;\n",
       "    }\n",
       "\n",
       "    .dataframe thead th {\n",
       "        text-align: right;\n",
       "    }\n",
       "</style>\n",
       "<table border=\"1\" class=\"dataframe\">\n",
       "  <thead>\n",
       "    <tr style=\"text-align: right;\">\n",
       "      <th></th>\n",
       "      <th>user_id</th>\n",
       "      <th>artist</th>\n",
       "      <th>title</th>\n",
       "      <th>playlist_name</th>\n",
       "      <th>tag</th>\n",
       "      <th>year</th>\n",
       "      <th>views</th>\n",
       "      <th>features</th>\n",
       "      <th>lyrics</th>\n",
       "      <th>id</th>\n",
       "      <th>language_cld3</th>\n",
       "      <th>language_ft</th>\n",
       "      <th>language</th>\n",
       "      <th>similarity</th>\n",
       "    </tr>\n",
       "  </thead>\n",
       "  <tbody>\n",
       "    <tr>\n",
       "      <th>617655</th>\n",
       "      <td>6649c6b017eec9ffc91f83d6f386c1f6</td>\n",
       "      <td>Intwine</td>\n",
       "      <td>Cruel Man</td>\n",
       "      <td>Hard Rock</td>\n",
       "      <td>pop</td>\n",
       "      <td>2004</td>\n",
       "      <td>1550</td>\n",
       "      <td>{}</td>\n",
       "      <td>Sick of preaching this to you\\nNobody listens,...</td>\n",
       "      <td>1329717</td>\n",
       "      <td>en</td>\n",
       "      <td>en</td>\n",
       "      <td>en</td>\n",
       "      <td>1.0</td>\n",
       "    </tr>\n",
       "    <tr>\n",
       "      <th>3585797</th>\n",
       "      <td>e979c447d3747b097b58a83f1fb4e894</td>\n",
       "      <td>Uriah Heep</td>\n",
       "      <td>Hot Persuasion</td>\n",
       "      <td>Hard Rock</td>\n",
       "      <td>pop</td>\n",
       "      <td>1982</td>\n",
       "      <td>102</td>\n",
       "      <td>{}</td>\n",
       "      <td>You know you light my candle\\nYou know you loa...</td>\n",
       "      <td>914695</td>\n",
       "      <td>en</td>\n",
       "      <td>en</td>\n",
       "      <td>en</td>\n",
       "      <td>1.0</td>\n",
       "    </tr>\n",
       "    <tr>\n",
       "      <th>3585799</th>\n",
       "      <td>e979c447d3747b097b58a83f1fb4e894</td>\n",
       "      <td>Godsmack</td>\n",
       "      <td>I Am</td>\n",
       "      <td>Hard Rock</td>\n",
       "      <td>rock</td>\n",
       "      <td>2003</td>\n",
       "      <td>1831</td>\n",
       "      <td>{}</td>\n",
       "      <td>[Verse 1]\\nI am your spoken truth\\nI am the li...</td>\n",
       "      <td>273374</td>\n",
       "      <td>en</td>\n",
       "      <td>en</td>\n",
       "      <td>en</td>\n",
       "      <td>1.0</td>\n",
       "    </tr>\n",
       "    <tr>\n",
       "      <th>3585800</th>\n",
       "      <td>e979c447d3747b097b58a83f1fb4e894</td>\n",
       "      <td>Godsmack</td>\n",
       "      <td>I Stand Alone</td>\n",
       "      <td>Hard Rock</td>\n",
       "      <td>rock</td>\n",
       "      <td>2002</td>\n",
       "      <td>34945</td>\n",
       "      <td>{}</td>\n",
       "      <td>[Verse 1]\\nI've told you this once before, you...</td>\n",
       "      <td>209485</td>\n",
       "      <td>en</td>\n",
       "      <td>en</td>\n",
       "      <td>en</td>\n",
       "      <td>1.0</td>\n",
       "    </tr>\n",
       "    <tr>\n",
       "      <th>3585801</th>\n",
       "      <td>e979c447d3747b097b58a83f1fb4e894</td>\n",
       "      <td>Uriah Heep</td>\n",
       "      <td>I Wanna Be Free</td>\n",
       "      <td>Hard Rock</td>\n",
       "      <td>pop</td>\n",
       "      <td>1971</td>\n",
       "      <td>829</td>\n",
       "      <td>{}</td>\n",
       "      <td>[Verse 1]\\nAs I wake up every day\\nWith no new...</td>\n",
       "      <td>1573185</td>\n",
       "      <td>en</td>\n",
       "      <td>en</td>\n",
       "      <td>en</td>\n",
       "      <td>1.0</td>\n",
       "    </tr>\n",
       "  </tbody>\n",
       "</table>\n",
       "</div>"
      ],
      "text/plain": [
       "                                  user_id      artist            title  \\\n",
       "617655   6649c6b017eec9ffc91f83d6f386c1f6     Intwine        Cruel Man   \n",
       "3585797  e979c447d3747b097b58a83f1fb4e894  Uriah Heep   Hot Persuasion   \n",
       "3585799  e979c447d3747b097b58a83f1fb4e894    Godsmack             I Am   \n",
       "3585800  e979c447d3747b097b58a83f1fb4e894    Godsmack    I Stand Alone   \n",
       "3585801  e979c447d3747b097b58a83f1fb4e894  Uriah Heep  I Wanna Be Free   \n",
       "\n",
       "        playlist_name   tag  year  views features  \\\n",
       "617655      Hard Rock   pop  2004   1550       {}   \n",
       "3585797     Hard Rock   pop  1982    102       {}   \n",
       "3585799     Hard Rock  rock  2003   1831       {}   \n",
       "3585800     Hard Rock  rock  2002  34945       {}   \n",
       "3585801     Hard Rock   pop  1971    829       {}   \n",
       "\n",
       "                                                    lyrics       id  \\\n",
       "617655   Sick of preaching this to you\\nNobody listens,...  1329717   \n",
       "3585797  You know you light my candle\\nYou know you loa...   914695   \n",
       "3585799  [Verse 1]\\nI am your spoken truth\\nI am the li...   273374   \n",
       "3585800  [Verse 1]\\nI've told you this once before, you...   209485   \n",
       "3585801  [Verse 1]\\nAs I wake up every day\\nWith no new...  1573185   \n",
       "\n",
       "        language_cld3 language_ft language  similarity  \n",
       "617655             en          en       en         1.0  \n",
       "3585797            en          en       en         1.0  \n",
       "3585799            en          en       en         1.0  \n",
       "3585800            en          en       en         1.0  \n",
       "3585801            en          en       en         1.0  "
      ]
     },
     "execution_count": 52,
     "metadata": {},
     "output_type": "execute_result"
    }
   ],
   "source": [
    "get_cosine_similarity_song(\"Hard rock\")"
   ]
  },
  {
   "cell_type": "code",
   "execution_count": 53,
   "metadata": {},
   "outputs": [
    {
     "data": {
      "text/html": [
       "<div>\n",
       "<style scoped>\n",
       "    .dataframe tbody tr th:only-of-type {\n",
       "        vertical-align: middle;\n",
       "    }\n",
       "\n",
       "    .dataframe tbody tr th {\n",
       "        vertical-align: top;\n",
       "    }\n",
       "\n",
       "    .dataframe thead th {\n",
       "        text-align: right;\n",
       "    }\n",
       "</style>\n",
       "<table border=\"1\" class=\"dataframe\">\n",
       "  <thead>\n",
       "    <tr style=\"text-align: right;\">\n",
       "      <th></th>\n",
       "      <th>user_id</th>\n",
       "      <th>artist</th>\n",
       "      <th>title</th>\n",
       "      <th>playlist_name</th>\n",
       "      <th>tag</th>\n",
       "      <th>year</th>\n",
       "      <th>views</th>\n",
       "      <th>features</th>\n",
       "      <th>lyrics</th>\n",
       "      <th>id</th>\n",
       "      <th>language_cld3</th>\n",
       "      <th>language_ft</th>\n",
       "      <th>language</th>\n",
       "      <th>similarity</th>\n",
       "    </tr>\n",
       "  </thead>\n",
       "  <tbody>\n",
       "    <tr>\n",
       "      <th>1017465</th>\n",
       "      <td>a1636d750f67c7e6754165a2f7856860</td>\n",
       "      <td>Dave Matthews Band</td>\n",
       "      <td>Belly Full</td>\n",
       "      <td>Chill DMB</td>\n",
       "      <td>rock</td>\n",
       "      <td>2012</td>\n",
       "      <td>2037</td>\n",
       "      <td>{}</td>\n",
       "      <td>[Verse 1]\\nOh, my love\\nIf I had my way\\nThen ...</td>\n",
       "      <td>186079</td>\n",
       "      <td>en</td>\n",
       "      <td>en</td>\n",
       "      <td>en</td>\n",
       "      <td>0.999739</td>\n",
       "    </tr>\n",
       "    <tr>\n",
       "      <th>1017475</th>\n",
       "      <td>a1636d750f67c7e6754165a2f7856860</td>\n",
       "      <td>Dave Matthews Band</td>\n",
       "      <td>Snow Outside</td>\n",
       "      <td>Chill DMB</td>\n",
       "      <td>rock</td>\n",
       "      <td>2012</td>\n",
       "      <td>2805</td>\n",
       "      <td>{}</td>\n",
       "      <td>[Verse 1]\\nWell, you are like a secret garden\\...</td>\n",
       "      <td>186113</td>\n",
       "      <td>en</td>\n",
       "      <td>en</td>\n",
       "      <td>en</td>\n",
       "      <td>0.999739</td>\n",
       "    </tr>\n",
       "    <tr>\n",
       "      <th>1017463</th>\n",
       "      <td>a1636d750f67c7e6754165a2f7856860</td>\n",
       "      <td>Jack Johnson</td>\n",
       "      <td>A Pirate Looks At Forty</td>\n",
       "      <td>Chill DMB</td>\n",
       "      <td>pop</td>\n",
       "      <td>2012</td>\n",
       "      <td>3211</td>\n",
       "      <td>{}</td>\n",
       "      <td>Mother, mother ocean, well I have heard you ca...</td>\n",
       "      <td>1798565</td>\n",
       "      <td>en</td>\n",
       "      <td>en</td>\n",
       "      <td>en</td>\n",
       "      <td>0.999739</td>\n",
       "    </tr>\n",
       "    <tr>\n",
       "      <th>1017464</th>\n",
       "      <td>a1636d750f67c7e6754165a2f7856860</td>\n",
       "      <td>Dave Matthews Band</td>\n",
       "      <td>Baby Blue</td>\n",
       "      <td>Chill DMB</td>\n",
       "      <td>rock</td>\n",
       "      <td>2009</td>\n",
       "      <td>5764</td>\n",
       "      <td>{}</td>\n",
       "      <td>[Verse 1]\\nConfess your kiss\\nStill knocks me ...</td>\n",
       "      <td>68711</td>\n",
       "      <td>en</td>\n",
       "      <td>en</td>\n",
       "      <td>en</td>\n",
       "      <td>0.999739</td>\n",
       "    </tr>\n",
       "    <tr>\n",
       "      <th>1017466</th>\n",
       "      <td>a1636d750f67c7e6754165a2f7856860</td>\n",
       "      <td>Dave Matthews Band</td>\n",
       "      <td>Big Eyed Fish</td>\n",
       "      <td>Chill DMB</td>\n",
       "      <td>rock</td>\n",
       "      <td>2002</td>\n",
       "      <td>7708</td>\n",
       "      <td>{}</td>\n",
       "      <td>[Verse 1]\\nLook at this big-eyed fish swimmin'...</td>\n",
       "      <td>187932</td>\n",
       "      <td>en</td>\n",
       "      <td>en</td>\n",
       "      <td>en</td>\n",
       "      <td>0.999739</td>\n",
       "    </tr>\n",
       "  </tbody>\n",
       "</table>\n",
       "</div>"
      ],
      "text/plain": [
       "                                  user_id              artist  \\\n",
       "1017465  a1636d750f67c7e6754165a2f7856860  Dave Matthews Band   \n",
       "1017475  a1636d750f67c7e6754165a2f7856860  Dave Matthews Band   \n",
       "1017463  a1636d750f67c7e6754165a2f7856860        Jack Johnson   \n",
       "1017464  a1636d750f67c7e6754165a2f7856860  Dave Matthews Band   \n",
       "1017466  a1636d750f67c7e6754165a2f7856860  Dave Matthews Band   \n",
       "\n",
       "                           title playlist_name   tag  year  views features  \\\n",
       "1017465               Belly Full     Chill DMB  rock  2012   2037       {}   \n",
       "1017475             Snow Outside     Chill DMB  rock  2012   2805       {}   \n",
       "1017463  A Pirate Looks At Forty     Chill DMB   pop  2012   3211       {}   \n",
       "1017464                Baby Blue     Chill DMB  rock  2009   5764       {}   \n",
       "1017466            Big Eyed Fish     Chill DMB  rock  2002   7708       {}   \n",
       "\n",
       "                                                    lyrics       id  \\\n",
       "1017465  [Verse 1]\\nOh, my love\\nIf I had my way\\nThen ...   186079   \n",
       "1017475  [Verse 1]\\nWell, you are like a secret garden\\...   186113   \n",
       "1017463  Mother, mother ocean, well I have heard you ca...  1798565   \n",
       "1017464  [Verse 1]\\nConfess your kiss\\nStill knocks me ...    68711   \n",
       "1017466  [Verse 1]\\nLook at this big-eyed fish swimmin'...   187932   \n",
       "\n",
       "        language_cld3 language_ft language  similarity  \n",
       "1017465            en          en       en    0.999739  \n",
       "1017475            en          en       en    0.999739  \n",
       "1017463            en          en       en    0.999739  \n",
       "1017464            en          en       en    0.999739  \n",
       "1017466            en          en       en    0.999739  "
      ]
     },
     "execution_count": 53,
     "metadata": {},
     "output_type": "execute_result"
    }
   ],
   "source": [
    "get_cosine_similarity_song(\"Lo-fi chill\")"
   ]
  },
  {
   "cell_type": "code",
   "execution_count": 54,
   "metadata": {},
   "outputs": [
    {
     "data": {
      "text/html": [
       "<div>\n",
       "<style scoped>\n",
       "    .dataframe tbody tr th:only-of-type {\n",
       "        vertical-align: middle;\n",
       "    }\n",
       "\n",
       "    .dataframe tbody tr th {\n",
       "        vertical-align: top;\n",
       "    }\n",
       "\n",
       "    .dataframe thead th {\n",
       "        text-align: right;\n",
       "    }\n",
       "</style>\n",
       "<table border=\"1\" class=\"dataframe\">\n",
       "  <thead>\n",
       "    <tr style=\"text-align: right;\">\n",
       "      <th></th>\n",
       "      <th>user_id</th>\n",
       "      <th>artist</th>\n",
       "      <th>title</th>\n",
       "      <th>playlist_name</th>\n",
       "      <th>tag</th>\n",
       "      <th>year</th>\n",
       "      <th>views</th>\n",
       "      <th>features</th>\n",
       "      <th>lyrics</th>\n",
       "      <th>id</th>\n",
       "      <th>language_cld3</th>\n",
       "      <th>language_ft</th>\n",
       "      <th>language</th>\n",
       "      <th>similarity</th>\n",
       "    </tr>\n",
       "  </thead>\n",
       "  <tbody>\n",
       "    <tr>\n",
       "      <th>4169870</th>\n",
       "      <td>a5993960605e6586e5dffabcd30c2757</td>\n",
       "      <td>YG</td>\n",
       "      <td>Do It To Ya</td>\n",
       "      <td>Rap</td>\n",
       "      <td>rap</td>\n",
       "      <td>2014</td>\n",
       "      <td>168895</td>\n",
       "      <td>{TeeFlii}</td>\n",
       "      <td>[Intro: YG]\\nHey, hey, hey, hey\\nMustard on th...</td>\n",
       "      <td>381670</td>\n",
       "      <td>en</td>\n",
       "      <td>en</td>\n",
       "      <td>en</td>\n",
       "      <td>1.0</td>\n",
       "    </tr>\n",
       "    <tr>\n",
       "      <th>693664</th>\n",
       "      <td>57004eb5876f347f53d9d5c237e8bde6</td>\n",
       "      <td>D12</td>\n",
       "      <td>Fight Music</td>\n",
       "      <td>rap</td>\n",
       "      <td>rap</td>\n",
       "      <td>2001</td>\n",
       "      <td>244185</td>\n",
       "      <td>{}</td>\n",
       "      <td>[Chorus: Eminem]\\nThis kind of music, use it, ...</td>\n",
       "      <td>1890</td>\n",
       "      <td>en</td>\n",
       "      <td>en</td>\n",
       "      <td>en</td>\n",
       "      <td>1.0</td>\n",
       "    </tr>\n",
       "    <tr>\n",
       "      <th>693675</th>\n",
       "      <td>57004eb5876f347f53d9d5c237e8bde6</td>\n",
       "      <td>Lil Wayne</td>\n",
       "      <td>Go DJ</td>\n",
       "      <td>rap</td>\n",
       "      <td>rap</td>\n",
       "      <td>2004</td>\n",
       "      <td>156237</td>\n",
       "      <td>{\"Mannie Fresh\"}</td>\n",
       "      <td>[Intro: Mannie Fresh]\\nYeah, yeah, yeah, yeah,...</td>\n",
       "      <td>250</td>\n",
       "      <td>en</td>\n",
       "      <td>en</td>\n",
       "      <td>en</td>\n",
       "      <td>1.0</td>\n",
       "    </tr>\n",
       "    <tr>\n",
       "      <th>693674</th>\n",
       "      <td>57004eb5876f347f53d9d5c237e8bde6</td>\n",
       "      <td>D12</td>\n",
       "      <td>Girls</td>\n",
       "      <td>rap</td>\n",
       "      <td>rap</td>\n",
       "      <td>2001</td>\n",
       "      <td>275</td>\n",
       "      <td>{}</td>\n",
       "      <td>[Eminem]\\nHey yo dawg\\nI got some shit on my m...</td>\n",
       "      <td>7682026</td>\n",
       "      <td>en</td>\n",
       "      <td>en</td>\n",
       "      <td>en</td>\n",
       "      <td>1.0</td>\n",
       "    </tr>\n",
       "    <tr>\n",
       "      <th>693673</th>\n",
       "      <td>57004eb5876f347f53d9d5c237e8bde6</td>\n",
       "      <td>Busta Rhymes</td>\n",
       "      <td>Gimme Some More</td>\n",
       "      <td>rap</td>\n",
       "      <td>rap</td>\n",
       "      <td>1998</td>\n",
       "      <td>88091</td>\n",
       "      <td>{}</td>\n",
       "      <td>[Intro]\\nYeah, as a shorty, playing in the fro...</td>\n",
       "      <td>9010</td>\n",
       "      <td>en</td>\n",
       "      <td>en</td>\n",
       "      <td>en</td>\n",
       "      <td>1.0</td>\n",
       "    </tr>\n",
       "  </tbody>\n",
       "</table>\n",
       "</div>"
      ],
      "text/plain": [
       "                                  user_id        artist            title  \\\n",
       "4169870  a5993960605e6586e5dffabcd30c2757            YG      Do It To Ya   \n",
       "693664   57004eb5876f347f53d9d5c237e8bde6           D12      Fight Music   \n",
       "693675   57004eb5876f347f53d9d5c237e8bde6     Lil Wayne            Go DJ   \n",
       "693674   57004eb5876f347f53d9d5c237e8bde6           D12            Girls   \n",
       "693673   57004eb5876f347f53d9d5c237e8bde6  Busta Rhymes  Gimme Some More   \n",
       "\n",
       "        playlist_name  tag  year   views          features  \\\n",
       "4169870           Rap  rap  2014  168895         {TeeFlii}   \n",
       "693664            rap  rap  2001  244185                {}   \n",
       "693675            rap  rap  2004  156237  {\"Mannie Fresh\"}   \n",
       "693674            rap  rap  2001     275                {}   \n",
       "693673            rap  rap  1998   88091                {}   \n",
       "\n",
       "                                                    lyrics       id  \\\n",
       "4169870  [Intro: YG]\\nHey, hey, hey, hey\\nMustard on th...   381670   \n",
       "693664   [Chorus: Eminem]\\nThis kind of music, use it, ...     1890   \n",
       "693675   [Intro: Mannie Fresh]\\nYeah, yeah, yeah, yeah,...      250   \n",
       "693674   [Eminem]\\nHey yo dawg\\nI got some shit on my m...  7682026   \n",
       "693673   [Intro]\\nYeah, as a shorty, playing in the fro...     9010   \n",
       "\n",
       "        language_cld3 language_ft language  similarity  \n",
       "4169870            en          en       en         1.0  \n",
       "693664             en          en       en         1.0  \n",
       "693675             en          en       en         1.0  \n",
       "693674             en          en       en         1.0  \n",
       "693673             en          en       en         1.0  "
      ]
     },
     "execution_count": 54,
     "metadata": {},
     "output_type": "execute_result"
    }
   ],
   "source": [
    "get_cosine_similarity_song(\"rap\")"
   ]
  },
  {
   "cell_type": "code",
   "execution_count": null,
   "metadata": {},
   "outputs": [],
   "source": []
  }
 ],
 "metadata": {
  "kernelspec": {
   "display_name": "Python 3",
   "language": "python",
   "name": "python3"
  },
  "language_info": {
   "codemirror_mode": {
    "name": "ipython",
    "version": 3
   },
   "file_extension": ".py",
   "mimetype": "text/x-python",
   "name": "python",
   "nbconvert_exporter": "python",
   "pygments_lexer": "ipython3",
   "version": "3.12.10"
  }
 },
 "nbformat": 4,
 "nbformat_minor": 2
}
