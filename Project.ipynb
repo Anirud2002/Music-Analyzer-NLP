{
 "cells": [
  {
   "cell_type": "markdown",
   "metadata": {},
   "source": [
    "# Playlist Maker\n",
    "## Joseph Moore\n",
    "## Anirud Shrestha"
   ]
  },
  {
   "cell_type": "markdown",
   "metadata": {},
   "source": [
    "# Load in the data"
   ]
  },
  {
   "cell_type": "code",
   "execution_count": 1,
   "metadata": {},
   "outputs": [
    {
     "name": "stdout",
     "output_type": "stream",
     "text": [
      "Path to lyrics dataset: C:\\Users\\Joseph\\.cache\\kagglehub\\datasets\\carlosgdcj\\genius-song-lyrics-with-language-information\\versions\\1/song_lyrics.csv\n",
      "Path to lyrics dataset: C:\\Users\\Joseph\\.cache\\kagglehub\\datasets\\asifsadmine\\spotify-playlists-dataset\\versions\\1/spotify_dataset.csv\n"
     ]
    }
   ],
   "source": [
    "import kagglehub\n",
    "\n",
    "# Get lyrics dataset from Kaggle\n",
    "lyrics_path = kagglehub.dataset_download(\"carlosgdcj/genius-song-lyrics-with-language-information\") + '/song_lyrics.csv'\n",
    "\n",
    "print(\"Path to lyrics dataset:\", lyrics_path)\n",
    "\n",
    "# Get playlists dataset from Kaggle\n",
    "playlists_path = kagglehub.dataset_download(\"asifsadmine/spotify-playlists-dataset\") + '/spotify_dataset.csv'\n",
    "\n",
    "print(\"Path to lyrics dataset:\", playlists_path)"
   ]
  },
  {
   "cell_type": "code",
   "execution_count": 2,
   "metadata": {},
   "outputs": [
    {
     "data": {
      "text/html": [
       "<div>\n",
       "<style scoped>\n",
       "    .dataframe tbody tr th:only-of-type {\n",
       "        vertical-align: middle;\n",
       "    }\n",
       "\n",
       "    .dataframe tbody tr th {\n",
       "        vertical-align: top;\n",
       "    }\n",
       "\n",
       "    .dataframe thead th {\n",
       "        text-align: right;\n",
       "    }\n",
       "</style>\n",
       "<table border=\"1\" class=\"dataframe\">\n",
       "  <thead>\n",
       "    <tr style=\"text-align: right;\">\n",
       "      <th></th>\n",
       "      <th>title</th>\n",
       "      <th>tag</th>\n",
       "      <th>artist</th>\n",
       "      <th>year</th>\n",
       "      <th>views</th>\n",
       "      <th>features</th>\n",
       "      <th>lyrics</th>\n",
       "      <th>id</th>\n",
       "      <th>language_cld3</th>\n",
       "      <th>language_ft</th>\n",
       "      <th>language</th>\n",
       "    </tr>\n",
       "  </thead>\n",
       "  <tbody>\n",
       "    <tr>\n",
       "      <th>0</th>\n",
       "      <td>Killa Cam</td>\n",
       "      <td>rap</td>\n",
       "      <td>Cam'ron</td>\n",
       "      <td>2004</td>\n",
       "      <td>173166</td>\n",
       "      <td>{\"Cam\\\\'ron\",\"Opera Steve\"}</td>\n",
       "      <td>[Chorus: Opera Steve &amp; Cam'ron]\\nKilla Cam, Ki...</td>\n",
       "      <td>1</td>\n",
       "      <td>en</td>\n",
       "      <td>en</td>\n",
       "      <td>en</td>\n",
       "    </tr>\n",
       "    <tr>\n",
       "      <th>1</th>\n",
       "      <td>Can I Live</td>\n",
       "      <td>rap</td>\n",
       "      <td>JAY-Z</td>\n",
       "      <td>1996</td>\n",
       "      <td>468624</td>\n",
       "      <td>{}</td>\n",
       "      <td>[Produced by Irv Gotti]\\n\\n[Intro]\\nYeah, hah,...</td>\n",
       "      <td>3</td>\n",
       "      <td>en</td>\n",
       "      <td>en</td>\n",
       "      <td>en</td>\n",
       "    </tr>\n",
       "    <tr>\n",
       "      <th>2</th>\n",
       "      <td>Forgive Me Father</td>\n",
       "      <td>rap</td>\n",
       "      <td>Fabolous</td>\n",
       "      <td>2003</td>\n",
       "      <td>4743</td>\n",
       "      <td>{}</td>\n",
       "      <td>Maybe cause I'm eatin\\nAnd these bastards fien...</td>\n",
       "      <td>4</td>\n",
       "      <td>en</td>\n",
       "      <td>en</td>\n",
       "      <td>en</td>\n",
       "    </tr>\n",
       "    <tr>\n",
       "      <th>3</th>\n",
       "      <td>Down and Out</td>\n",
       "      <td>rap</td>\n",
       "      <td>Cam'ron</td>\n",
       "      <td>2004</td>\n",
       "      <td>144404</td>\n",
       "      <td>{\"Cam\\\\'ron\",\"Kanye West\",\"Syleena Johnson\"}</td>\n",
       "      <td>[Produced by Kanye West and Brian Miller]\\n\\n[...</td>\n",
       "      <td>5</td>\n",
       "      <td>en</td>\n",
       "      <td>en</td>\n",
       "      <td>en</td>\n",
       "    </tr>\n",
       "    <tr>\n",
       "      <th>4</th>\n",
       "      <td>Fly In</td>\n",
       "      <td>rap</td>\n",
       "      <td>Lil Wayne</td>\n",
       "      <td>2005</td>\n",
       "      <td>78271</td>\n",
       "      <td>{}</td>\n",
       "      <td>[Intro]\\nSo they ask me\\n\"Young boy\\nWhat you ...</td>\n",
       "      <td>6</td>\n",
       "      <td>en</td>\n",
       "      <td>en</td>\n",
       "      <td>en</td>\n",
       "    </tr>\n",
       "  </tbody>\n",
       "</table>\n",
       "</div>"
      ],
      "text/plain": [
       "               title  tag     artist  year   views  \\\n",
       "0          Killa Cam  rap    Cam'ron  2004  173166   \n",
       "1         Can I Live  rap      JAY-Z  1996  468624   \n",
       "2  Forgive Me Father  rap   Fabolous  2003    4743   \n",
       "3       Down and Out  rap    Cam'ron  2004  144404   \n",
       "4             Fly In  rap  Lil Wayne  2005   78271   \n",
       "\n",
       "                                       features  \\\n",
       "0                   {\"Cam\\\\'ron\",\"Opera Steve\"}   \n",
       "1                                            {}   \n",
       "2                                            {}   \n",
       "3  {\"Cam\\\\'ron\",\"Kanye West\",\"Syleena Johnson\"}   \n",
       "4                                            {}   \n",
       "\n",
       "                                              lyrics  id language_cld3  \\\n",
       "0  [Chorus: Opera Steve & Cam'ron]\\nKilla Cam, Ki...   1            en   \n",
       "1  [Produced by Irv Gotti]\\n\\n[Intro]\\nYeah, hah,...   3            en   \n",
       "2  Maybe cause I'm eatin\\nAnd these bastards fien...   4            en   \n",
       "3  [Produced by Kanye West and Brian Miller]\\n\\n[...   5            en   \n",
       "4  [Intro]\\nSo they ask me\\n\"Young boy\\nWhat you ...   6            en   \n",
       "\n",
       "  language_ft language  \n",
       "0          en       en  \n",
       "1          en       en  \n",
       "2          en       en  \n",
       "3          en       en  \n",
       "4          en       en  "
      ]
     },
     "execution_count": 2,
     "metadata": {},
     "output_type": "execute_result"
    }
   ],
   "source": [
    "import pandas as pd\n",
    "\n",
    "# Load in to dataframe\n",
    "df_lyrics = pd.read_csv(lyrics_path)\n",
    "df_lyrics.head()"
   ]
  },
  {
   "cell_type": "code",
   "execution_count": 3,
   "metadata": {},
   "outputs": [
    {
     "data": {
      "text/html": [
       "<div>\n",
       "<style scoped>\n",
       "    .dataframe tbody tr th:only-of-type {\n",
       "        vertical-align: middle;\n",
       "    }\n",
       "\n",
       "    .dataframe tbody tr th {\n",
       "        vertical-align: top;\n",
       "    }\n",
       "\n",
       "    .dataframe thead th {\n",
       "        text-align: right;\n",
       "    }\n",
       "</style>\n",
       "<table border=\"1\" class=\"dataframe\">\n",
       "  <thead>\n",
       "    <tr style=\"text-align: right;\">\n",
       "      <th></th>\n",
       "      <th>user_id</th>\n",
       "      <th>\"artistname\"</th>\n",
       "      <th>\"trackname\"</th>\n",
       "      <th>\"playlistname\"</th>\n",
       "    </tr>\n",
       "  </thead>\n",
       "  <tbody>\n",
       "    <tr>\n",
       "      <th>0</th>\n",
       "      <td>9cc0cfd4d7d7885102480dd99e7a90d6</td>\n",
       "      <td>Elvis Costello</td>\n",
       "      <td>(The Angels Wanna Wear My) Red Shoes</td>\n",
       "      <td>HARD ROCK 2010</td>\n",
       "    </tr>\n",
       "    <tr>\n",
       "      <th>1</th>\n",
       "      <td>9cc0cfd4d7d7885102480dd99e7a90d6</td>\n",
       "      <td>Elvis Costello &amp; The Attractions</td>\n",
       "      <td>(What's So Funny 'Bout) Peace, Love And Unders...</td>\n",
       "      <td>HARD ROCK 2010</td>\n",
       "    </tr>\n",
       "    <tr>\n",
       "      <th>2</th>\n",
       "      <td>9cc0cfd4d7d7885102480dd99e7a90d6</td>\n",
       "      <td>Tiffany Page</td>\n",
       "      <td>7 Years Too Late</td>\n",
       "      <td>HARD ROCK 2010</td>\n",
       "    </tr>\n",
       "    <tr>\n",
       "      <th>3</th>\n",
       "      <td>9cc0cfd4d7d7885102480dd99e7a90d6</td>\n",
       "      <td>Elvis Costello &amp; The Attractions</td>\n",
       "      <td>Accidents Will Happen</td>\n",
       "      <td>HARD ROCK 2010</td>\n",
       "    </tr>\n",
       "    <tr>\n",
       "      <th>4</th>\n",
       "      <td>9cc0cfd4d7d7885102480dd99e7a90d6</td>\n",
       "      <td>Elvis Costello</td>\n",
       "      <td>Alison</td>\n",
       "      <td>HARD ROCK 2010</td>\n",
       "    </tr>\n",
       "  </tbody>\n",
       "</table>\n",
       "</div>"
      ],
      "text/plain": [
       "                            user_id                      \"artistname\"  \\\n",
       "0  9cc0cfd4d7d7885102480dd99e7a90d6                    Elvis Costello   \n",
       "1  9cc0cfd4d7d7885102480dd99e7a90d6  Elvis Costello & The Attractions   \n",
       "2  9cc0cfd4d7d7885102480dd99e7a90d6                      Tiffany Page   \n",
       "3  9cc0cfd4d7d7885102480dd99e7a90d6  Elvis Costello & The Attractions   \n",
       "4  9cc0cfd4d7d7885102480dd99e7a90d6                    Elvis Costello   \n",
       "\n",
       "                                         \"trackname\"  \"playlistname\"  \n",
       "0               (The Angels Wanna Wear My) Red Shoes  HARD ROCK 2010  \n",
       "1  (What's So Funny 'Bout) Peace, Love And Unders...  HARD ROCK 2010  \n",
       "2                                   7 Years Too Late  HARD ROCK 2010  \n",
       "3                              Accidents Will Happen  HARD ROCK 2010  \n",
       "4                                             Alison  HARD ROCK 2010  "
      ]
     },
     "execution_count": 3,
     "metadata": {},
     "output_type": "execute_result"
    }
   ],
   "source": [
    "# Load in to dataframe\n",
    "df_playlists = pd.read_csv(playlists_path, on_bad_lines='skip')\n",
    "df_playlists.head()"
   ]
  },
  {
   "cell_type": "markdown",
   "metadata": {},
   "source": [
    "# Clean the data"
   ]
  },
  {
   "cell_type": "code",
   "execution_count": 4,
   "metadata": {},
   "outputs": [],
   "source": [
    "import re\n",
    "\n",
    "def clean_lyrics(input_str):\n",
    "    # Remove content within square brackets, including brackets\n",
    "    no_brackets = re.sub(r'\\[.*?\\]', '', input_str)\n",
    "    # Remove all newline characters\n",
    "    cleaned = no_brackets.replace('\\n', ' ')\n",
    "    return cleaned\n",
    "\n",
    "df_lyrics['lyrics'] = [clean_lyrics(lyrics) for lyrics in df_lyrics['lyrics']]"
   ]
  },
  {
   "cell_type": "code",
   "execution_count": 5,
   "metadata": {},
   "outputs": [
    {
     "data": {
      "text/plain": [
       "0     Killa Cam, Killa Cam, Cam Killa Cam, Killa Ca...\n",
       "1       Yeah, hah, yeah, Roc-A-Fella We invite you ...\n",
       "2    Maybe cause I'm eatin And these bastards fiend...\n",
       "3       Ugh, Killa! Baby! Kanye, this that 1970s He...\n",
       "4     So they ask me \"Young boy What you gon' do th...\n",
       "5     Haha Uh-huh No homo (Young Mula, baby!) I say...\n",
       "6     No, no, no! I told you, I lived this shit I a...\n",
       "7     Killa, Dipset Man I spit that pimp talk, you ...\n",
       "8     Ay yo you wonder who I are I guzzle up at the...\n",
       "9     Now Lord you know, just how hard I try To liv...\n",
       "Name: lyrics, dtype: object"
      ]
     },
     "execution_count": 5,
     "metadata": {},
     "output_type": "execute_result"
    }
   ],
   "source": [
    "df_lyrics['lyrics'][0:10]"
   ]
  },
  {
   "cell_type": "code",
   "execution_count": 6,
   "metadata": {},
   "outputs": [],
   "source": [
    "# Rename all columns at once\n",
    "df_playlists.columns = ['user_id', 'artist', 'title', 'playlist_name']"
   ]
  },
  {
   "cell_type": "code",
   "execution_count": 7,
   "metadata": {},
   "outputs": [],
   "source": [
    "df_lyrics = df_lyrics[['title','artist','lyrics']]\n",
    "df_lyrics.drop_duplicates(inplace=True)\n",
    "df_lyrics.dropna(inplace=True)"
   ]
  },
  {
   "cell_type": "code",
   "execution_count": 8,
   "metadata": {},
   "outputs": [],
   "source": [
    "df_playlists.drop_duplicates(inplace=True)\n",
    "df_playlists.dropna(inplace=True)"
   ]
  },
  {
   "cell_type": "code",
   "execution_count": 9,
   "metadata": {},
   "outputs": [
    {
     "data": {
      "text/html": [
       "<div>\n",
       "<style scoped>\n",
       "    .dataframe tbody tr th:only-of-type {\n",
       "        vertical-align: middle;\n",
       "    }\n",
       "\n",
       "    .dataframe tbody tr th {\n",
       "        vertical-align: top;\n",
       "    }\n",
       "\n",
       "    .dataframe thead th {\n",
       "        text-align: right;\n",
       "    }\n",
       "</style>\n",
       "<table border=\"1\" class=\"dataframe\">\n",
       "  <thead>\n",
       "    <tr style=\"text-align: right;\">\n",
       "      <th></th>\n",
       "      <th>user_id</th>\n",
       "      <th>artist</th>\n",
       "      <th>title</th>\n",
       "      <th>playlist_name</th>\n",
       "      <th>lyrics</th>\n",
       "    </tr>\n",
       "  </thead>\n",
       "  <tbody>\n",
       "    <tr>\n",
       "      <th>0</th>\n",
       "      <td>9cc0cfd4d7d7885102480dd99e7a90d6</td>\n",
       "      <td>Elvis Costello</td>\n",
       "      <td>Alison</td>\n",
       "      <td>HARD ROCK 2010</td>\n",
       "      <td>Oh, it's so funny to be seeing you after so l...</td>\n",
       "    </tr>\n",
       "    <tr>\n",
       "      <th>1</th>\n",
       "      <td>9cc0cfd4d7d7885102480dd99e7a90d6</td>\n",
       "      <td>Lissie</td>\n",
       "      <td>All Be Okay</td>\n",
       "      <td>HARD ROCK 2010</td>\n",
       "      <td>I'm gonna break down the walls That keep us f...</td>\n",
       "    </tr>\n",
       "    <tr>\n",
       "      <th>2</th>\n",
       "      <td>9cc0cfd4d7d7885102480dd99e7a90d6</td>\n",
       "      <td>Lissie</td>\n",
       "      <td>Bright Side</td>\n",
       "      <td>HARD ROCK 2010</td>\n",
       "      <td>It's just me and my puppy Together we're so ve...</td>\n",
       "    </tr>\n",
       "    <tr>\n",
       "      <th>3</th>\n",
       "      <td>9cc0cfd4d7d7885102480dd99e7a90d6</td>\n",
       "      <td>Paul McCartney</td>\n",
       "      <td>Dance Tonight</td>\n",
       "      <td>HARD ROCK 2010</td>\n",
       "      <td>Everybody gonna dance tonight Everybody gonna...</td>\n",
       "    </tr>\n",
       "    <tr>\n",
       "      <th>4</th>\n",
       "      <td>9cc0cfd4d7d7885102480dd99e7a90d6</td>\n",
       "      <td>Lissie</td>\n",
       "      <td>Everywhere I Go</td>\n",
       "      <td>HARD ROCK 2010</td>\n",
       "      <td>And I'll fall on my knees Tell me how's the wa...</td>\n",
       "    </tr>\n",
       "  </tbody>\n",
       "</table>\n",
       "</div>"
      ],
      "text/plain": [
       "                            user_id          artist            title  \\\n",
       "0  9cc0cfd4d7d7885102480dd99e7a90d6  Elvis Costello           Alison   \n",
       "1  9cc0cfd4d7d7885102480dd99e7a90d6          Lissie      All Be Okay   \n",
       "2  9cc0cfd4d7d7885102480dd99e7a90d6          Lissie      Bright Side   \n",
       "3  9cc0cfd4d7d7885102480dd99e7a90d6  Paul McCartney    Dance Tonight   \n",
       "4  9cc0cfd4d7d7885102480dd99e7a90d6          Lissie  Everywhere I Go   \n",
       "\n",
       "    playlist_name                                             lyrics  \n",
       "0  HARD ROCK 2010   Oh, it's so funny to be seeing you after so l...  \n",
       "1  HARD ROCK 2010   I'm gonna break down the walls That keep us f...  \n",
       "2  HARD ROCK 2010  It's just me and my puppy Together we're so ve...  \n",
       "3  HARD ROCK 2010   Everybody gonna dance tonight Everybody gonna...  \n",
       "4  HARD ROCK 2010  And I'll fall on my knees Tell me how's the wa...  "
      ]
     },
     "execution_count": 9,
     "metadata": {},
     "output_type": "execute_result"
    }
   ],
   "source": [
    "df_merged = pd.merge(df_playlists, df_lyrics, on=['title', 'artist'], how='inner')\n",
    "df_merged.head()"
   ]
  },
  {
   "cell_type": "code",
   "execution_count": 56,
   "metadata": {},
   "outputs": [
    {
     "name": "stdout",
     "output_type": "stream",
     "text": [
      "cuda\n"
     ]
    }
   ],
   "source": [
    "from tqdm.notebook import tqdm\n",
    "from transformers import BertTokenizer, BertModel\n",
    "import torch\n",
    "\n",
    "tokenizer = BertTokenizer.from_pretrained('gaunernst/bert-mini-uncased')\n",
    "model = BertModel.from_pretrained('gaunernst/bert-mini-uncased')\n",
    "\n",
    "device = torch.device(\"cuda\" if torch.cuda.is_available() else \"cpu\")\n",
    "print(device)\n",
    "model = model.to(device)\n",
    "\n",
    "def encode_text(batch):\n",
    "    \"\"\"\n",
    "    Encodes a line of text into a vector\n",
    "    \"\"\"\n",
    "\n",
    "    inputs = tokenizer(batch, return_tensors=\"pt\", padding=True, truncation=True, max_length=128)\n",
    "    inputs = {k: v.to(device) for k, v in inputs.items()}\n",
    "\n",
    "    vectors = []\n",
    "    with torch.no_grad():\n",
    "        outputs = model(**inputs)\n",
    "\n",
    "    cls_embeddings = outputs.last_hidden_state[:, 0, :]\n",
    "    vectors.append(cls_embeddings.cpu())\n",
    "\n",
    "    return torch.cat(vectors, dim=0)"
   ]
  },
  {
   "cell_type": "code",
   "execution_count": 11,
   "metadata": {},
   "outputs": [
    {
     "data": {
      "application/vnd.jupyter.widget-view+json": {
       "model_id": "3a7c678325b3478da90c9f3699034182",
       "version_major": 2,
       "version_minor": 0
      },
      "text/plain": [
       "  0%|          | 0/746 [00:00<?, ?it/s]"
      ]
     },
     "metadata": {},
     "output_type": "display_data"
    },
    {
     "name": "stdout",
     "output_type": "stream",
     "text": [
      "[0.6221179366111755, 0.1559619903564453, -0.0999159961938858, -0.18995171785354614, -0.05494416505098343, -1.3493572473526, -1.5225886106491089, 0.09442138671875, -2.9157962799072266, 0.5095318555831909, -0.8919844627380371, -0.4141472280025482, -0.24264544248580933, 0.25625741481781006, 0.8635625243186951, 0.06430843472480774, 0.2854312062263489, -0.2941000163555145, -0.9147794246673584, -0.28013738989830017, -0.14950215816497803, 1.181396722793579, -0.7103758454322815, 0.25682491064071655, -0.14834371209144592, 0.19156259298324585, -0.2443944215774536, 0.2775861918926239, 1.113974928855896, -1.032404899597168, -1.0068572759628296, 1.055361270904541, -0.19889797270298004, 0.5234076976776123, 0.7205423712730408, 0.3091171681880951, -0.15540394186973572, -0.35815632343292236, 0.8608970046043396, 0.43655845522880554, -1.0591851472854614, 0.19230827689170837, 1.478803277015686, 0.10885284841060638, 0.6318399906158447, 0.3918987214565277, 0.6599422693252563, -0.6255181431770325, 0.040192149579524994, 0.9463831782341003, -1.1837997436523438, 1.2605725526809692, -0.23596084117889404, 3.1646478176116943, 0.2414059042930603, -0.9943581819534302, -0.4711783230304718, 0.14848603308200836, -0.8834522366523743, -0.584162712097168, 0.469351202249527, -1.047434687614441, -0.25433453917503357, 1.0205894708633423, 0.12996487319469452, -0.2073335498571396, 0.8554900288581848, -0.36709514260292053, 0.685655951499939, 0.48285648226737976, -0.20930041372776031, -0.29216647148132324, 0.36038583517074585, 0.6154414415359497, 0.6619060039520264, 1.2868072986602783, 0.3739057779312134, 0.3417132794857025, -0.9364033341407776, -1.2042123079299927, 1.778590440750122, -0.47343185544013977, -0.7276822328567505, -0.7067623734474182, -0.3689331114292145, -1.1558395624160767, 1.6509588956832886, -0.20524747669696808, -0.4180905520915985, 1.2918879985809326, 0.2882533669471741, -0.5891939997673035, -0.049421168863773346, 0.5673112869262695, 0.16937080025672913, 0.43185773491859436, 0.20025990903377533, -0.18499855697155, -0.6366522312164307, -0.7536961436271667, 1.0416334867477417, -0.7975743412971497, -0.652221143245697, 1.580645203590393, 0.5582974553108215, -0.8217465281486511, -0.7111476063728333, 0.15790840983390808, 0.5117378830909729, -2.2968242168426514, 0.35630857944488525, 1.1604374647140503, -0.49249279499053955, 0.007034896872937679, 0.8179952502250671, 0.6302337646484375, -0.7272626757621765, -0.9474117755889893, 0.8318086266517639, 0.5271279215812683, -0.3371073603630066, -0.8941442966461182, -2.230806350708008, 0.16398803889751434, -1.4918732643127441, 0.03353995457291603, -0.1913151890039444, 0.45242610573768616, -0.19705112278461456, 0.5204325318336487, 0.2996302843093872, -0.07555277645587921, -0.06257843971252441, -0.08366558700799942, 0.8046604990959167, -0.3695477247238159, -0.3324848711490631, -0.16122813522815704, -1.0256121158599854, -2.206899642944336, 2.152951240539551, -0.14201949536800385, -0.2833438813686371, -0.22434505820274353, -0.017970802262425423, 0.7612444758415222, 0.6431989669799805, 0.33288446068763733, -0.651627242565155, -0.7498628497123718, 0.4059848189353943, -0.09225346893072128, 1.2790164947509766, 1.3148504495620728, 0.9593555927276611, -1.0812554359436035, -0.461897611618042, -0.26203352212905884, 0.3681006133556366, 0.06328645348548889, 0.9092908501625061, -0.058394093066453934, 0.3937605321407318, -1.5933116674423218, 1.5919151306152344, 0.3252291977405548, 0.4257794916629791, -0.7775852084159851, -0.18592393398284912, -0.37780964374542236, 1.1528091430664062, -0.9550047516822815, 4.489687919616699, -0.4260447919368744, -0.3007294535636902, 0.06386414915323257, -0.6973127126693726, -0.8480247855186462, 0.07970211654901505, 1.6214638948440552, 0.0670560821890831, 0.4564174711704254, -0.08454558253288269, 0.1516639143228531, 1.6611425876617432, 0.5725137591362, -0.41953644156455994, -0.9305228590965271, -0.02673693560063839, 0.5358099937438965, -3.353175163269043, -0.2986101806163788, 0.525822103023529, -1.3185597658157349, -0.7621877789497375, -0.1757849007844925, -1.0691757202148438, 0.3548136353492737, -0.21989576518535614, -0.31033819913864136, -1.3268402814865112, 0.466889351606369, -0.4898969829082489, -0.20733106136322021, -0.9598597288131714, 1.4474469423294067, 0.5739291310310364, -0.07387365400791168, -0.6585617065429688, 0.25684618949890137, -0.3134598433971405, 0.19898682832717896, 0.4424850642681122, -0.8284931778907776, -0.48801881074905396, -0.7984173893928528, -0.5098894238471985, -0.8303611874580383, 0.7634446620941162, 0.5740125775337219, -0.17468489706516266, -0.10386127233505249, -0.046321719884872437, -1.0275537967681885, -1.5934667587280273, 0.2431204915046692, 1.0586611032485962, 0.8875720500946045, -0.41361650824546814, -0.1698794960975647, -0.510373592376709, 1.1542396545410156, 0.15222367644309998, -0.24297845363616943, -0.6366345286369324, 0.23930858075618744, -1.2502638101577759, -0.2983853816986084, -0.5365771055221558, 0.5575721263885498, -0.9066154956817627, -0.6906643509864807, -1.595774531364441, -1.8538150787353516, 0.12508979439735413, 0.5307283401489258, 1.4111131429672241, -0.8602294325828552, -0.44114959239959717, 0.2881477177143097, -0.5031861662864685, 2.3502659797668457, -0.19882327318191528, 0.17134465277194977, -0.5710062384605408, -0.24348172545433044, -0.03838131204247475, -0.1939050704240799, -0.11734092235565186, -0.3869650065898895, 0.07866483181715012, -0.8661702871322632, -0.6022367477416992, 0.9732346534729004, -3.4454848766326904, -0.5036149621009827, -0.637214720249176, -0.1426839530467987, 0.395183801651001, -0.05793839320540428, -0.11632037907838821, 0.41917651891708374, -0.5710898041725159, -1.3260122537612915, 0.08254073560237885, -0.5959025621414185, -0.8274630308151245, -0.14929845929145813, 0.22577941417694092, -0.5552634000778198, -0.16328349709510803, 0.8861339688301086, -0.749599814414978, 0.0682205781340599, 1.2875069379806519, 0.044560693204402924, -0.0767533928155899, 0.7562075853347778, 0.9010981321334839, -0.3108993470668793, 0.5349642634391785, -0.04090682417154312, 0.49955418705940247, 0.14967942237854004, 0.41781067848205566, 0.970234215259552, -0.5863589644432068, -0.08031134307384491, 1.9359387159347534, -0.656449019908905, -0.752138078212738, -0.2756114900112152, -0.26679283380508423, -0.2753221392631531, 0.42549315094947815, 0.6738503575325012, -0.20661211013793945, 2.5705254077911377, 0.357718825340271, 2.2273824214935303, 1.6604143381118774, -1.4483388662338257, -0.07263614237308502, -0.36122673749923706, -0.10982229560613632, -0.17199307680130005, 0.41460108757019043, 0.2854727804660797, -0.2822082042694092, 0.11573122441768646, -0.2634824514389038, 0.232381671667099, 0.6144230365753174, -0.553083062171936, -0.5974127650260925, 0.31096822023391724, 1.292149543762207, 0.19700182974338531, 0.9182920455932617, 0.7927210330963135, 0.6571593284606934, 0.6930128335952759, -0.13295967876911163, -0.15287472307682037, -0.1825370043516159, 0.02809719555079937, 0.3247944414615631, -0.9890196323394775, -1.1591012477874756, -0.6621614694595337, -0.05724422261118889, -1.3891512155532837, 1.172245740890503, 0.9520732760429382, 0.31223857402801514, 1.5902446508407593, 0.027684375643730164, -0.7631073594093323, 0.5638134479522705, 0.10278534144163132, -0.5129324197769165, 0.5079761147499084, -0.06627491861581802, -0.9928057193756104, 0.08696962147951126, -0.160633385181427, 1.2194383144378662, -1.1485759019851685, -1.1185219287872314, 0.3206130862236023, 0.6354793310165405, -1.332705020904541, -0.7720088362693787, 0.7811473608016968, 0.6772011518478394, -2.3232154846191406, 0.2603483200073242, 0.28456398844718933, -1.9136898517608643, -0.9276129603385925, 0.7400373220443726, 0.45973217487335205, -0.05898832902312279, 0.23586708307266235, 1.75509774684906, 0.781295657157898, -0.5151180624961853, -1.4011164903640747, -2.4166998863220215, 0.44594576954841614, -0.5681424140930176, 0.0422319695353508, 0.33220964670181274, 0.546166181564331, -1.2515183687210083, 1.0871886014938354, -0.25264719128608704, -0.37942564487457275, -0.08451671898365021, 0.12125634402036667, 1.8697699308395386, -0.6663934588432312, 0.7913076877593994, -0.4975438714027405, -1.2750083208084106, -0.3370136022567749, 1.5570279359817505, 0.6975702047348022, 0.08036614209413528, -0.07623229920864105, 1.0797089338302612, 0.4976053535938263, 1.625572919845581, -0.20705652236938477, 0.6182633638381958, -0.4617350101470947, -0.2881333529949188, 0.22971856594085693, 0.2163974642753601, 0.5557821393013, 0.7176483869552612, -0.9813622832298279, -0.17761734127998352, -0.3044065833091736, 0.37244534492492676, -1.0583109855651855, 1.0384260416030884, -0.6329951882362366, 0.26706811785697937, -1.4648101329803467, 1.5192426443099976, -0.2645987868309021, 1.243281364440918, -1.046578288078308, -0.1491471230983734, -1.0030888319015503, 0.5237424373626709, 0.9177708625793457, 3.2307279109954834, -1.7155548334121704, 0.47555533051490784, 0.9287434816360474, -1.1830908060073853, -0.6621454358100891, -0.843743085861206, 1.8435016870498657, -0.29084116220474243, 0.9531319737434387, -0.15515229105949402, -0.08662987500429153, 0.70053631067276, 0.4862803518772125, -0.7986973524093628, -1.786463975906372, -0.5692481994628906, 0.6788098216056824, -2.612189531326294, 0.3918042480945587, 0.7987868189811707, -0.32355061173439026, 0.06776049733161926, -0.8534613847732544, -0.44971737265586853, 0.21472559869289398, -2.1807944774627686, 0.578141987323761, -0.9127690196037292, 0.4602828919887543, -0.370233416557312, 0.5327926278114319, -0.8941637873649597, 0.3183728754520416, -0.14530225098133087, -0.02179526723921299, 0.4393593966960907, -0.11748622357845306, -0.004008862655609846, -0.7150269150733948, 1.6292390823364258, 0.7540862560272217, 0.3344646990299225, -0.8203178644180298, -0.27130454778671265, -0.6200506091117859, 0.13775639235973358, -0.24280717968940735, 0.037670210003852844, -0.06749807298183441, 0.051674436777830124, -0.6132554411888123, -0.6665970683097839, 0.12182047218084335, 0.2976101040840149, 0.19845344126224518, 0.30726999044418335, -0.8923458456993103, -0.7661329507827759, 0.05655943602323532, 0.6386946439743042, 0.24584415555000305, -1.267133355140686, 0.3956293761730194, -0.9112895727157593, -0.5530347228050232, -1.7073657512664795, 0.5805437564849854, -0.6348317861557007, -0.35828521847724915, -1.7704819440841675, -0.1617162823677063, 0.36773979663848877, -0.008910358883440495, 1.1090497970581055, -0.7827808260917664, -0.20440904796123505, -0.2837006747722626, -1.364832878112793, 1.8639793395996094, -0.3720610737800598, 0.08951561897993088, 0.1255999356508255, -0.8335995078086853]\n"
     ]
    }
   ],
   "source": [
    "sampled_df = df_merged.sample(frac = 0.01)\n",
    "\n",
    "playlist_names = sampled_df['playlist_name'].values\n",
    "titles = sampled_df['title'].values\n",
    "lyrics = sampled_df['lyrics'].values\n",
    "\n",
    "pos_title_vectors = []\n",
    "pos_lyrics_vectors = []\n",
    "pos_vectors = []\n",
    "\n",
    "batch_size = 64\n",
    "for i in tqdm(range(0, len(sampled_df), batch_size)):\n",
    "    playlist_vecs = encode_text(list(playlist_names[i:i+batch_size]))\n",
    "    title_vecs = encode_text(list(titles[i:i+batch_size]))\n",
    "    # lyrics_vecs = encode_text(list(lyrics[i:i+batch_size]))\n",
    "    for j in range(len(playlist_vecs)):\n",
    "        pos_vectors.append(playlist_vecs[j].tolist() + title_vecs[j].tolist())# + lyrics_vecs[j].tolist())\n",
    "\n",
    "print(pos_vectors[0])"
   ]
  },
  {
   "cell_type": "code",
   "execution_count": 14,
   "metadata": {},
   "outputs": [],
   "source": [
    "def get_negative_examples(df, current_playlist, n=1):\n",
    "    \"\"\"\n",
    "    Returns n negative examples (rows) where playlist_name != current_playlist\n",
    "    \"\"\"\n",
    "    samples = df.sample(n=n)\n",
    "    while (current_playlist in samples['playlist_name']):\n",
    "        samples = df.sample(n=n)\n",
    "    return samples"
   ]
  },
  {
   "cell_type": "code",
   "execution_count": 16,
   "metadata": {},
   "outputs": [
    {
     "data": {
      "application/vnd.jupyter.widget-view+json": {
       "model_id": "cf71355ac1374ea2abbd681730891730",
       "version_major": 2,
       "version_minor": 0
      },
      "text/plain": [
       "  0%|          | 0/47704 [00:00<?, ?it/s]"
      ]
     },
     "metadata": {},
     "output_type": "display_data"
    }
   ],
   "source": [
    "neg_sample_titles = []\n",
    "neg_sample_lyrics = []\n",
    "neg_sample_playlists = []\n",
    "\n",
    "for i in tqdm(range(len(sampled_df))):\n",
    "    row = sampled_df.iloc[i]\n",
    "    current_playlist = row['playlist_name']\n",
    "    samples = get_negative_examples(sampled_df, current_playlist)\n",
    "\n",
    "    sample_titles = list(samples['title'])\n",
    "    sample_lyrics = list(samples['lyrics'])\n",
    "\n",
    "    for j in range(len(samples)):\n",
    "        neg_sample_titles.append(sample_titles[j])\n",
    "        neg_sample_lyrics.append(sample_lyrics[j])\n",
    "        neg_sample_playlists.append(current_playlist)"
   ]
  },
  {
   "cell_type": "code",
   "execution_count": 17,
   "metadata": {},
   "outputs": [
    {
     "data": {
      "application/vnd.jupyter.widget-view+json": {
       "model_id": "30ea50522dc24b9ba1eea0fad8b405ba",
       "version_major": 2,
       "version_minor": 0
      },
      "text/plain": [
       "  0%|          | 0/746 [00:00<?, ?it/s]"
      ]
     },
     "metadata": {},
     "output_type": "display_data"
    }
   ],
   "source": [
    "neg_title_vectors = []\n",
    "neg_lyric_vectors = []\n",
    "neg_vectors = []\n",
    "for i in tqdm(range(0, len(neg_sample_titles), batch_size)):\n",
    "    playlist_vecs = encode_text(list(neg_sample_playlists[i:i+batch_size]))\n",
    "    title_vecs = encode_text(list(neg_sample_titles[i:i+batch_size]))\n",
    "    #lyric_vecs = encode_text(list(neg_sample_lyrics[i:i+batch_size]))\n",
    "    for j in range(len(playlist_vecs)):\n",
    "        neg_vectors.append(playlist_vecs[j].tolist() + title_vecs[j].tolist())# + lyric_vecs[j].tolist())"
   ]
  },
  {
   "cell_type": "code",
   "execution_count": 24,
   "metadata": {},
   "outputs": [],
   "source": [
    "X = pos_vectors + neg_vectors\n",
    "y = ([1] * len(pos_vectors)) + ([0] * len(neg_vectors))\n",
    "\n",
    "from sklearn.model_selection import train_test_split\n",
    "X_train, X_test, y_train, y_test = train_test_split(X, y, test_size=0.2)"
   ]
  },
  {
   "cell_type": "code",
   "execution_count": 25,
   "metadata": {},
   "outputs": [
    {
     "name": "stdout",
     "output_type": "stream",
     "text": [
      "0.4708625930195996\n",
      "9249\n",
      "19082\n"
     ]
    }
   ],
   "source": [
    "from sklearn.linear_model import LogisticRegression\n",
    "from sklearn.metrics import accuracy_score\n",
    "\n",
    "title_model = LogisticRegression(max_iter=10000)\n",
    "title_model.fit(X_train, y_train)\n",
    "\n",
    "y_pred = title_model.predict(X_test)\n",
    "accuracy = accuracy_score(y_test, y_pred)\n",
    "print(accuracy)\n",
    "print(sum(y_pred))\n",
    "print(len(y_pred))"
   ]
  },
  {
   "cell_type": "code",
   "execution_count": 26,
   "metadata": {},
   "outputs": [],
   "source": [
    "import tensorflow as tf\n",
    "from tensorflow import keras\n",
    "from tensorflow.keras.layers import Dense"
   ]
  },
  {
   "cell_type": "code",
   "execution_count": 27,
   "metadata": {},
   "outputs": [
    {
     "name": "stderr",
     "output_type": "stream",
     "text": [
      "C:\\Users\\Joseph\\AppData\\Local\\Packages\\PythonSoftwareFoundation.Python.3.12_qbz5n2kfra8p0\\LocalCache\\local-packages\\Python312\\site-packages\\keras\\src\\layers\\core\\dense.py:87: UserWarning: Do not pass an `input_shape`/`input_dim` argument to a layer. When using Sequential models, prefer using an `Input(shape)` object as the first layer in the model instead.\n",
      "  super().__init__(activity_regularizer=activity_regularizer, **kwargs)\n"
     ]
    },
    {
     "name": "stdout",
     "output_type": "stream",
     "text": [
      "compiling\n",
      "fitting\n"
     ]
    },
    {
     "ename": "KeyboardInterrupt",
     "evalue": "",
     "output_type": "error",
     "traceback": [
      "\u001b[1;31m---------------------------------------------------------------------------\u001b[0m",
      "\u001b[1;31mKeyboardInterrupt\u001b[0m                         Traceback (most recent call last)",
      "Cell \u001b[1;32mIn[27], line 10\u001b[0m\n\u001b[0;32m      7\u001b[0m model\u001b[38;5;241m.\u001b[39mcompile(optimizer\u001b[38;5;241m=\u001b[39m\u001b[38;5;124m'\u001b[39m\u001b[38;5;124madam\u001b[39m\u001b[38;5;124m'\u001b[39m, loss\u001b[38;5;241m=\u001b[39m\u001b[38;5;124m'\u001b[39m\u001b[38;5;124mbinary_crossentropy\u001b[39m\u001b[38;5;124m'\u001b[39m, metrics\u001b[38;5;241m=\u001b[39m[\u001b[38;5;124m'\u001b[39m\u001b[38;5;124maccuracy\u001b[39m\u001b[38;5;124m'\u001b[39m])\n\u001b[0;32m      9\u001b[0m \u001b[38;5;28mprint\u001b[39m(\u001b[38;5;124m'\u001b[39m\u001b[38;5;124mfitting\u001b[39m\u001b[38;5;124m'\u001b[39m)\n\u001b[1;32m---> 10\u001b[0m \u001b[43mmodel\u001b[49m\u001b[38;5;241;43m.\u001b[39;49m\u001b[43mfit\u001b[49m\u001b[43m(\u001b[49m\u001b[43mX_train\u001b[49m\u001b[43m,\u001b[49m\u001b[43m \u001b[49m\u001b[43my_train\u001b[49m\u001b[43m,\u001b[49m\u001b[43m \u001b[49m\u001b[43mepochs\u001b[49m\u001b[38;5;241;43m=\u001b[39;49m\u001b[38;5;241;43m2\u001b[39;49m\u001b[43m,\u001b[49m\u001b[43m \u001b[49m\u001b[43mverbose\u001b[49m\u001b[38;5;241;43m=\u001b[39;49m\u001b[38;5;241;43m1\u001b[39;49m\u001b[43m,\u001b[49m\u001b[43m \u001b[49m\u001b[43mbatch_size\u001b[49m\u001b[38;5;241;43m=\u001b[39;49m\u001b[38;5;241;43m32\u001b[39;49m\u001b[43m)\u001b[49m\n\u001b[0;32m     12\u001b[0m predictions \u001b[38;5;241m=\u001b[39m model\u001b[38;5;241m.\u001b[39mpredict(X_test)\n\u001b[0;32m     14\u001b[0m loss, accuracy \u001b[38;5;241m=\u001b[39m model\u001b[38;5;241m.\u001b[39mevaluate(X_test, y_test)\n",
      "File \u001b[1;32m~\\AppData\\Local\\Packages\\PythonSoftwareFoundation.Python.3.12_qbz5n2kfra8p0\\LocalCache\\local-packages\\Python312\\site-packages\\keras\\src\\utils\\traceback_utils.py:117\u001b[0m, in \u001b[0;36mfilter_traceback.<locals>.error_handler\u001b[1;34m(*args, **kwargs)\u001b[0m\n\u001b[0;32m    115\u001b[0m filtered_tb \u001b[38;5;241m=\u001b[39m \u001b[38;5;28;01mNone\u001b[39;00m\n\u001b[0;32m    116\u001b[0m \u001b[38;5;28;01mtry\u001b[39;00m:\n\u001b[1;32m--> 117\u001b[0m     \u001b[38;5;28;01mreturn\u001b[39;00m \u001b[43mfn\u001b[49m\u001b[43m(\u001b[49m\u001b[38;5;241;43m*\u001b[39;49m\u001b[43margs\u001b[49m\u001b[43m,\u001b[49m\u001b[43m \u001b[49m\u001b[38;5;241;43m*\u001b[39;49m\u001b[38;5;241;43m*\u001b[39;49m\u001b[43mkwargs\u001b[49m\u001b[43m)\u001b[49m\n\u001b[0;32m    118\u001b[0m \u001b[38;5;28;01mexcept\u001b[39;00m \u001b[38;5;167;01mException\u001b[39;00m \u001b[38;5;28;01mas\u001b[39;00m e:\n\u001b[0;32m    119\u001b[0m     filtered_tb \u001b[38;5;241m=\u001b[39m _process_traceback_frames(e\u001b[38;5;241m.\u001b[39m__traceback__)\n",
      "File \u001b[1;32m~\\AppData\\Local\\Packages\\PythonSoftwareFoundation.Python.3.12_qbz5n2kfra8p0\\LocalCache\\local-packages\\Python312\\site-packages\\keras\\src\\backend\\tensorflow\\trainer.py:282\u001b[0m, in \u001b[0;36mTensorFlowTrainer.fit\u001b[1;34m(self, x, y, batch_size, epochs, verbose, callbacks, validation_split, validation_data, shuffle, class_weight, sample_weight, initial_epoch, steps_per_epoch, validation_steps, validation_batch_size, validation_freq)\u001b[0m\n\u001b[0;32m    275\u001b[0m     (\n\u001b[0;32m    276\u001b[0m         val_x,\n\u001b[0;32m    277\u001b[0m         val_y,\n\u001b[0;32m    278\u001b[0m         val_sample_weight,\n\u001b[0;32m    279\u001b[0m     ) \u001b[38;5;241m=\u001b[39m data_adapter_utils\u001b[38;5;241m.\u001b[39munpack_x_y_sample_weight(validation_data)\n\u001b[0;32m    281\u001b[0m \u001b[38;5;66;03m# Create an iterator that yields batches for one epoch.\u001b[39;00m\n\u001b[1;32m--> 282\u001b[0m epoch_iterator \u001b[38;5;241m=\u001b[39m \u001b[43mTFEpochIterator\u001b[49m\u001b[43m(\u001b[49m\n\u001b[0;32m    283\u001b[0m \u001b[43m    \u001b[49m\u001b[43mx\u001b[49m\u001b[38;5;241;43m=\u001b[39;49m\u001b[43mx\u001b[49m\u001b[43m,\u001b[49m\n\u001b[0;32m    284\u001b[0m \u001b[43m    \u001b[49m\u001b[43my\u001b[49m\u001b[38;5;241;43m=\u001b[39;49m\u001b[43my\u001b[49m\u001b[43m,\u001b[49m\n\u001b[0;32m    285\u001b[0m \u001b[43m    \u001b[49m\u001b[43msample_weight\u001b[49m\u001b[38;5;241;43m=\u001b[39;49m\u001b[43msample_weight\u001b[49m\u001b[43m,\u001b[49m\n\u001b[0;32m    286\u001b[0m \u001b[43m    \u001b[49m\u001b[43mbatch_size\u001b[49m\u001b[38;5;241;43m=\u001b[39;49m\u001b[43mbatch_size\u001b[49m\u001b[43m,\u001b[49m\n\u001b[0;32m    287\u001b[0m \u001b[43m    \u001b[49m\u001b[43msteps_per_epoch\u001b[49m\u001b[38;5;241;43m=\u001b[39;49m\u001b[43msteps_per_epoch\u001b[49m\u001b[43m,\u001b[49m\n\u001b[0;32m    288\u001b[0m \u001b[43m    \u001b[49m\u001b[43mshuffle\u001b[49m\u001b[38;5;241;43m=\u001b[39;49m\u001b[43mshuffle\u001b[49m\u001b[43m,\u001b[49m\n\u001b[0;32m    289\u001b[0m \u001b[43m    \u001b[49m\u001b[43mclass_weight\u001b[49m\u001b[38;5;241;43m=\u001b[39;49m\u001b[43mclass_weight\u001b[49m\u001b[43m,\u001b[49m\n\u001b[0;32m    290\u001b[0m \u001b[43m    \u001b[49m\u001b[43mdistribute_strategy\u001b[49m\u001b[38;5;241;43m=\u001b[39;49m\u001b[38;5;28;43mself\u001b[39;49m\u001b[38;5;241;43m.\u001b[39;49m\u001b[43mdistribute_strategy\u001b[49m\u001b[43m,\u001b[49m\n\u001b[0;32m    291\u001b[0m \u001b[43m    \u001b[49m\u001b[43msteps_per_execution\u001b[49m\u001b[38;5;241;43m=\u001b[39;49m\u001b[38;5;28;43mself\u001b[39;49m\u001b[38;5;241;43m.\u001b[39;49m\u001b[43msteps_per_execution\u001b[49m\u001b[43m,\u001b[49m\n\u001b[0;32m    292\u001b[0m \u001b[43m\u001b[49m\u001b[43m)\u001b[49m\n\u001b[0;32m    294\u001b[0m \u001b[38;5;28mself\u001b[39m\u001b[38;5;241m.\u001b[39m_maybe_symbolic_build(iterator\u001b[38;5;241m=\u001b[39mepoch_iterator)\n\u001b[0;32m    296\u001b[0m \u001b[38;5;66;03m# Container that configures and calls callbacks.\u001b[39;00m\n",
      "File \u001b[1;32m~\\AppData\\Local\\Packages\\PythonSoftwareFoundation.Python.3.12_qbz5n2kfra8p0\\LocalCache\\local-packages\\Python312\\site-packages\\keras\\src\\backend\\tensorflow\\trainer.py:664\u001b[0m, in \u001b[0;36mTFEpochIterator.__init__\u001b[1;34m(self, distribute_strategy, *args, **kwargs)\u001b[0m\n\u001b[0;32m    663\u001b[0m \u001b[38;5;28;01mdef\u001b[39;00m \u001b[38;5;21m__init__\u001b[39m(\u001b[38;5;28mself\u001b[39m, distribute_strategy\u001b[38;5;241m=\u001b[39m\u001b[38;5;28;01mNone\u001b[39;00m, \u001b[38;5;241m*\u001b[39margs, \u001b[38;5;241m*\u001b[39m\u001b[38;5;241m*\u001b[39mkwargs):\n\u001b[1;32m--> 664\u001b[0m     \u001b[38;5;28;43msuper\u001b[39;49m\u001b[43m(\u001b[49m\u001b[43m)\u001b[49m\u001b[38;5;241;43m.\u001b[39;49m\u001b[38;5;21;43m__init__\u001b[39;49m\u001b[43m(\u001b[49m\u001b[38;5;241;43m*\u001b[39;49m\u001b[43margs\u001b[49m\u001b[43m,\u001b[49m\u001b[43m \u001b[49m\u001b[38;5;241;43m*\u001b[39;49m\u001b[38;5;241;43m*\u001b[39;49m\u001b[43mkwargs\u001b[49m\u001b[43m)\u001b[49m\n\u001b[0;32m    665\u001b[0m     \u001b[38;5;28mself\u001b[39m\u001b[38;5;241m.\u001b[39m_distribute_strategy \u001b[38;5;241m=\u001b[39m distribute_strategy\n\u001b[0;32m    666\u001b[0m     dataset \u001b[38;5;241m=\u001b[39m \u001b[38;5;28mself\u001b[39m\u001b[38;5;241m.\u001b[39m_get_iterator()\n",
      "File \u001b[1;32m~\\AppData\\Local\\Packages\\PythonSoftwareFoundation.Python.3.12_qbz5n2kfra8p0\\LocalCache\\local-packages\\Python312\\site-packages\\keras\\src\\trainers\\epoch_iterator.py:64\u001b[0m, in \u001b[0;36mEpochIterator.__init__\u001b[1;34m(self, x, y, sample_weight, batch_size, steps_per_epoch, shuffle, class_weight, steps_per_execution)\u001b[0m\n\u001b[0;32m     62\u001b[0m     \u001b[38;5;28mself\u001b[39m\u001b[38;5;241m.\u001b[39m_current_iterator \u001b[38;5;241m=\u001b[39m \u001b[38;5;28;01mNone\u001b[39;00m\n\u001b[0;32m     63\u001b[0m     \u001b[38;5;28mself\u001b[39m\u001b[38;5;241m.\u001b[39m_insufficient_data \u001b[38;5;241m=\u001b[39m \u001b[38;5;28;01mFalse\u001b[39;00m\n\u001b[1;32m---> 64\u001b[0m \u001b[38;5;28mself\u001b[39m\u001b[38;5;241m.\u001b[39mdata_adapter \u001b[38;5;241m=\u001b[39m \u001b[43mdata_adapters\u001b[49m\u001b[38;5;241;43m.\u001b[39;49m\u001b[43mget_data_adapter\u001b[49m\u001b[43m(\u001b[49m\n\u001b[0;32m     65\u001b[0m \u001b[43m    \u001b[49m\u001b[43mx\u001b[49m\u001b[38;5;241;43m=\u001b[39;49m\u001b[43mx\u001b[49m\u001b[43m,\u001b[49m\n\u001b[0;32m     66\u001b[0m \u001b[43m    \u001b[49m\u001b[43my\u001b[49m\u001b[38;5;241;43m=\u001b[39;49m\u001b[43my\u001b[49m\u001b[43m,\u001b[49m\n\u001b[0;32m     67\u001b[0m \u001b[43m    \u001b[49m\u001b[43msample_weight\u001b[49m\u001b[38;5;241;43m=\u001b[39;49m\u001b[43msample_weight\u001b[49m\u001b[43m,\u001b[49m\n\u001b[0;32m     68\u001b[0m \u001b[43m    \u001b[49m\u001b[43mbatch_size\u001b[49m\u001b[38;5;241;43m=\u001b[39;49m\u001b[43mbatch_size\u001b[49m\u001b[43m,\u001b[49m\n\u001b[0;32m     69\u001b[0m \u001b[43m    \u001b[49m\u001b[43msteps_per_epoch\u001b[49m\u001b[38;5;241;43m=\u001b[39;49m\u001b[43msteps_per_epoch\u001b[49m\u001b[43m,\u001b[49m\n\u001b[0;32m     70\u001b[0m \u001b[43m    \u001b[49m\u001b[43mshuffle\u001b[49m\u001b[38;5;241;43m=\u001b[39;49m\u001b[43mshuffle\u001b[49m\u001b[43m,\u001b[49m\n\u001b[0;32m     71\u001b[0m \u001b[43m    \u001b[49m\u001b[43mclass_weight\u001b[49m\u001b[38;5;241;43m=\u001b[39;49m\u001b[43mclass_weight\u001b[49m\u001b[43m,\u001b[49m\n\u001b[0;32m     72\u001b[0m \u001b[43m\u001b[49m\u001b[43m)\u001b[49m\n\u001b[0;32m     73\u001b[0m \u001b[38;5;28mself\u001b[39m\u001b[38;5;241m.\u001b[39m_num_batches \u001b[38;5;241m=\u001b[39m \u001b[38;5;28mself\u001b[39m\u001b[38;5;241m.\u001b[39mdata_adapter\u001b[38;5;241m.\u001b[39mnum_batches\n",
      "File \u001b[1;32m~\\AppData\\Local\\Packages\\PythonSoftwareFoundation.Python.3.12_qbz5n2kfra8p0\\LocalCache\\local-packages\\Python312\\site-packages\\keras\\src\\trainers\\data_adapters\\__init__.py:120\u001b[0m, in \u001b[0;36mget_data_adapter\u001b[1;34m(x, y, sample_weight, batch_size, steps_per_epoch, shuffle, class_weight)\u001b[0m\n\u001b[0;32m    112\u001b[0m     \u001b[38;5;28;01mreturn\u001b[39;00m GeneratorDataAdapter(x)\n\u001b[0;32m    113\u001b[0m     \u001b[38;5;66;03m# TODO: should we warn or not?\u001b[39;00m\n\u001b[0;32m    114\u001b[0m     \u001b[38;5;66;03m# warnings.warn(\u001b[39;00m\n\u001b[0;32m    115\u001b[0m     \u001b[38;5;66;03m#     \"`shuffle=True` was passed, but will be ignored since the \"\u001b[39;00m\n\u001b[1;32m   (...)\u001b[0m\n\u001b[0;32m    118\u001b[0m     \u001b[38;5;66;03m# )\u001b[39;00m\n\u001b[0;32m    119\u001b[0m \u001b[38;5;28;01melse\u001b[39;00m:\n\u001b[1;32m--> 120\u001b[0m     \u001b[38;5;28;01mraise\u001b[39;00m \u001b[38;5;167;01mValueError\u001b[39;00m(\u001b[38;5;124mf\u001b[39m\u001b[38;5;124m\"\u001b[39m\u001b[38;5;124mUnrecognized data type: x=\u001b[39m\u001b[38;5;132;01m{\u001b[39;00mx\u001b[38;5;132;01m}\u001b[39;00m\u001b[38;5;124m (of type \u001b[39m\u001b[38;5;132;43;01m{\u001b[39;49;00m\u001b[38;5;28;43mtype\u001b[39;49m\u001b[43m(\u001b[49m\u001b[43mx\u001b[49m\u001b[43m)\u001b[49m\u001b[38;5;132;43;01m}\u001b[39;49;00m\u001b[38;5;124m)\u001b[39m\u001b[38;5;124m\"\u001b[39m)\n",
      "\u001b[1;31mKeyboardInterrupt\u001b[0m: "
     ]
    }
   ],
   "source": [
    "model = keras.Sequential([\n",
    "    Dense(2, activation='relu', input_shape=(512,)), # Input layer with 128 neurons and ReLU activation\n",
    "    Dense(1, activation='sigmoid')  # Output layer with softmax for classification\n",
    "])\n",
    "\n",
    "print('compiling')\n",
    "model.compile(optimizer='adam', loss='binary_crossentropy', metrics=['accuracy'])\n",
    "\n",
    "print('fitting')\n",
    "model.fit(X_train, y_train, epochs=2, verbose=1, batch_size=32)\n",
    "\n",
    "predictions = model.predict(X_test)\n",
    "\n",
    "loss, accuracy = model.evaluate(X_test, y_test)\n",
    "print(f\"Loss: {loss:.4f}\")\n",
    "print(f\"Accuracy: {accuracy:.4f}\")\n",
    "\n",
    "binary_predictions = (predictions > 0.5).astype(int)\n",
    "accuracy = accuracy_score(binary_predictions, y_pred)\n",
    "print(accuracy)"
   ]
  },
  {
   "cell_type": "code",
   "execution_count": 28,
   "metadata": {},
   "outputs": [
    {
     "data": {
      "text/plain": [
       "['logistic_regression_model_joblib.pkl']"
      ]
     },
     "execution_count": 28,
     "metadata": {},
     "output_type": "execute_result"
    }
   ],
   "source": [
    "import joblib\n",
    "filename = 'logistic_regression_model_joblib.pkl'\n",
    "joblib.dump(model, filename)"
   ]
  },
  {
   "cell_type": "markdown",
   "metadata": {},
   "source": [
    "## Cosine Similarity way"
   ]
  },
  {
   "cell_type": "code",
   "execution_count": 29,
   "metadata": {},
   "outputs": [
    {
     "name": "stderr",
     "output_type": "stream",
     "text": [
      "[nltk_data] Downloading package punkt to\n",
      "[nltk_data]     C:\\Users\\Joseph\\AppData\\Roaming\\nltk_data...\n",
      "[nltk_data]   Package punkt is already up-to-date!\n"
     ]
    },
    {
     "data": {
      "text/plain": [
       "True"
      ]
     },
     "execution_count": 29,
     "metadata": {},
     "output_type": "execute_result"
    }
   ],
   "source": [
    "from gensim.models import Word2Vec\n",
    "from nltk.tokenize import word_tokenize\n",
    "from sklearn.metrics.pairwise import cosine_similarity\n",
    "import nltk\n",
    "import numpy as np\n",
    "\n",
    "# Download tokenizer if not done already\n",
    "nltk.download('punkt')"
   ]
  },
  {
   "cell_type": "code",
   "execution_count": 30,
   "metadata": {},
   "outputs": [],
   "source": [
    "# Deduplicate for training\n",
    "unique_playlists = df_merged['playlist_name'].dropna().drop_duplicates()"
   ]
  },
  {
   "cell_type": "code",
   "execution_count": 31,
   "metadata": {},
   "outputs": [],
   "source": [
    "# Tokenize unique playlist titles\n",
    "tokenized_playlists = [word_tokenize(title.lower()) for title in unique_playlists]"
   ]
  },
  {
   "cell_type": "code",
   "execution_count": 32,
   "metadata": {},
   "outputs": [],
   "source": [
    "w2v = Word2Vec(sentences=tokenized_playlists, vector_size=100, min_count=1, window=5, workers=4)"
   ]
  },
  {
   "cell_type": "code",
   "execution_count": 33,
   "metadata": {},
   "outputs": [],
   "source": [
    "def get_avg_vector(tokens, model):\n",
    "    vectors = [model.wv[token] for token in tokens if token in model.wv]\n",
    "    if not vectors:\n",
    "        return np.zeros(model.vector_size)\n",
    "    return np.mean(vectors, axis=0)\n",
    "    "
   ]
  },
  {
   "cell_type": "code",
   "execution_count": 34,
   "metadata": {},
   "outputs": [
    {
     "data": {
      "text/plain": [
       "array([-0.5234494 ,  0.64355826,  0.02636933,  0.37991285,  0.6501976 ,\n",
       "       -1.6298294 ,  0.14230575,  1.8487517 , -0.902862  , -0.65073663,\n",
       "       -0.26667398, -1.9376837 , -0.25658116,  0.69909835,  0.3144016 ,\n",
       "       -0.7736651 ,  0.47572982, -0.10156021, -0.32301176, -1.5575962 ,\n",
       "        1.279217  ,  0.36618954,  0.5707018 , -0.8233291 ,  0.3548858 ,\n",
       "       -0.15026505, -0.98910195,  0.16739424, -0.33454823, -0.29526678,\n",
       "        0.48546708,  0.00445797,  0.1328669 , -0.7900886 , -0.5289084 ,\n",
       "        1.4921468 ,  0.7211741 ,  0.3939488 , -0.66215086, -0.2959023 ,\n",
       "        0.06076444, -0.95169365, -0.09683402,  0.26281422, -0.03049245,\n",
       "       -0.07783057, -0.5591881 ,  0.5622478 ,  0.56233674,  0.8041507 ,\n",
       "        0.47017905, -1.1458592 , -0.33654067, -0.3816585 ,  0.59345365,\n",
       "        0.23812923,  0.989583  , -0.16221492, -0.7135481 ,  0.3782798 ,\n",
       "       -0.60050106, -0.2017516 ,  0.764869  , -0.04847962, -0.3460202 ,\n",
       "        1.1983538 ,  0.5233567 ,  1.4562445 , -0.4536441 ,  0.7743616 ,\n",
       "        0.3623374 , -0.8369595 ,  0.94659907,  0.18250485,  0.39756924,\n",
       "        0.2699123 , -0.00595186,  0.20158777, -0.45449954, -0.6335469 ,\n",
       "       -1.8604684 ,  0.58019656, -0.7916188 ,  0.5846533 ,  0.7603153 ,\n",
       "        0.10616389,  1.4060795 ,  0.32300162,  1.3335097 ,  0.34706986,\n",
       "        0.731671  ,  0.3762565 ,  0.31244743, -0.10813037,  1.5933588 ,\n",
       "        1.0239284 , -0.29098615, -0.35195488, -0.42067963,  0.17627501],\n",
       "      dtype=float32)"
      ]
     },
     "execution_count": 34,
     "metadata": {},
     "output_type": "execute_result"
    }
   ],
   "source": [
    "query = \"Chill songs\"\n",
    "query_tokens = word_tokenize(query.lower())\n",
    "query_vec = get_avg_vector(query_tokens, w2v)\n",
    "query_vec"
   ]
  },
  {
   "cell_type": "code",
   "execution_count": 35,
   "metadata": {},
   "outputs": [],
   "source": [
    "tokenized_all = [\n",
    "    word_tokenize(str(title).lower()) if pd.notna(title) else []\n",
    "    for title in df_merged['playlist_name']\n",
    "]\n",
    "\n",
    "#playlist_vecs = [get_avg_vector(tokens, w2v) for tokens in tokenized_all]"
   ]
  },
  {
   "cell_type": "code",
   "execution_count": 54,
   "metadata": {},
   "outputs": [],
   "source": [
    "\n",
    "def get_cosine_similarity_song(query):\n",
    "    query_tokens = word_tokenize(query.lower())\n",
    "    query_vec = get_avg_vector(query_tokens, w2v)\n",
    "    \n",
    "    # Cosine similarity\n",
    "    similarities = cosine_similarity([query_vec], playlist_vecs).flatten()\n",
    "\n",
    "    # Sort with argsort\n",
    "    sorted_indices = similarities.argsort()[::-1]\n",
    "    df_sorted = df_merged.iloc[sorted_indices].copy()\n",
    "    df_sorted['similarity'] = similarities[sorted_indices]\n",
    "\n",
    "    return df_sorted[:5]\n",
    "\n",
    "def get_top_cosine_similarity_for_tracks(lyrics_list, playlist_name):\n",
    "    name_tokens = word_tokenize(playlist_name)\n",
    "    name_vec = get_avg_vector(name_tokens, w2v)\n",
    "\n",
    "    results = []\n",
    "    for lyrics in lyrics_list:\n",
    "        lyrics_tokens = word_tokenize(lyrics)\n",
    "        lyrics_vec = get_avg_vector(lyrics_tokens, w2v)\n",
    "        lyrics_sim = cosine_similarity([name_vec], [lyrics_vec])[0][0]\n",
    "        results.append(lyrics_sim)\n",
    "\n",
    "    return results\n",
    "\n",
    "def get_top_cosine_similarity_for_tracks_bert(lyrics_list, playlist_name):\n",
    "    name_vec = encode_text([playlist_name])\n",
    "\n",
    "    results = []\n",
    "    for lyrics in lyrics_list:\n",
    "        lyrics_vec = encode_text([lyrics])\n",
    "        lyrics_sim = cosine_similarity(name_vec, lyrics_vec)[0][0]\n",
    "        results.append(lyrics_sim)\n",
    "\n",
    "    return results"
   ]
  },
  {
   "cell_type": "code",
   "execution_count": 67,
   "metadata": {},
   "outputs": [
    {
     "data": {
      "application/vnd.jupyter.widget-view+json": {
       "model_id": "da0958057bc64b23a5a65de4eb58d9e6",
       "version_major": 2,
       "version_minor": 0
      },
      "text/plain": [
       "  0%|          | 0/200 [00:00<?, ?it/s]"
      ]
     },
     "metadata": {},
     "output_type": "display_data"
    },
    {
     "name": "stdout",
     "output_type": "stream",
     "text": [
      "0.5606976067885431\n",
      "0.29667158105184466\n"
     ]
    }
   ],
   "source": [
    "import random\n",
    "\n",
    "unique_users = df_merged['user_id'].unique()\n",
    "random_user = random.choice(unique_users)\n",
    "scores = []\n",
    "baselines = []\n",
    "for user in tqdm(random.sample(list(unique_users), 200)):\n",
    "    user_rows = df_merged[df_merged['user_id'] == user]\n",
    "    if len(user_rows['playlist_name'].unique()) > 1:\n",
    "        first_name = user_rows['playlist_name'].values[random.randint(0, len(user_rows) - 1)]\n",
    "        in_playlist = user_rows[user_rows['playlist_name'] == first_name]\n",
    "        out_playlist = user_rows[\n",
    "                            (user_rows['playlist_name'] != first_name) &\n",
    "                            (~user_rows['title'].isin(in_playlist['title']))\n",
    "                        ]\n",
    "        full_list = list(in_playlist['lyrics'].values) + list(out_playlist['lyrics'].values)\n",
    "        results = get_top_cosine_similarity_for_tracks(full_list, first_name)\n",
    "        zipped = list(zip(in_playlist['title'], results[0:len(in_playlist)]))\n",
    "        zipped_2 = list(zip(out_playlist['title'], results[len(in_playlist):]))\n",
    "        sort_zipped = sorted(zipped + zipped_2, key=lambda x: x[1])\n",
    "        #sort_zipped.reverse()\n",
    "        titles = [item[0] for item in sort_zipped[0:len(in_playlist)]]\n",
    "        same = set(titles).intersection(set(in_playlist['title']))\n",
    "        scores.append(len(same)/float(len(in_playlist)))\n",
    "        baselines.append(len(in_playlist)/float(len(in_playlist) + len(out_playlist)))\n",
    "print(np.mean(scores))\n",
    "print(np.mean(baselines))"
   ]
  },
  {
   "cell_type": "code",
   "execution_count": 66,
   "metadata": {},
   "outputs": [
    {
     "ename": "MemoryError",
     "evalue": "Unable to allocate 3.55 GiB for an array with shape (4770458, 100) and data type float64",
     "output_type": "error",
     "traceback": [
      "\u001b[1;31m---------------------------------------------------------------------------\u001b[0m",
      "\u001b[1;31mMemoryError\u001b[0m                               Traceback (most recent call last)",
      "Cell \u001b[1;32mIn[66], line 1\u001b[0m\n\u001b[1;32m----> 1\u001b[0m \u001b[43mget_cosine_similarity_song\u001b[49m\u001b[43m(\u001b[49m\u001b[38;5;124;43m\"\u001b[39;49m\u001b[38;5;124;43mLove story\u001b[39;49m\u001b[38;5;124;43m\"\u001b[39;49m\u001b[43m)\u001b[49m\n",
      "Cell \u001b[1;32mIn[65], line 6\u001b[0m, in \u001b[0;36mget_cosine_similarity_song\u001b[1;34m(query)\u001b[0m\n\u001b[0;32m      3\u001b[0m query_vec \u001b[38;5;241m=\u001b[39m get_avg_vector(query_tokens, w2v)\n\u001b[0;32m      5\u001b[0m \u001b[38;5;66;03m# Cosine similarity\u001b[39;00m\n\u001b[1;32m----> 6\u001b[0m similarities \u001b[38;5;241m=\u001b[39m \u001b[43mcosine_similarity\u001b[49m\u001b[43m(\u001b[49m\u001b[43m[\u001b[49m\u001b[43mquery_vec\u001b[49m\u001b[43m]\u001b[49m\u001b[43m,\u001b[49m\u001b[43m \u001b[49m\u001b[43mplaylist_vecs\u001b[49m\u001b[43m)\u001b[49m\u001b[38;5;241m.\u001b[39mflatten()\n\u001b[0;32m      8\u001b[0m \u001b[38;5;66;03m# Sort with argsort\u001b[39;00m\n\u001b[0;32m      9\u001b[0m sorted_indices \u001b[38;5;241m=\u001b[39m similarities\u001b[38;5;241m.\u001b[39margsort()[::\u001b[38;5;241m-\u001b[39m\u001b[38;5;241m1\u001b[39m]\n",
      "File \u001b[1;32m~\\AppData\\Local\\Packages\\PythonSoftwareFoundation.Python.3.12_qbz5n2kfra8p0\\LocalCache\\local-packages\\Python312\\site-packages\\sklearn\\utils\\_param_validation.py:213\u001b[0m, in \u001b[0;36mvalidate_params.<locals>.decorator.<locals>.wrapper\u001b[1;34m(*args, **kwargs)\u001b[0m\n\u001b[0;32m    207\u001b[0m \u001b[38;5;28;01mtry\u001b[39;00m:\n\u001b[0;32m    208\u001b[0m     \u001b[38;5;28;01mwith\u001b[39;00m config_context(\n\u001b[0;32m    209\u001b[0m         skip_parameter_validation\u001b[38;5;241m=\u001b[39m(\n\u001b[0;32m    210\u001b[0m             prefer_skip_nested_validation \u001b[38;5;129;01mor\u001b[39;00m global_skip_validation\n\u001b[0;32m    211\u001b[0m         )\n\u001b[0;32m    212\u001b[0m     ):\n\u001b[1;32m--> 213\u001b[0m         \u001b[38;5;28;01mreturn\u001b[39;00m \u001b[43mfunc\u001b[49m\u001b[43m(\u001b[49m\u001b[38;5;241;43m*\u001b[39;49m\u001b[43margs\u001b[49m\u001b[43m,\u001b[49m\u001b[43m \u001b[49m\u001b[38;5;241;43m*\u001b[39;49m\u001b[38;5;241;43m*\u001b[39;49m\u001b[43mkwargs\u001b[49m\u001b[43m)\u001b[49m\n\u001b[0;32m    214\u001b[0m \u001b[38;5;28;01mexcept\u001b[39;00m InvalidParameterError \u001b[38;5;28;01mas\u001b[39;00m e:\n\u001b[0;32m    215\u001b[0m     \u001b[38;5;66;03m# When the function is just a wrapper around an estimator, we allow\u001b[39;00m\n\u001b[0;32m    216\u001b[0m     \u001b[38;5;66;03m# the function to delegate validation to the estimator, but we replace\u001b[39;00m\n\u001b[0;32m    217\u001b[0m     \u001b[38;5;66;03m# the name of the estimator by the name of the function in the error\u001b[39;00m\n\u001b[0;32m    218\u001b[0m     \u001b[38;5;66;03m# message to avoid confusion.\u001b[39;00m\n\u001b[0;32m    219\u001b[0m     msg \u001b[38;5;241m=\u001b[39m re\u001b[38;5;241m.\u001b[39msub(\n\u001b[0;32m    220\u001b[0m         \u001b[38;5;124mr\u001b[39m\u001b[38;5;124m\"\u001b[39m\u001b[38;5;124mparameter of \u001b[39m\u001b[38;5;124m\\\u001b[39m\u001b[38;5;124mw+ must be\u001b[39m\u001b[38;5;124m\"\u001b[39m,\n\u001b[0;32m    221\u001b[0m         \u001b[38;5;124mf\u001b[39m\u001b[38;5;124m\"\u001b[39m\u001b[38;5;124mparameter of \u001b[39m\u001b[38;5;132;01m{\u001b[39;00mfunc\u001b[38;5;241m.\u001b[39m\u001b[38;5;18m__qualname__\u001b[39m\u001b[38;5;132;01m}\u001b[39;00m\u001b[38;5;124m must be\u001b[39m\u001b[38;5;124m\"\u001b[39m,\n\u001b[0;32m    222\u001b[0m         \u001b[38;5;28mstr\u001b[39m(e),\n\u001b[0;32m    223\u001b[0m     )\n",
      "File \u001b[1;32m~\\AppData\\Local\\Packages\\PythonSoftwareFoundation.Python.3.12_qbz5n2kfra8p0\\LocalCache\\local-packages\\Python312\\site-packages\\sklearn\\metrics\\pairwise.py:1679\u001b[0m, in \u001b[0;36mcosine_similarity\u001b[1;34m(X, Y, dense_output)\u001b[0m\n\u001b[0;32m   1635\u001b[0m \u001b[38;5;250m\u001b[39m\u001b[38;5;124;03m\"\"\"Compute cosine similarity between samples in X and Y.\u001b[39;00m\n\u001b[0;32m   1636\u001b[0m \n\u001b[0;32m   1637\u001b[0m \u001b[38;5;124;03mCosine similarity, or the cosine kernel, computes similarity as the\u001b[39;00m\n\u001b[1;32m   (...)\u001b[0m\n\u001b[0;32m   1675\u001b[0m \u001b[38;5;124;03m       [0.57..., 0.81...]])\u001b[39;00m\n\u001b[0;32m   1676\u001b[0m \u001b[38;5;124;03m\"\"\"\u001b[39;00m\n\u001b[0;32m   1677\u001b[0m \u001b[38;5;66;03m# to avoid recursive import\u001b[39;00m\n\u001b[1;32m-> 1679\u001b[0m X, Y \u001b[38;5;241m=\u001b[39m \u001b[43mcheck_pairwise_arrays\u001b[49m\u001b[43m(\u001b[49m\u001b[43mX\u001b[49m\u001b[43m,\u001b[49m\u001b[43m \u001b[49m\u001b[43mY\u001b[49m\u001b[43m)\u001b[49m\n\u001b[0;32m   1681\u001b[0m X_normalized \u001b[38;5;241m=\u001b[39m normalize(X, copy\u001b[38;5;241m=\u001b[39m\u001b[38;5;28;01mTrue\u001b[39;00m)\n\u001b[0;32m   1682\u001b[0m \u001b[38;5;28;01mif\u001b[39;00m X \u001b[38;5;129;01mis\u001b[39;00m Y:\n",
      "File \u001b[1;32m~\\AppData\\Local\\Packages\\PythonSoftwareFoundation.Python.3.12_qbz5n2kfra8p0\\LocalCache\\local-packages\\Python312\\site-packages\\sklearn\\metrics\\pairwise.py:166\u001b[0m, in \u001b[0;36mcheck_pairwise_arrays\u001b[1;34m(X, Y, precomputed, dtype, accept_sparse, force_all_finite, ensure_2d, copy)\u001b[0m\n\u001b[0;32m    164\u001b[0m xp, _ \u001b[38;5;241m=\u001b[39m get_namespace(X, Y)\n\u001b[0;32m    165\u001b[0m \u001b[38;5;28;01mif\u001b[39;00m \u001b[38;5;28many\u001b[39m([issparse(X), issparse(Y)]) \u001b[38;5;129;01mor\u001b[39;00m _is_numpy_namespace(xp):\n\u001b[1;32m--> 166\u001b[0m     X, Y, dtype_float \u001b[38;5;241m=\u001b[39m \u001b[43m_return_float_dtype\u001b[49m\u001b[43m(\u001b[49m\u001b[43mX\u001b[49m\u001b[43m,\u001b[49m\u001b[43m \u001b[49m\u001b[43mY\u001b[49m\u001b[43m)\u001b[49m\n\u001b[0;32m    167\u001b[0m \u001b[38;5;28;01melse\u001b[39;00m:\n\u001b[0;32m    168\u001b[0m     dtype_float \u001b[38;5;241m=\u001b[39m _find_matching_floating_dtype(X, Y, xp\u001b[38;5;241m=\u001b[39mxp)\n",
      "File \u001b[1;32m~\\AppData\\Local\\Packages\\PythonSoftwareFoundation.Python.3.12_qbz5n2kfra8p0\\LocalCache\\local-packages\\Python312\\site-packages\\sklearn\\metrics\\pairwise.py:66\u001b[0m, in \u001b[0;36m_return_float_dtype\u001b[1;34m(X, Y)\u001b[0m\n\u001b[0;32m     64\u001b[0m     Y_dtype \u001b[38;5;241m=\u001b[39m X\u001b[38;5;241m.\u001b[39mdtype\n\u001b[0;32m     65\u001b[0m \u001b[38;5;28;01melif\u001b[39;00m \u001b[38;5;129;01mnot\u001b[39;00m issparse(Y) \u001b[38;5;129;01mand\u001b[39;00m \u001b[38;5;129;01mnot\u001b[39;00m \u001b[38;5;28misinstance\u001b[39m(Y, np\u001b[38;5;241m.\u001b[39mndarray):\n\u001b[1;32m---> 66\u001b[0m     Y \u001b[38;5;241m=\u001b[39m \u001b[43mnp\u001b[49m\u001b[38;5;241;43m.\u001b[39;49m\u001b[43masarray\u001b[49m\u001b[43m(\u001b[49m\u001b[43mY\u001b[49m\u001b[43m)\u001b[49m\n\u001b[0;32m     67\u001b[0m     Y_dtype \u001b[38;5;241m=\u001b[39m Y\u001b[38;5;241m.\u001b[39mdtype\n\u001b[0;32m     68\u001b[0m \u001b[38;5;28;01melse\u001b[39;00m:\n",
      "\u001b[1;31mMemoryError\u001b[0m: Unable to allocate 3.55 GiB for an array with shape (4770458, 100) and data type float64"
     ]
    }
   ],
   "source": [
    "get_cosine_similarity_song(\"Love story\")"
   ]
  },
  {
   "cell_type": "code",
   "execution_count": 52,
   "metadata": {},
   "outputs": [
    {
     "data": {
      "text/html": [
       "<div>\n",
       "<style scoped>\n",
       "    .dataframe tbody tr th:only-of-type {\n",
       "        vertical-align: middle;\n",
       "    }\n",
       "\n",
       "    .dataframe tbody tr th {\n",
       "        vertical-align: top;\n",
       "    }\n",
       "\n",
       "    .dataframe thead th {\n",
       "        text-align: right;\n",
       "    }\n",
       "</style>\n",
       "<table border=\"1\" class=\"dataframe\">\n",
       "  <thead>\n",
       "    <tr style=\"text-align: right;\">\n",
       "      <th></th>\n",
       "      <th>user_id</th>\n",
       "      <th>artist</th>\n",
       "      <th>title</th>\n",
       "      <th>playlist_name</th>\n",
       "      <th>tag</th>\n",
       "      <th>year</th>\n",
       "      <th>views</th>\n",
       "      <th>features</th>\n",
       "      <th>lyrics</th>\n",
       "      <th>id</th>\n",
       "      <th>language_cld3</th>\n",
       "      <th>language_ft</th>\n",
       "      <th>language</th>\n",
       "      <th>similarity</th>\n",
       "    </tr>\n",
       "  </thead>\n",
       "  <tbody>\n",
       "    <tr>\n",
       "      <th>617655</th>\n",
       "      <td>6649c6b017eec9ffc91f83d6f386c1f6</td>\n",
       "      <td>Intwine</td>\n",
       "      <td>Cruel Man</td>\n",
       "      <td>Hard Rock</td>\n",
       "      <td>pop</td>\n",
       "      <td>2004</td>\n",
       "      <td>1550</td>\n",
       "      <td>{}</td>\n",
       "      <td>Sick of preaching this to you\\nNobody listens,...</td>\n",
       "      <td>1329717</td>\n",
       "      <td>en</td>\n",
       "      <td>en</td>\n",
       "      <td>en</td>\n",
       "      <td>1.0</td>\n",
       "    </tr>\n",
       "    <tr>\n",
       "      <th>3585797</th>\n",
       "      <td>e979c447d3747b097b58a83f1fb4e894</td>\n",
       "      <td>Uriah Heep</td>\n",
       "      <td>Hot Persuasion</td>\n",
       "      <td>Hard Rock</td>\n",
       "      <td>pop</td>\n",
       "      <td>1982</td>\n",
       "      <td>102</td>\n",
       "      <td>{}</td>\n",
       "      <td>You know you light my candle\\nYou know you loa...</td>\n",
       "      <td>914695</td>\n",
       "      <td>en</td>\n",
       "      <td>en</td>\n",
       "      <td>en</td>\n",
       "      <td>1.0</td>\n",
       "    </tr>\n",
       "    <tr>\n",
       "      <th>3585799</th>\n",
       "      <td>e979c447d3747b097b58a83f1fb4e894</td>\n",
       "      <td>Godsmack</td>\n",
       "      <td>I Am</td>\n",
       "      <td>Hard Rock</td>\n",
       "      <td>rock</td>\n",
       "      <td>2003</td>\n",
       "      <td>1831</td>\n",
       "      <td>{}</td>\n",
       "      <td>[Verse 1]\\nI am your spoken truth\\nI am the li...</td>\n",
       "      <td>273374</td>\n",
       "      <td>en</td>\n",
       "      <td>en</td>\n",
       "      <td>en</td>\n",
       "      <td>1.0</td>\n",
       "    </tr>\n",
       "    <tr>\n",
       "      <th>3585800</th>\n",
       "      <td>e979c447d3747b097b58a83f1fb4e894</td>\n",
       "      <td>Godsmack</td>\n",
       "      <td>I Stand Alone</td>\n",
       "      <td>Hard Rock</td>\n",
       "      <td>rock</td>\n",
       "      <td>2002</td>\n",
       "      <td>34945</td>\n",
       "      <td>{}</td>\n",
       "      <td>[Verse 1]\\nI've told you this once before, you...</td>\n",
       "      <td>209485</td>\n",
       "      <td>en</td>\n",
       "      <td>en</td>\n",
       "      <td>en</td>\n",
       "      <td>1.0</td>\n",
       "    </tr>\n",
       "    <tr>\n",
       "      <th>3585801</th>\n",
       "      <td>e979c447d3747b097b58a83f1fb4e894</td>\n",
       "      <td>Uriah Heep</td>\n",
       "      <td>I Wanna Be Free</td>\n",
       "      <td>Hard Rock</td>\n",
       "      <td>pop</td>\n",
       "      <td>1971</td>\n",
       "      <td>829</td>\n",
       "      <td>{}</td>\n",
       "      <td>[Verse 1]\\nAs I wake up every day\\nWith no new...</td>\n",
       "      <td>1573185</td>\n",
       "      <td>en</td>\n",
       "      <td>en</td>\n",
       "      <td>en</td>\n",
       "      <td>1.0</td>\n",
       "    </tr>\n",
       "  </tbody>\n",
       "</table>\n",
       "</div>"
      ],
      "text/plain": [
       "                                  user_id      artist            title  \\\n",
       "617655   6649c6b017eec9ffc91f83d6f386c1f6     Intwine        Cruel Man   \n",
       "3585797  e979c447d3747b097b58a83f1fb4e894  Uriah Heep   Hot Persuasion   \n",
       "3585799  e979c447d3747b097b58a83f1fb4e894    Godsmack             I Am   \n",
       "3585800  e979c447d3747b097b58a83f1fb4e894    Godsmack    I Stand Alone   \n",
       "3585801  e979c447d3747b097b58a83f1fb4e894  Uriah Heep  I Wanna Be Free   \n",
       "\n",
       "        playlist_name   tag  year  views features  \\\n",
       "617655      Hard Rock   pop  2004   1550       {}   \n",
       "3585797     Hard Rock   pop  1982    102       {}   \n",
       "3585799     Hard Rock  rock  2003   1831       {}   \n",
       "3585800     Hard Rock  rock  2002  34945       {}   \n",
       "3585801     Hard Rock   pop  1971    829       {}   \n",
       "\n",
       "                                                    lyrics       id  \\\n",
       "617655   Sick of preaching this to you\\nNobody listens,...  1329717   \n",
       "3585797  You know you light my candle\\nYou know you loa...   914695   \n",
       "3585799  [Verse 1]\\nI am your spoken truth\\nI am the li...   273374   \n",
       "3585800  [Verse 1]\\nI've told you this once before, you...   209485   \n",
       "3585801  [Verse 1]\\nAs I wake up every day\\nWith no new...  1573185   \n",
       "\n",
       "        language_cld3 language_ft language  similarity  \n",
       "617655             en          en       en         1.0  \n",
       "3585797            en          en       en         1.0  \n",
       "3585799            en          en       en         1.0  \n",
       "3585800            en          en       en         1.0  \n",
       "3585801            en          en       en         1.0  "
      ]
     },
     "execution_count": 52,
     "metadata": {},
     "output_type": "execute_result"
    }
   ],
   "source": [
    "get_cosine_similarity_song(\"Hard rock\")"
   ]
  },
  {
   "cell_type": "code",
   "execution_count": 53,
   "metadata": {},
   "outputs": [
    {
     "data": {
      "text/html": [
       "<div>\n",
       "<style scoped>\n",
       "    .dataframe tbody tr th:only-of-type {\n",
       "        vertical-align: middle;\n",
       "    }\n",
       "\n",
       "    .dataframe tbody tr th {\n",
       "        vertical-align: top;\n",
       "    }\n",
       "\n",
       "    .dataframe thead th {\n",
       "        text-align: right;\n",
       "    }\n",
       "</style>\n",
       "<table border=\"1\" class=\"dataframe\">\n",
       "  <thead>\n",
       "    <tr style=\"text-align: right;\">\n",
       "      <th></th>\n",
       "      <th>user_id</th>\n",
       "      <th>artist</th>\n",
       "      <th>title</th>\n",
       "      <th>playlist_name</th>\n",
       "      <th>tag</th>\n",
       "      <th>year</th>\n",
       "      <th>views</th>\n",
       "      <th>features</th>\n",
       "      <th>lyrics</th>\n",
       "      <th>id</th>\n",
       "      <th>language_cld3</th>\n",
       "      <th>language_ft</th>\n",
       "      <th>language</th>\n",
       "      <th>similarity</th>\n",
       "    </tr>\n",
       "  </thead>\n",
       "  <tbody>\n",
       "    <tr>\n",
       "      <th>1017465</th>\n",
       "      <td>a1636d750f67c7e6754165a2f7856860</td>\n",
       "      <td>Dave Matthews Band</td>\n",
       "      <td>Belly Full</td>\n",
       "      <td>Chill DMB</td>\n",
       "      <td>rock</td>\n",
       "      <td>2012</td>\n",
       "      <td>2037</td>\n",
       "      <td>{}</td>\n",
       "      <td>[Verse 1]\\nOh, my love\\nIf I had my way\\nThen ...</td>\n",
       "      <td>186079</td>\n",
       "      <td>en</td>\n",
       "      <td>en</td>\n",
       "      <td>en</td>\n",
       "      <td>0.999739</td>\n",
       "    </tr>\n",
       "    <tr>\n",
       "      <th>1017475</th>\n",
       "      <td>a1636d750f67c7e6754165a2f7856860</td>\n",
       "      <td>Dave Matthews Band</td>\n",
       "      <td>Snow Outside</td>\n",
       "      <td>Chill DMB</td>\n",
       "      <td>rock</td>\n",
       "      <td>2012</td>\n",
       "      <td>2805</td>\n",
       "      <td>{}</td>\n",
       "      <td>[Verse 1]\\nWell, you are like a secret garden\\...</td>\n",
       "      <td>186113</td>\n",
       "      <td>en</td>\n",
       "      <td>en</td>\n",
       "      <td>en</td>\n",
       "      <td>0.999739</td>\n",
       "    </tr>\n",
       "    <tr>\n",
       "      <th>1017463</th>\n",
       "      <td>a1636d750f67c7e6754165a2f7856860</td>\n",
       "      <td>Jack Johnson</td>\n",
       "      <td>A Pirate Looks At Forty</td>\n",
       "      <td>Chill DMB</td>\n",
       "      <td>pop</td>\n",
       "      <td>2012</td>\n",
       "      <td>3211</td>\n",
       "      <td>{}</td>\n",
       "      <td>Mother, mother ocean, well I have heard you ca...</td>\n",
       "      <td>1798565</td>\n",
       "      <td>en</td>\n",
       "      <td>en</td>\n",
       "      <td>en</td>\n",
       "      <td>0.999739</td>\n",
       "    </tr>\n",
       "    <tr>\n",
       "      <th>1017464</th>\n",
       "      <td>a1636d750f67c7e6754165a2f7856860</td>\n",
       "      <td>Dave Matthews Band</td>\n",
       "      <td>Baby Blue</td>\n",
       "      <td>Chill DMB</td>\n",
       "      <td>rock</td>\n",
       "      <td>2009</td>\n",
       "      <td>5764</td>\n",
       "      <td>{}</td>\n",
       "      <td>[Verse 1]\\nConfess your kiss\\nStill knocks me ...</td>\n",
       "      <td>68711</td>\n",
       "      <td>en</td>\n",
       "      <td>en</td>\n",
       "      <td>en</td>\n",
       "      <td>0.999739</td>\n",
       "    </tr>\n",
       "    <tr>\n",
       "      <th>1017466</th>\n",
       "      <td>a1636d750f67c7e6754165a2f7856860</td>\n",
       "      <td>Dave Matthews Band</td>\n",
       "      <td>Big Eyed Fish</td>\n",
       "      <td>Chill DMB</td>\n",
       "      <td>rock</td>\n",
       "      <td>2002</td>\n",
       "      <td>7708</td>\n",
       "      <td>{}</td>\n",
       "      <td>[Verse 1]\\nLook at this big-eyed fish swimmin'...</td>\n",
       "      <td>187932</td>\n",
       "      <td>en</td>\n",
       "      <td>en</td>\n",
       "      <td>en</td>\n",
       "      <td>0.999739</td>\n",
       "    </tr>\n",
       "  </tbody>\n",
       "</table>\n",
       "</div>"
      ],
      "text/plain": [
       "                                  user_id              artist  \\\n",
       "1017465  a1636d750f67c7e6754165a2f7856860  Dave Matthews Band   \n",
       "1017475  a1636d750f67c7e6754165a2f7856860  Dave Matthews Band   \n",
       "1017463  a1636d750f67c7e6754165a2f7856860        Jack Johnson   \n",
       "1017464  a1636d750f67c7e6754165a2f7856860  Dave Matthews Band   \n",
       "1017466  a1636d750f67c7e6754165a2f7856860  Dave Matthews Band   \n",
       "\n",
       "                           title playlist_name   tag  year  views features  \\\n",
       "1017465               Belly Full     Chill DMB  rock  2012   2037       {}   \n",
       "1017475             Snow Outside     Chill DMB  rock  2012   2805       {}   \n",
       "1017463  A Pirate Looks At Forty     Chill DMB   pop  2012   3211       {}   \n",
       "1017464                Baby Blue     Chill DMB  rock  2009   5764       {}   \n",
       "1017466            Big Eyed Fish     Chill DMB  rock  2002   7708       {}   \n",
       "\n",
       "                                                    lyrics       id  \\\n",
       "1017465  [Verse 1]\\nOh, my love\\nIf I had my way\\nThen ...   186079   \n",
       "1017475  [Verse 1]\\nWell, you are like a secret garden\\...   186113   \n",
       "1017463  Mother, mother ocean, well I have heard you ca...  1798565   \n",
       "1017464  [Verse 1]\\nConfess your kiss\\nStill knocks me ...    68711   \n",
       "1017466  [Verse 1]\\nLook at this big-eyed fish swimmin'...   187932   \n",
       "\n",
       "        language_cld3 language_ft language  similarity  \n",
       "1017465            en          en       en    0.999739  \n",
       "1017475            en          en       en    0.999739  \n",
       "1017463            en          en       en    0.999739  \n",
       "1017464            en          en       en    0.999739  \n",
       "1017466            en          en       en    0.999739  "
      ]
     },
     "execution_count": 53,
     "metadata": {},
     "output_type": "execute_result"
    }
   ],
   "source": [
    "get_cosine_similarity_song(\"Lo-fi chill\")"
   ]
  },
  {
   "cell_type": "code",
   "execution_count": 54,
   "metadata": {},
   "outputs": [
    {
     "data": {
      "text/html": [
       "<div>\n",
       "<style scoped>\n",
       "    .dataframe tbody tr th:only-of-type {\n",
       "        vertical-align: middle;\n",
       "    }\n",
       "\n",
       "    .dataframe tbody tr th {\n",
       "        vertical-align: top;\n",
       "    }\n",
       "\n",
       "    .dataframe thead th {\n",
       "        text-align: right;\n",
       "    }\n",
       "</style>\n",
       "<table border=\"1\" class=\"dataframe\">\n",
       "  <thead>\n",
       "    <tr style=\"text-align: right;\">\n",
       "      <th></th>\n",
       "      <th>user_id</th>\n",
       "      <th>artist</th>\n",
       "      <th>title</th>\n",
       "      <th>playlist_name</th>\n",
       "      <th>tag</th>\n",
       "      <th>year</th>\n",
       "      <th>views</th>\n",
       "      <th>features</th>\n",
       "      <th>lyrics</th>\n",
       "      <th>id</th>\n",
       "      <th>language_cld3</th>\n",
       "      <th>language_ft</th>\n",
       "      <th>language</th>\n",
       "      <th>similarity</th>\n",
       "    </tr>\n",
       "  </thead>\n",
       "  <tbody>\n",
       "    <tr>\n",
       "      <th>4169870</th>\n",
       "      <td>a5993960605e6586e5dffabcd30c2757</td>\n",
       "      <td>YG</td>\n",
       "      <td>Do It To Ya</td>\n",
       "      <td>Rap</td>\n",
       "      <td>rap</td>\n",
       "      <td>2014</td>\n",
       "      <td>168895</td>\n",
       "      <td>{TeeFlii}</td>\n",
       "      <td>[Intro: YG]\\nHey, hey, hey, hey\\nMustard on th...</td>\n",
       "      <td>381670</td>\n",
       "      <td>en</td>\n",
       "      <td>en</td>\n",
       "      <td>en</td>\n",
       "      <td>1.0</td>\n",
       "    </tr>\n",
       "    <tr>\n",
       "      <th>693664</th>\n",
       "      <td>57004eb5876f347f53d9d5c237e8bde6</td>\n",
       "      <td>D12</td>\n",
       "      <td>Fight Music</td>\n",
       "      <td>rap</td>\n",
       "      <td>rap</td>\n",
       "      <td>2001</td>\n",
       "      <td>244185</td>\n",
       "      <td>{}</td>\n",
       "      <td>[Chorus: Eminem]\\nThis kind of music, use it, ...</td>\n",
       "      <td>1890</td>\n",
       "      <td>en</td>\n",
       "      <td>en</td>\n",
       "      <td>en</td>\n",
       "      <td>1.0</td>\n",
       "    </tr>\n",
       "    <tr>\n",
       "      <th>693675</th>\n",
       "      <td>57004eb5876f347f53d9d5c237e8bde6</td>\n",
       "      <td>Lil Wayne</td>\n",
       "      <td>Go DJ</td>\n",
       "      <td>rap</td>\n",
       "      <td>rap</td>\n",
       "      <td>2004</td>\n",
       "      <td>156237</td>\n",
       "      <td>{\"Mannie Fresh\"}</td>\n",
       "      <td>[Intro: Mannie Fresh]\\nYeah, yeah, yeah, yeah,...</td>\n",
       "      <td>250</td>\n",
       "      <td>en</td>\n",
       "      <td>en</td>\n",
       "      <td>en</td>\n",
       "      <td>1.0</td>\n",
       "    </tr>\n",
       "    <tr>\n",
       "      <th>693674</th>\n",
       "      <td>57004eb5876f347f53d9d5c237e8bde6</td>\n",
       "      <td>D12</td>\n",
       "      <td>Girls</td>\n",
       "      <td>rap</td>\n",
       "      <td>rap</td>\n",
       "      <td>2001</td>\n",
       "      <td>275</td>\n",
       "      <td>{}</td>\n",
       "      <td>[Eminem]\\nHey yo dawg\\nI got some shit on my m...</td>\n",
       "      <td>7682026</td>\n",
       "      <td>en</td>\n",
       "      <td>en</td>\n",
       "      <td>en</td>\n",
       "      <td>1.0</td>\n",
       "    </tr>\n",
       "    <tr>\n",
       "      <th>693673</th>\n",
       "      <td>57004eb5876f347f53d9d5c237e8bde6</td>\n",
       "      <td>Busta Rhymes</td>\n",
       "      <td>Gimme Some More</td>\n",
       "      <td>rap</td>\n",
       "      <td>rap</td>\n",
       "      <td>1998</td>\n",
       "      <td>88091</td>\n",
       "      <td>{}</td>\n",
       "      <td>[Intro]\\nYeah, as a shorty, playing in the fro...</td>\n",
       "      <td>9010</td>\n",
       "      <td>en</td>\n",
       "      <td>en</td>\n",
       "      <td>en</td>\n",
       "      <td>1.0</td>\n",
       "    </tr>\n",
       "  </tbody>\n",
       "</table>\n",
       "</div>"
      ],
      "text/plain": [
       "                                  user_id        artist            title  \\\n",
       "4169870  a5993960605e6586e5dffabcd30c2757            YG      Do It To Ya   \n",
       "693664   57004eb5876f347f53d9d5c237e8bde6           D12      Fight Music   \n",
       "693675   57004eb5876f347f53d9d5c237e8bde6     Lil Wayne            Go DJ   \n",
       "693674   57004eb5876f347f53d9d5c237e8bde6           D12            Girls   \n",
       "693673   57004eb5876f347f53d9d5c237e8bde6  Busta Rhymes  Gimme Some More   \n",
       "\n",
       "        playlist_name  tag  year   views          features  \\\n",
       "4169870           Rap  rap  2014  168895         {TeeFlii}   \n",
       "693664            rap  rap  2001  244185                {}   \n",
       "693675            rap  rap  2004  156237  {\"Mannie Fresh\"}   \n",
       "693674            rap  rap  2001     275                {}   \n",
       "693673            rap  rap  1998   88091                {}   \n",
       "\n",
       "                                                    lyrics       id  \\\n",
       "4169870  [Intro: YG]\\nHey, hey, hey, hey\\nMustard on th...   381670   \n",
       "693664   [Chorus: Eminem]\\nThis kind of music, use it, ...     1890   \n",
       "693675   [Intro: Mannie Fresh]\\nYeah, yeah, yeah, yeah,...      250   \n",
       "693674   [Eminem]\\nHey yo dawg\\nI got some shit on my m...  7682026   \n",
       "693673   [Intro]\\nYeah, as a shorty, playing in the fro...     9010   \n",
       "\n",
       "        language_cld3 language_ft language  similarity  \n",
       "4169870            en          en       en         1.0  \n",
       "693664             en          en       en         1.0  \n",
       "693675             en          en       en         1.0  \n",
       "693674             en          en       en         1.0  \n",
       "693673             en          en       en         1.0  "
      ]
     },
     "execution_count": 54,
     "metadata": {},
     "output_type": "execute_result"
    }
   ],
   "source": [
    "get_cosine_similarity_song(\"rap\")"
   ]
  },
  {
   "cell_type": "code",
   "execution_count": null,
   "metadata": {},
   "outputs": [],
   "source": []
  }
 ],
 "metadata": {
  "kernelspec": {
   "display_name": "Python 3",
   "language": "python",
   "name": "python3"
  },
  "language_info": {
   "codemirror_mode": {
    "name": "ipython",
    "version": 3
   },
   "file_extension": ".py",
   "mimetype": "text/x-python",
   "name": "python",
   "nbconvert_exporter": "python",
   "pygments_lexer": "ipython3",
   "version": "3.12.10"
  }
 },
 "nbformat": 4,
 "nbformat_minor": 2
}
